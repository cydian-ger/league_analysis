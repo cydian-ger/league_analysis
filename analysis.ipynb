{
 "cells": [
  {
   "cell_type": "code",
   "execution_count": 1,
   "metadata": {},
   "outputs": [],
   "source": [
    "import pandas as pd\n",
    "from IPython.display import Image\n",
    "import plotly.express as px\n",
    "import ipywidgets as widgets\n",
    "pd.options.display.max_columns = 300\n",
    "import dash\n",
    "from dash import dcc, html\n",
    "from dash.dependencies import Input, Output\n",
    "from PIL import Image\n",
    "import plotly.graph_objects as go\n",
    "\n",
    "champion_roles = pd.read_csv(\"./data/champion_roles.csv\", sep=\",\")"
   ]
  },
  {
   "cell_type": "code",
   "execution_count": 2,
   "metadata": {},
   "outputs": [
    {
     "data": {
      "text/html": [
       "<div>\n",
       "<style scoped>\n",
       "    .dataframe tbody tr th:only-of-type {\n",
       "        vertical-align: middle;\n",
       "    }\n",
       "\n",
       "    .dataframe tbody tr th {\n",
       "        vertical-align: top;\n",
       "    }\n",
       "\n",
       "    .dataframe thead th {\n",
       "        text-align: right;\n",
       "    }\n",
       "</style>\n",
       "<table border=\"1\" class=\"dataframe\">\n",
       "  <thead>\n",
       "    <tr style=\"text-align: right;\">\n",
       "      <th></th>\n",
       "      <th>gameid</th>\n",
       "      <th>datacompleteness</th>\n",
       "      <th>league</th>\n",
       "      <th>year</th>\n",
       "      <th>split</th>\n",
       "      <th>playoffs</th>\n",
       "      <th>date</th>\n",
       "      <th>game</th>\n",
       "      <th>patch</th>\n",
       "      <th>gamelength</th>\n",
       "      <th>ckpm</th>\n",
       "      <th>t1_name</th>\n",
       "      <th>t1_id</th>\n",
       "      <th>t1_ban1</th>\n",
       "      <th>t1_ban2</th>\n",
       "      <th>t1_ban3</th>\n",
       "      <th>t1_ban4</th>\n",
       "      <th>t1_ban5</th>\n",
       "      <th>t1_result</th>\n",
       "      <th>t1_kills</th>\n",
       "      <th>t1_deaths</th>\n",
       "      <th>t1_kpm</th>\n",
       "      <th>t1_side</th>\n",
       "      <th>t1_doublekills</th>\n",
       "      <th>t1_triplekills</th>\n",
       "      <th>t1_quadrakills</th>\n",
       "      <th>t1_pentakills</th>\n",
       "      <th>t1_firstblood</th>\n",
       "      <th>t1_firstdragon</th>\n",
       "      <th>t1_dragons</th>\n",
       "      <th>t1_elementaldrakes</th>\n",
       "      <th>t1_infernals</th>\n",
       "      <th>t1_mountains</th>\n",
       "      <th>t1_clouds</th>\n",
       "      <th>t1_oceans</th>\n",
       "      <th>t1_chemtechs</th>\n",
       "      <th>t1_hextechs</th>\n",
       "      <th>t1_elders</th>\n",
       "      <th>t1_firstherald</th>\n",
       "      <th>t1_heralds</th>\n",
       "      <th>t1_firstbaron</th>\n",
       "      <th>t1_barons</th>\n",
       "      <th>t1_firsttower</th>\n",
       "      <th>t1_towers</th>\n",
       "      <th>t1_firstmidtower</th>\n",
       "      <th>t1_firsttothreetowers</th>\n",
       "      <th>t1_turretplates</th>\n",
       "      <th>t1_inhibitors</th>\n",
       "      <th>t1_damagetochampions</th>\n",
       "      <th>t1_dpm</th>\n",
       "      <th>t1_damageshare</th>\n",
       "      <th>t1_damagetakenperminute</th>\n",
       "      <th>t1_damagemitigatedperminute</th>\n",
       "      <th>t1_wardsplaced</th>\n",
       "      <th>t1_wpm</th>\n",
       "      <th>t1_wardskilled</th>\n",
       "      <th>t1_wcpm</th>\n",
       "      <th>t1_controlwardsbought</th>\n",
       "      <th>t1_visionscore</th>\n",
       "      <th>t1_vspm</th>\n",
       "      <th>t1_totalgold</th>\n",
       "      <th>t1_earnedgold</th>\n",
       "      <th>t1_earned_gpm</th>\n",
       "      <th>t1_earnedgoldshare</th>\n",
       "      <th>t1_goldspent</th>\n",
       "      <th>t1_gspd</th>\n",
       "      <th>t1_totalcs</th>\n",
       "      <th>t1_minionkills</th>\n",
       "      <th>t1_monsterkills</th>\n",
       "      <th>t1_monsterkillsownjungle</th>\n",
       "      <th>t1_monsterkillsenemyjungle</th>\n",
       "      <th>t1_cspm</th>\n",
       "      <th>t1_goldat10</th>\n",
       "      <th>t1_xpat10</th>\n",
       "      <th>t1_csat10</th>\n",
       "      <th>t1_golddiffat10</th>\n",
       "      <th>t1_xpdiffat10</th>\n",
       "      <th>t1_csdiffat10</th>\n",
       "      <th>t1_killsat10</th>\n",
       "      <th>t1_assistsat10</th>\n",
       "      <th>t1_deathsat10</th>\n",
       "      <th>t1_goldat15</th>\n",
       "      <th>t1_xpat15</th>\n",
       "      <th>t1_csat15</th>\n",
       "      <th>t1_golddiffat15</th>\n",
       "      <th>t1_xpdiffat15</th>\n",
       "      <th>t1_csdiffat15</th>\n",
       "      <th>t1_killsat15</th>\n",
       "      <th>t1_assistsat15</th>\n",
       "      <th>t1_deathsat15</th>\n",
       "      <th>t2_name</th>\n",
       "      <th>t2_id</th>\n",
       "      <th>t2_ban1</th>\n",
       "      <th>t2_ban2</th>\n",
       "      <th>t2_ban3</th>\n",
       "      <th>t2_ban4</th>\n",
       "      <th>t2_ban5</th>\n",
       "      <th>t2_result</th>\n",
       "      <th>t2_kills</th>\n",
       "      <th>t2_deaths</th>\n",
       "      <th>t2_kpm</th>\n",
       "      <th>t2_side</th>\n",
       "      <th>t2_doublekills</th>\n",
       "      <th>t2_triplekills</th>\n",
       "      <th>t2_quadrakills</th>\n",
       "      <th>t2_pentakills</th>\n",
       "      <th>t2_firstblood</th>\n",
       "      <th>t2_firstdragon</th>\n",
       "      <th>t2_dragons</th>\n",
       "      <th>t2_elementaldrakes</th>\n",
       "      <th>t2_elementaldrakes.1</th>\n",
       "      <th>t2_infernals</th>\n",
       "      <th>t2_mountains</th>\n",
       "      <th>t2_clouds</th>\n",
       "      <th>t2_oceans</th>\n",
       "      <th>t2_chemtechs</th>\n",
       "      <th>t2_hextechs</th>\n",
       "      <th>t2_elders</th>\n",
       "      <th>t2_firstherald</th>\n",
       "      <th>t2_heralds</th>\n",
       "      <th>t2_firstbaron</th>\n",
       "      <th>t2_barons</th>\n",
       "      <th>t2_firsttower</th>\n",
       "      <th>t2_towers</th>\n",
       "      <th>t2_firstmidtower</th>\n",
       "      <th>t2_firsttothreetowers</th>\n",
       "      <th>t2_turretplates</th>\n",
       "      <th>t2_inhibitors</th>\n",
       "      <th>t2_damagetochampions</th>\n",
       "      <th>t2_dpm</th>\n",
       "      <th>t2_damagetakenperminute</th>\n",
       "      <th>t2_damagemitigatedperminute</th>\n",
       "      <th>t2_wardsplaced</th>\n",
       "      <th>t2_wpm</th>\n",
       "      <th>t2_wardskilled</th>\n",
       "      <th>t2_wcpm</th>\n",
       "      <th>t2_controlwardsbought</th>\n",
       "      <th>t2_visionscore</th>\n",
       "      <th>t2_vspm</th>\n",
       "      <th>t2_totalgold</th>\n",
       "      <th>t2_earnedgold</th>\n",
       "      <th>t2_earned_gpm</th>\n",
       "      <th>t2_earnedgoldshare</th>\n",
       "      <th>t2_goldspent</th>\n",
       "      <th>t2_gspd</th>\n",
       "      <th>t2_totalcs</th>\n",
       "      <th>t2_minionkills</th>\n",
       "      <th>t2_monsterkills</th>\n",
       "      <th>t2_monsterkillsownjungle</th>\n",
       "      <th>t2_monsterkillsenemyjungle</th>\n",
       "      <th>...</th>\n",
       "      <th>t2p3_earned_gpm</th>\n",
       "      <th>t2p3_earnedgoldshare</th>\n",
       "      <th>t2p3_goldspent</th>\n",
       "      <th>t2p3_gspd</th>\n",
       "      <th>t2p3_totalcs</th>\n",
       "      <th>t2p3_minionkills</th>\n",
       "      <th>t2p3_monsterkills</th>\n",
       "      <th>t2p3_monsterkillsownjungle</th>\n",
       "      <th>t2p3_monsterkillsenemyjungle</th>\n",
       "      <th>t2p3_cspm</th>\n",
       "      <th>t2p3_goldat10</th>\n",
       "      <th>t2p3_xpat10</th>\n",
       "      <th>t2p3_csat10</th>\n",
       "      <th>t2p3_golddiffat10</th>\n",
       "      <th>t2p3_xpdiffat10</th>\n",
       "      <th>t2p3_csdiffat10</th>\n",
       "      <th>t2p3_killsat10</th>\n",
       "      <th>t2p3_assistsat10</th>\n",
       "      <th>t2p3_deathsat10</th>\n",
       "      <th>t2p3_goldat15</th>\n",
       "      <th>t2p3_xpat15</th>\n",
       "      <th>t2p3_csat15</th>\n",
       "      <th>t2p3_golddiffat15</th>\n",
       "      <th>t2p3_xpdiffat15</th>\n",
       "      <th>t2p3_csdiffat15</th>\n",
       "      <th>t2p3_killsat15</th>\n",
       "      <th>t2p3_assistsat15</th>\n",
       "      <th>t2p3_deathsat15</th>\n",
       "      <th>t2p4_position</th>\n",
       "      <th>t2p4_playername</th>\n",
       "      <th>t2p4_playerid</th>\n",
       "      <th>t2p4_champion</th>\n",
       "      <th>t2p4_kills</th>\n",
       "      <th>t2p4_deaths</th>\n",
       "      <th>t2p4_assists</th>\n",
       "      <th>t2p4_doublekills</th>\n",
       "      <th>t2p4_triplekills</th>\n",
       "      <th>t2p4_quadrakills</th>\n",
       "      <th>t2p4_pentakills</th>\n",
       "      <th>t2p4_firstblood</th>\n",
       "      <th>t2p4_firstbloodkill</th>\n",
       "      <th>t2p4_firstbloodassist</th>\n",
       "      <th>t2p4_firstbloodvictim</th>\n",
       "      <th>t2p4_firstdragon</th>\n",
       "      <th>t2p4_barons</th>\n",
       "      <th>t2p4_firsttower</th>\n",
       "      <th>t2p4_inhibitors</th>\n",
       "      <th>t2p4_damagetochampions</th>\n",
       "      <th>t2p4_dpm</th>\n",
       "      <th>t2p4_damageshare</th>\n",
       "      <th>t2p4_damagetakenperminute</th>\n",
       "      <th>t2p4_damagemitigatedperminute</th>\n",
       "      <th>t2p4_wardsplaced</th>\n",
       "      <th>t2p4_wpm</th>\n",
       "      <th>t2p4_wardskilled</th>\n",
       "      <th>t2p4_wcpm</th>\n",
       "      <th>t2p4_controlwardsbought</th>\n",
       "      <th>t2p4_visionscore</th>\n",
       "      <th>t2p4_vspm</th>\n",
       "      <th>t2p4_totalgold</th>\n",
       "      <th>t2p4_earnedgold</th>\n",
       "      <th>t2p4_earned_gpm</th>\n",
       "      <th>t2p4_earnedgoldshare</th>\n",
       "      <th>t2p4_goldspent</th>\n",
       "      <th>t2p4_gspd</th>\n",
       "      <th>t2p4_totalcs</th>\n",
       "      <th>t2p4_minionkills</th>\n",
       "      <th>t2p4_monsterkills</th>\n",
       "      <th>t2p4_monsterkillsownjungle</th>\n",
       "      <th>t2p4_monsterkillsenemyjungle</th>\n",
       "      <th>t2p4_cspm</th>\n",
       "      <th>t2p4_goldat10</th>\n",
       "      <th>t2p4_xpat10</th>\n",
       "      <th>t2p4_csat10</th>\n",
       "      <th>t2p4_golddiffat10</th>\n",
       "      <th>t2p4_xpdiffat10</th>\n",
       "      <th>t2p4_csdiffat10</th>\n",
       "      <th>t2p4_killsat10</th>\n",
       "      <th>t2p4_assistsat10</th>\n",
       "      <th>t2p4_deathsat10</th>\n",
       "      <th>t2p4_goldat15</th>\n",
       "      <th>t2p4_xpat15</th>\n",
       "      <th>t2p4_csat15</th>\n",
       "      <th>t2p4_golddiffat15</th>\n",
       "      <th>t2p4_xpdiffat15</th>\n",
       "      <th>t2p4_csdiffat15</th>\n",
       "      <th>t2p4_killsat15</th>\n",
       "      <th>t2p4_assistsat15</th>\n",
       "      <th>t2p4_deathsat15</th>\n",
       "      <th>t2p5_position</th>\n",
       "      <th>t2p5_playername</th>\n",
       "      <th>t2p5_playerid</th>\n",
       "      <th>t2p5_champion</th>\n",
       "      <th>t2p5_kills</th>\n",
       "      <th>t2p5_deaths</th>\n",
       "      <th>t2p5_assists</th>\n",
       "      <th>t2p5_doublekills</th>\n",
       "      <th>t2p5_triplekills</th>\n",
       "      <th>t2p5_quadrakills</th>\n",
       "      <th>t2p5_pentakills</th>\n",
       "      <th>t2p5_firstblood</th>\n",
       "      <th>t2p5_firstbloodkill</th>\n",
       "      <th>t2p5_firstbloodassist</th>\n",
       "      <th>t2p5_firstbloodvictim</th>\n",
       "      <th>t2p5_firstdragon</th>\n",
       "      <th>t2p5_barons</th>\n",
       "      <th>t2p5_firsttower</th>\n",
       "      <th>t2p5_inhibitors</th>\n",
       "      <th>t2p5_damagetochampions</th>\n",
       "      <th>t2p5_dpm</th>\n",
       "      <th>t2p5_damageshare</th>\n",
       "      <th>t2p5_damagetakenperminute</th>\n",
       "      <th>t2p5_damagemitigatedperminute</th>\n",
       "      <th>t2p5_wardsplaced</th>\n",
       "      <th>t2p5_wpm</th>\n",
       "      <th>t2p5_wardskilled</th>\n",
       "      <th>t2p5_wcpm</th>\n",
       "      <th>t2p5_controlwardsbought</th>\n",
       "      <th>t2p5_visionscore</th>\n",
       "      <th>t2p5_vspm</th>\n",
       "      <th>t2p5_totalgold</th>\n",
       "      <th>t2p5_earnedgold</th>\n",
       "      <th>t2p5_earned_gpm</th>\n",
       "      <th>t2p5_earnedgoldshare</th>\n",
       "      <th>t2p5_goldspent</th>\n",
       "      <th>t2p5_gspd</th>\n",
       "      <th>t2p5_totalcs</th>\n",
       "      <th>t2p5_minionkills</th>\n",
       "      <th>t2p5_monsterkills</th>\n",
       "      <th>t2p5_monsterkillsownjungle</th>\n",
       "      <th>t2p5_monsterkillsenemyjungle</th>\n",
       "      <th>t2p5_cspm</th>\n",
       "      <th>t2p5_goldat10</th>\n",
       "      <th>t2p5_xpat10</th>\n",
       "      <th>t2p5_csat10</th>\n",
       "      <th>t2p5_golddiffat10</th>\n",
       "      <th>t2p5_xpdiffat10</th>\n",
       "      <th>t2p5_csdiffat10</th>\n",
       "      <th>t2p5_killsat10</th>\n",
       "      <th>t2p5_assistsat10</th>\n",
       "      <th>t2p5_deathsat10</th>\n",
       "      <th>t2p5_goldat15</th>\n",
       "      <th>t2p5_xpat15</th>\n",
       "      <th>t2p5_csat15</th>\n",
       "      <th>t2p5_golddiffat15</th>\n",
       "      <th>t2p5_xpdiffat15</th>\n",
       "      <th>t2p5_csdiffat15</th>\n",
       "      <th>t2p5_killsat15</th>\n",
       "      <th>t2p5_assistsat15</th>\n",
       "      <th>t2p5_deathsat15</th>\n",
       "    </tr>\n",
       "  </thead>\n",
       "  <tbody>\n",
       "    <tr>\n",
       "      <th>378</th>\n",
       "      <td>LOLTMNT02_34015</td>\n",
       "      <td>complete</td>\n",
       "      <td>PCS</td>\n",
       "      <td>2024</td>\n",
       "      <td>Spring</td>\n",
       "      <td>0</td>\n",
       "      <td>27/01/2024 09:10</td>\n",
       "      <td>1</td>\n",
       "      <td>14.01</td>\n",
       "      <td>2047</td>\n",
       "      <td>0.6155</td>\n",
       "      <td>Frank Esports</td>\n",
       "      <td>oe:team:957a0b20bb6ce6491d39eb82e5fcb17</td>\n",
       "      <td>Ashe</td>\n",
       "      <td>Rumble</td>\n",
       "      <td>Lucian</td>\n",
       "      <td>Caitlyn</td>\n",
       "      <td>Milio</td>\n",
       "      <td>1</td>\n",
       "      <td>16</td>\n",
       "      <td>5</td>\n",
       "      <td>0.4690</td>\n",
       "      <td>Blue</td>\n",
       "      <td>5.0</td>\n",
       "      <td>0.0</td>\n",
       "      <td>0.0</td>\n",
       "      <td>0.0</td>\n",
       "      <td>0</td>\n",
       "      <td>1.0</td>\n",
       "      <td>3</td>\n",
       "      <td>3.0</td>\n",
       "      <td>0.0</td>\n",
       "      <td>2.0</td>\n",
       "      <td>0.0</td>\n",
       "      <td>0.0</td>\n",
       "      <td>0.0</td>\n",
       "      <td>1.0</td>\n",
       "      <td>0.0</td>\n",
       "      <td>0.0</td>\n",
       "      <td>0.0</td>\n",
       "      <td>1.0</td>\n",
       "      <td>2</td>\n",
       "      <td>1.0</td>\n",
       "      <td>10</td>\n",
       "      <td>0.0</td>\n",
       "      <td>0.0</td>\n",
       "      <td>1.0</td>\n",
       "      <td>2</td>\n",
       "      <td>92538</td>\n",
       "      <td>2712.3986</td>\n",
       "      <td>NaN</td>\n",
       "      <td>2564.4064</td>\n",
       "      <td>3236.7465</td>\n",
       "      <td>108</td>\n",
       "      <td>3.1656</td>\n",
       "      <td>101</td>\n",
       "      <td>2.9604</td>\n",
       "      <td>38</td>\n",
       "      <td>312</td>\n",
       "      <td>9.1451</td>\n",
       "      <td>66200</td>\n",
       "      <td>43943</td>\n",
       "      <td>1288.0215</td>\n",
       "      <td>NaN</td>\n",
       "      <td>59775</td>\n",
       "      <td>0.060763</td>\n",
       "      <td>NaN</td>\n",
       "      <td>991.0</td>\n",
       "      <td>184</td>\n",
       "      <td>NaN</td>\n",
       "      <td>NaN</td>\n",
       "      <td>34.4406</td>\n",
       "      <td>15246.0</td>\n",
       "      <td>19368.0</td>\n",
       "      <td>342.0</td>\n",
       "      <td>-1499.0</td>\n",
       "      <td>514.0</td>\n",
       "      <td>12.0</td>\n",
       "      <td>1.0</td>\n",
       "      <td>0.0</td>\n",
       "      <td>3.0</td>\n",
       "      <td>23432.0</td>\n",
       "      <td>30984.0</td>\n",
       "      <td>563.0</td>\n",
       "      <td>-1803.0</td>\n",
       "      <td>147.0</td>\n",
       "      <td>12.0</td>\n",
       "      <td>1.0</td>\n",
       "      <td>0.0</td>\n",
       "      <td>3.0</td>\n",
       "      <td>PSG Talon</td>\n",
       "      <td>oe:team:4880b157399745e82e26e229d8bbf48</td>\n",
       "      <td>Nautilus</td>\n",
       "      <td>Kalista</td>\n",
       "      <td>Orianna</td>\n",
       "      <td>Jax</td>\n",
       "      <td>K'Sante</td>\n",
       "      <td>0</td>\n",
       "      <td>5</td>\n",
       "      <td>16</td>\n",
       "      <td>0.1466</td>\n",
       "      <td>Red</td>\n",
       "      <td>0.0</td>\n",
       "      <td>0.0</td>\n",
       "      <td>0.0</td>\n",
       "      <td>0.0</td>\n",
       "      <td>1</td>\n",
       "      <td>0.0</td>\n",
       "      <td>2</td>\n",
       "      <td>2.0</td>\n",
       "      <td>3.0</td>\n",
       "      <td>0.0</td>\n",
       "      <td>1.0</td>\n",
       "      <td>0.0</td>\n",
       "      <td>1.0</td>\n",
       "      <td>0.0</td>\n",
       "      <td>0.0</td>\n",
       "      <td>NaN</td>\n",
       "      <td>0.0</td>\n",
       "      <td>1.0</td>\n",
       "      <td>0.0</td>\n",
       "      <td>0.0</td>\n",
       "      <td>2.0</td>\n",
       "      <td>0.0</td>\n",
       "      <td>10.0</td>\n",
       "      <td>1.0</td>\n",
       "      <td>1.0</td>\n",
       "      <td>1.0</td>\n",
       "      <td>2</td>\n",
       "      <td>66678.0</td>\n",
       "      <td>NaN</td>\n",
       "      <td>3572.0664</td>\n",
       "      <td>4198.7982</td>\n",
       "      <td>161.0</td>\n",
       "      <td>4.7191</td>\n",
       "      <td>60.0</td>\n",
       "      <td>1.7587</td>\n",
       "      <td>46</td>\n",
       "      <td>317.0</td>\n",
       "      <td>9.2916</td>\n",
       "      <td>58491</td>\n",
       "      <td>36234.0</td>\n",
       "      <td>1062.0616</td>\n",
       "      <td>NaN</td>\n",
       "      <td>56250.0</td>\n",
       "      <td>-0.060763</td>\n",
       "      <td>NaN</td>\n",
       "      <td>938.0</td>\n",
       "      <td>204.0</td>\n",
       "      <td>NaN</td>\n",
       "      <td>...</td>\n",
       "      <td>289.6532</td>\n",
       "      <td>0.272717</td>\n",
       "      <td>12950</td>\n",
       "      <td>NaN</td>\n",
       "      <td>323</td>\n",
       "      <td>305</td>\n",
       "      <td>18</td>\n",
       "      <td>NaN</td>\n",
       "      <td>NaN</td>\n",
       "      <td>9.4675</td>\n",
       "      <td>3432.0</td>\n",
       "      <td>4760.0</td>\n",
       "      <td>91.0</td>\n",
       "      <td>-195.0</td>\n",
       "      <td>-435.0</td>\n",
       "      <td>-8.0</td>\n",
       "      <td>0.0</td>\n",
       "      <td>1.0</td>\n",
       "      <td>0.0</td>\n",
       "      <td>5402.0</td>\n",
       "      <td>7716.0</td>\n",
       "      <td>155.0</td>\n",
       "      <td>-218.0</td>\n",
       "      <td>-568.0</td>\n",
       "      <td>-4.0</td>\n",
       "      <td>0.0</td>\n",
       "      <td>1.0</td>\n",
       "      <td>0.0</td>\n",
       "      <td>bot</td>\n",
       "      <td>Betty</td>\n",
       "      <td>oe:player:7e754adda86a60e0a39d7204ba60424</td>\n",
       "      <td>Aphelios</td>\n",
       "      <td>3</td>\n",
       "      <td>2</td>\n",
       "      <td>1</td>\n",
       "      <td>0.0</td>\n",
       "      <td>0.0</td>\n",
       "      <td>0.0</td>\n",
       "      <td>0.0</td>\n",
       "      <td>1.0</td>\n",
       "      <td>1</td>\n",
       "      <td>0.0</td>\n",
       "      <td>0.0</td>\n",
       "      <td>NaN</td>\n",
       "      <td>0.0</td>\n",
       "      <td>NaN</td>\n",
       "      <td>0.0</td>\n",
       "      <td>15297</td>\n",
       "      <td>448.3732</td>\n",
       "      <td>0.229416</td>\n",
       "      <td>463.3806</td>\n",
       "      <td>534.0791</td>\n",
       "      <td>15</td>\n",
       "      <td>0.4397</td>\n",
       "      <td>13</td>\n",
       "      <td>0.3810</td>\n",
       "      <td>5</td>\n",
       "      <td>40</td>\n",
       "      <td>1.1724</td>\n",
       "      <td>15072</td>\n",
       "      <td>10621</td>\n",
       "      <td>311.3141</td>\n",
       "      <td>0.293112</td>\n",
       "      <td>14975</td>\n",
       "      <td>NaN</td>\n",
       "      <td>352</td>\n",
       "      <td>332</td>\n",
       "      <td>20</td>\n",
       "      <td>NaN</td>\n",
       "      <td>NaN</td>\n",
       "      <td>10.3175</td>\n",
       "      <td>4164.0</td>\n",
       "      <td>3130.0</td>\n",
       "      <td>86.0</td>\n",
       "      <td>1258.0</td>\n",
       "      <td>338.0</td>\n",
       "      <td>14.0</td>\n",
       "      <td>2.0</td>\n",
       "      <td>0.0</td>\n",
       "      <td>0.0</td>\n",
       "      <td>6104.0</td>\n",
       "      <td>5791.0</td>\n",
       "      <td>146.0</td>\n",
       "      <td>1332.0</td>\n",
       "      <td>774.0</td>\n",
       "      <td>16.0</td>\n",
       "      <td>2.0</td>\n",
       "      <td>0.0</td>\n",
       "      <td>0.0</td>\n",
       "      <td>sup</td>\n",
       "      <td>Woody</td>\n",
       "      <td>oe:player:31b5f1d49f55acb4ee7624813bda6b2</td>\n",
       "      <td>Renata Glasc</td>\n",
       "      <td>0</td>\n",
       "      <td>2</td>\n",
       "      <td>4</td>\n",
       "      <td>0.0</td>\n",
       "      <td>0.0</td>\n",
       "      <td>0.0</td>\n",
       "      <td>0.0</td>\n",
       "      <td>1.0</td>\n",
       "      <td>0</td>\n",
       "      <td>1.0</td>\n",
       "      <td>0.0</td>\n",
       "      <td>NaN</td>\n",
       "      <td>0.0</td>\n",
       "      <td>NaN</td>\n",
       "      <td>0.0</td>\n",
       "      <td>6050</td>\n",
       "      <td>177.3327</td>\n",
       "      <td>0.090735</td>\n",
       "      <td>507.2594</td>\n",
       "      <td>293.2584</td>\n",
       "      <td>105</td>\n",
       "      <td>3.0777</td>\n",
       "      <td>25</td>\n",
       "      <td>0.7328</td>\n",
       "      <td>20</td>\n",
       "      <td>162</td>\n",
       "      <td>4.7484</td>\n",
       "      <td>8179</td>\n",
       "      <td>3728</td>\n",
       "      <td>109.2721</td>\n",
       "      <td>0.102875</td>\n",
       "      <td>7950</td>\n",
       "      <td>NaN</td>\n",
       "      <td>41</td>\n",
       "      <td>41</td>\n",
       "      <td>0</td>\n",
       "      <td>NaN</td>\n",
       "      <td>NaN</td>\n",
       "      <td>1.2018</td>\n",
       "      <td>2616.0</td>\n",
       "      <td>2815.0</td>\n",
       "      <td>8.0</td>\n",
       "      <td>375.0</td>\n",
       "      <td>0.0</td>\n",
       "      <td>-13.0</td>\n",
       "      <td>0.0</td>\n",
       "      <td>2.0</td>\n",
       "      <td>0.0</td>\n",
       "      <td>3822.0</td>\n",
       "      <td>4255.0</td>\n",
       "      <td>19.0</td>\n",
       "      <td>441.0</td>\n",
       "      <td>179.0</td>\n",
       "      <td>-18.0</td>\n",
       "      <td>0.0</td>\n",
       "      <td>2.0</td>\n",
       "      <td>0.0</td>\n",
       "    </tr>\n",
       "    <tr>\n",
       "      <th>999</th>\n",
       "      <td>LOLTMNT02_43652</td>\n",
       "      <td>complete</td>\n",
       "      <td>LCS</td>\n",
       "      <td>2024</td>\n",
       "      <td>Spring</td>\n",
       "      <td>0</td>\n",
       "      <td>11/02/2024 22:56</td>\n",
       "      <td>1</td>\n",
       "      <td>14.03</td>\n",
       "      <td>1584</td>\n",
       "      <td>0.7197</td>\n",
       "      <td>Team Liquid</td>\n",
       "      <td>oe:team:8eb884e168f28402ce685bedebb5250</td>\n",
       "      <td>Varus</td>\n",
       "      <td>Wukong</td>\n",
       "      <td>Sion</td>\n",
       "      <td>Zeri</td>\n",
       "      <td>Ezreal</td>\n",
       "      <td>1</td>\n",
       "      <td>16</td>\n",
       "      <td>3</td>\n",
       "      <td>0.6061</td>\n",
       "      <td>Blue</td>\n",
       "      <td>3.0</td>\n",
       "      <td>2.0</td>\n",
       "      <td>0.0</td>\n",
       "      <td>0.0</td>\n",
       "      <td>0</td>\n",
       "      <td>1.0</td>\n",
       "      <td>4</td>\n",
       "      <td>4.0</td>\n",
       "      <td>0.0</td>\n",
       "      <td>1.0</td>\n",
       "      <td>0.0</td>\n",
       "      <td>1.0</td>\n",
       "      <td>2.0</td>\n",
       "      <td>0.0</td>\n",
       "      <td>0.0</td>\n",
       "      <td>1.0</td>\n",
       "      <td>1.0</td>\n",
       "      <td>1.0</td>\n",
       "      <td>1</td>\n",
       "      <td>1.0</td>\n",
       "      <td>9</td>\n",
       "      <td>1.0</td>\n",
       "      <td>1.0</td>\n",
       "      <td>7.0</td>\n",
       "      <td>2</td>\n",
       "      <td>56662</td>\n",
       "      <td>2146.2879</td>\n",
       "      <td>NaN</td>\n",
       "      <td>2789.7727</td>\n",
       "      <td>2371.7424</td>\n",
       "      <td>76</td>\n",
       "      <td>2.8788</td>\n",
       "      <td>36</td>\n",
       "      <td>1.3636</td>\n",
       "      <td>26</td>\n",
       "      <td>223</td>\n",
       "      <td>8.4470</td>\n",
       "      <td>52985</td>\n",
       "      <td>35450</td>\n",
       "      <td>1342.8030</td>\n",
       "      <td>NaN</td>\n",
       "      <td>41800</td>\n",
       "      <td>0.102219</td>\n",
       "      <td>NaN</td>\n",
       "      <td>741.0</td>\n",
       "      <td>150</td>\n",
       "      <td>NaN</td>\n",
       "      <td>NaN</td>\n",
       "      <td>33.7500</td>\n",
       "      <td>16369.0</td>\n",
       "      <td>18618.0</td>\n",
       "      <td>320.0</td>\n",
       "      <td>1684.0</td>\n",
       "      <td>1666.0</td>\n",
       "      <td>27.0</td>\n",
       "      <td>3.0</td>\n",
       "      <td>8.0</td>\n",
       "      <td>1.0</td>\n",
       "      <td>24925.0</td>\n",
       "      <td>29681.0</td>\n",
       "      <td>509.0</td>\n",
       "      <td>2148.0</td>\n",
       "      <td>1546.0</td>\n",
       "      <td>30.0</td>\n",
       "      <td>4.0</td>\n",
       "      <td>9.0</td>\n",
       "      <td>2.0</td>\n",
       "      <td>Shopify Rebellion</td>\n",
       "      <td>oe:team:b360f1d729b0a8e0f29a5243c4200fa</td>\n",
       "      <td>Kalista</td>\n",
       "      <td>Ziggs</td>\n",
       "      <td>Udyr</td>\n",
       "      <td>Ashe</td>\n",
       "      <td>Tahm Kench</td>\n",
       "      <td>0</td>\n",
       "      <td>3</td>\n",
       "      <td>16</td>\n",
       "      <td>0.1136</td>\n",
       "      <td>Red</td>\n",
       "      <td>0.0</td>\n",
       "      <td>0.0</td>\n",
       "      <td>0.0</td>\n",
       "      <td>0.0</td>\n",
       "      <td>1</td>\n",
       "      <td>0.0</td>\n",
       "      <td>0</td>\n",
       "      <td>0.0</td>\n",
       "      <td>4.0</td>\n",
       "      <td>0.0</td>\n",
       "      <td>0.0</td>\n",
       "      <td>0.0</td>\n",
       "      <td>0.0</td>\n",
       "      <td>0.0</td>\n",
       "      <td>0.0</td>\n",
       "      <td>NaN</td>\n",
       "      <td>0.0</td>\n",
       "      <td>0.0</td>\n",
       "      <td>1.0</td>\n",
       "      <td>0.0</td>\n",
       "      <td>1.0</td>\n",
       "      <td>0.0</td>\n",
       "      <td>9.0</td>\n",
       "      <td>0.0</td>\n",
       "      <td>0.0</td>\n",
       "      <td>7.0</td>\n",
       "      <td>2</td>\n",
       "      <td>41388.0</td>\n",
       "      <td>NaN</td>\n",
       "      <td>2795.7955</td>\n",
       "      <td>2419.5455</td>\n",
       "      <td>83.0</td>\n",
       "      <td>3.1439</td>\n",
       "      <td>34.0</td>\n",
       "      <td>1.2879</td>\n",
       "      <td>29</td>\n",
       "      <td>208.0</td>\n",
       "      <td>7.8788</td>\n",
       "      <td>38988</td>\n",
       "      <td>21453.0</td>\n",
       "      <td>812.6136</td>\n",
       "      <td>NaN</td>\n",
       "      <td>37735.0</td>\n",
       "      <td>-0.102219</td>\n",
       "      <td>NaN</td>\n",
       "      <td>672.0</td>\n",
       "      <td>138.0</td>\n",
       "      <td>NaN</td>\n",
       "      <td>...</td>\n",
       "      <td>209.4318</td>\n",
       "      <td>0.257726</td>\n",
       "      <td>8835</td>\n",
       "      <td>NaN</td>\n",
       "      <td>221</td>\n",
       "      <td>217</td>\n",
       "      <td>4</td>\n",
       "      <td>NaN</td>\n",
       "      <td>NaN</td>\n",
       "      <td>8.3712</td>\n",
       "      <td>3530.0</td>\n",
       "      <td>4665.0</td>\n",
       "      <td>84.0</td>\n",
       "      <td>326.0</td>\n",
       "      <td>-199.0</td>\n",
       "      <td>4.0</td>\n",
       "      <td>1.0</td>\n",
       "      <td>0.0</td>\n",
       "      <td>1.0</td>\n",
       "      <td>5619.0</td>\n",
       "      <td>7507.0</td>\n",
       "      <td>132.0</td>\n",
       "      <td>491.0</td>\n",
       "      <td>513.0</td>\n",
       "      <td>9.0</td>\n",
       "      <td>2.0</td>\n",
       "      <td>0.0</td>\n",
       "      <td>1.0</td>\n",
       "      <td>bot</td>\n",
       "      <td>Bvoy</td>\n",
       "      <td>oe:player:494fc60dffbb5da1caa2226baef0ec7</td>\n",
       "      <td>Xayah</td>\n",
       "      <td>0</td>\n",
       "      <td>2</td>\n",
       "      <td>0</td>\n",
       "      <td>0.0</td>\n",
       "      <td>0.0</td>\n",
       "      <td>0.0</td>\n",
       "      <td>0.0</td>\n",
       "      <td>0.0</td>\n",
       "      <td>0</td>\n",
       "      <td>0.0</td>\n",
       "      <td>0.0</td>\n",
       "      <td>NaN</td>\n",
       "      <td>0.0</td>\n",
       "      <td>NaN</td>\n",
       "      <td>0.0</td>\n",
       "      <td>11824</td>\n",
       "      <td>447.8788</td>\n",
       "      <td>0.285687</td>\n",
       "      <td>409.9242</td>\n",
       "      <td>252.6515</td>\n",
       "      <td>11</td>\n",
       "      <td>0.4167</td>\n",
       "      <td>9</td>\n",
       "      <td>0.3409</td>\n",
       "      <td>3</td>\n",
       "      <td>32</td>\n",
       "      <td>1.2121</td>\n",
       "      <td>9094</td>\n",
       "      <td>5587</td>\n",
       "      <td>211.6288</td>\n",
       "      <td>0.260429</td>\n",
       "      <td>8725</td>\n",
       "      <td>NaN</td>\n",
       "      <td>253</td>\n",
       "      <td>243</td>\n",
       "      <td>10</td>\n",
       "      <td>NaN</td>\n",
       "      <td>NaN</td>\n",
       "      <td>9.5833</td>\n",
       "      <td>3167.0</td>\n",
       "      <td>3173.0</td>\n",
       "      <td>79.0</td>\n",
       "      <td>-170.0</td>\n",
       "      <td>129.0</td>\n",
       "      <td>14.0</td>\n",
       "      <td>0.0</td>\n",
       "      <td>0.0</td>\n",
       "      <td>0.0</td>\n",
       "      <td>4937.0</td>\n",
       "      <td>5427.0</td>\n",
       "      <td>136.0</td>\n",
       "      <td>-52.0</td>\n",
       "      <td>154.0</td>\n",
       "      <td>33.0</td>\n",
       "      <td>0.0</td>\n",
       "      <td>0.0</td>\n",
       "      <td>0.0</td>\n",
       "      <td>sup</td>\n",
       "      <td>Zeyzal</td>\n",
       "      <td>oe:player:6841f2d68619d53bdd1cdbf30b5be2c</td>\n",
       "      <td>Rakan</td>\n",
       "      <td>0</td>\n",
       "      <td>4</td>\n",
       "      <td>2</td>\n",
       "      <td>0.0</td>\n",
       "      <td>0.0</td>\n",
       "      <td>0.0</td>\n",
       "      <td>0.0</td>\n",
       "      <td>0.0</td>\n",
       "      <td>0</td>\n",
       "      <td>0.0</td>\n",
       "      <td>0.0</td>\n",
       "      <td>NaN</td>\n",
       "      <td>0.0</td>\n",
       "      <td>NaN</td>\n",
       "      <td>0.0</td>\n",
       "      <td>3647</td>\n",
       "      <td>138.1439</td>\n",
       "      <td>0.088117</td>\n",
       "      <td>458.9394</td>\n",
       "      <td>503.8258</td>\n",
       "      <td>37</td>\n",
       "      <td>1.4015</td>\n",
       "      <td>8</td>\n",
       "      <td>0.3030</td>\n",
       "      <td>10</td>\n",
       "      <td>82</td>\n",
       "      <td>3.1061</td>\n",
       "      <td>5533</td>\n",
       "      <td>2026</td>\n",
       "      <td>76.7424</td>\n",
       "      <td>0.094440</td>\n",
       "      <td>5450</td>\n",
       "      <td>NaN</td>\n",
       "      <td>27</td>\n",
       "      <td>27</td>\n",
       "      <td>0</td>\n",
       "      <td>NaN</td>\n",
       "      <td>NaN</td>\n",
       "      <td>1.0227</td>\n",
       "      <td>2274.0</td>\n",
       "      <td>2091.0</td>\n",
       "      <td>15.0</td>\n",
       "      <td>-886.0</td>\n",
       "      <td>-703.0</td>\n",
       "      <td>-15.0</td>\n",
       "      <td>0.0</td>\n",
       "      <td>0.0</td>\n",
       "      <td>0.0</td>\n",
       "      <td>3486.0</td>\n",
       "      <td>3509.0</td>\n",
       "      <td>21.0</td>\n",
       "      <td>-1005.0</td>\n",
       "      <td>-620.0</td>\n",
       "      <td>-26.0</td>\n",
       "      <td>0.0</td>\n",
       "      <td>1.0</td>\n",
       "      <td>0.0</td>\n",
       "    </tr>\n",
       "    <tr>\n",
       "      <th>192</th>\n",
       "      <td>LOLTMNT02_26933</td>\n",
       "      <td>complete</td>\n",
       "      <td>LCKC</td>\n",
       "      <td>2024</td>\n",
       "      <td>Spring</td>\n",
       "      <td>0</td>\n",
       "      <td>22/01/2024 10:36</td>\n",
       "      <td>2</td>\n",
       "      <td>14.01</td>\n",
       "      <td>2102</td>\n",
       "      <td>0.4567</td>\n",
       "      <td>Nongshim Esports Academy</td>\n",
       "      <td>oe:team:7c64febcd5ccff13dcd035dc6867a00</td>\n",
       "      <td>Rumble</td>\n",
       "      <td>Ashe</td>\n",
       "      <td>Kalista</td>\n",
       "      <td>Maokai</td>\n",
       "      <td>Gwen</td>\n",
       "      <td>1</td>\n",
       "      <td>10</td>\n",
       "      <td>6</td>\n",
       "      <td>0.2854</td>\n",
       "      <td>Blue</td>\n",
       "      <td>2.0</td>\n",
       "      <td>0.0</td>\n",
       "      <td>0.0</td>\n",
       "      <td>0.0</td>\n",
       "      <td>1</td>\n",
       "      <td>1.0</td>\n",
       "      <td>3</td>\n",
       "      <td>3.0</td>\n",
       "      <td>1.0</td>\n",
       "      <td>0.0</td>\n",
       "      <td>2.0</td>\n",
       "      <td>0.0</td>\n",
       "      <td>0.0</td>\n",
       "      <td>0.0</td>\n",
       "      <td>0.0</td>\n",
       "      <td>1.0</td>\n",
       "      <td>1.0</td>\n",
       "      <td>1.0</td>\n",
       "      <td>2</td>\n",
       "      <td>1.0</td>\n",
       "      <td>11</td>\n",
       "      <td>1.0</td>\n",
       "      <td>1.0</td>\n",
       "      <td>3.0</td>\n",
       "      <td>2</td>\n",
       "      <td>71373</td>\n",
       "      <td>2037.2883</td>\n",
       "      <td>NaN</td>\n",
       "      <td>3177.6308</td>\n",
       "      <td>2874.8049</td>\n",
       "      <td>154</td>\n",
       "      <td>4.3958</td>\n",
       "      <td>79</td>\n",
       "      <td>2.2550</td>\n",
       "      <td>45</td>\n",
       "      <td>405</td>\n",
       "      <td>11.5604</td>\n",
       "      <td>67634</td>\n",
       "      <td>44816</td>\n",
       "      <td>1279.2388</td>\n",
       "      <td>NaN</td>\n",
       "      <td>57175</td>\n",
       "      <td>0.046386</td>\n",
       "      <td>NaN</td>\n",
       "      <td>1014.0</td>\n",
       "      <td>221</td>\n",
       "      <td>NaN</td>\n",
       "      <td>NaN</td>\n",
       "      <td>35.2521</td>\n",
       "      <td>17045.0</td>\n",
       "      <td>18441.0</td>\n",
       "      <td>343.0</td>\n",
       "      <td>701.0</td>\n",
       "      <td>538.0</td>\n",
       "      <td>13.0</td>\n",
       "      <td>2.0</td>\n",
       "      <td>4.0</td>\n",
       "      <td>3.0</td>\n",
       "      <td>25391.0</td>\n",
       "      <td>29554.0</td>\n",
       "      <td>540.0</td>\n",
       "      <td>930.0</td>\n",
       "      <td>1061.0</td>\n",
       "      <td>16.0</td>\n",
       "      <td>3.0</td>\n",
       "      <td>7.0</td>\n",
       "      <td>3.0</td>\n",
       "      <td>DRX Challengers</td>\n",
       "      <td>oe:team:55b3d6b2c940afa4e24978c55dfea27</td>\n",
       "      <td>Akali</td>\n",
       "      <td>Poppy</td>\n",
       "      <td>Rell</td>\n",
       "      <td>Vi</td>\n",
       "      <td>Bel'Veth</td>\n",
       "      <td>0</td>\n",
       "      <td>6</td>\n",
       "      <td>10</td>\n",
       "      <td>0.1713</td>\n",
       "      <td>Red</td>\n",
       "      <td>1.0</td>\n",
       "      <td>0.0</td>\n",
       "      <td>0.0</td>\n",
       "      <td>0.0</td>\n",
       "      <td>0</td>\n",
       "      <td>0.0</td>\n",
       "      <td>2</td>\n",
       "      <td>2.0</td>\n",
       "      <td>3.0</td>\n",
       "      <td>0.0</td>\n",
       "      <td>0.0</td>\n",
       "      <td>1.0</td>\n",
       "      <td>0.0</td>\n",
       "      <td>1.0</td>\n",
       "      <td>0.0</td>\n",
       "      <td>NaN</td>\n",
       "      <td>0.0</td>\n",
       "      <td>0.0</td>\n",
       "      <td>1.0</td>\n",
       "      <td>0.0</td>\n",
       "      <td>2.0</td>\n",
       "      <td>0.0</td>\n",
       "      <td>11.0</td>\n",
       "      <td>0.0</td>\n",
       "      <td>0.0</td>\n",
       "      <td>3.0</td>\n",
       "      <td>2</td>\n",
       "      <td>68229.0</td>\n",
       "      <td>NaN</td>\n",
       "      <td>2762.8544</td>\n",
       "      <td>2922.1598</td>\n",
       "      <td>125.0</td>\n",
       "      <td>3.5680</td>\n",
       "      <td>74.0</td>\n",
       "      <td>2.1123</td>\n",
       "      <td>49</td>\n",
       "      <td>318.0</td>\n",
       "      <td>9.0771</td>\n",
       "      <td>55772</td>\n",
       "      <td>32954.0</td>\n",
       "      <td>940.6470</td>\n",
       "      <td>NaN</td>\n",
       "      <td>54583.0</td>\n",
       "      <td>-0.046386</td>\n",
       "      <td>NaN</td>\n",
       "      <td>992.0</td>\n",
       "      <td>157.0</td>\n",
       "      <td>NaN</td>\n",
       "      <td>...</td>\n",
       "      <td>258.2398</td>\n",
       "      <td>0.274547</td>\n",
       "      <td>13475</td>\n",
       "      <td>NaN</td>\n",
       "      <td>299</td>\n",
       "      <td>295</td>\n",
       "      <td>4</td>\n",
       "      <td>NaN</td>\n",
       "      <td>NaN</td>\n",
       "      <td>8.5347</td>\n",
       "      <td>4023.0</td>\n",
       "      <td>4688.0</td>\n",
       "      <td>92.0</td>\n",
       "      <td>612.0</td>\n",
       "      <td>-357.0</td>\n",
       "      <td>-5.0</td>\n",
       "      <td>2.0</td>\n",
       "      <td>0.0</td>\n",
       "      <td>0.0</td>\n",
       "      <td>5796.0</td>\n",
       "      <td>7316.0</td>\n",
       "      <td>146.0</td>\n",
       "      <td>364.0</td>\n",
       "      <td>-324.0</td>\n",
       "      <td>1.0</td>\n",
       "      <td>2.0</td>\n",
       "      <td>0.0</td>\n",
       "      <td>1.0</td>\n",
       "      <td>bot</td>\n",
       "      <td>Paduck</td>\n",
       "      <td>oe:player:326f63d01099f1c8b91620cbc893813</td>\n",
       "      <td>Aphelios</td>\n",
       "      <td>1</td>\n",
       "      <td>2</td>\n",
       "      <td>3</td>\n",
       "      <td>0.0</td>\n",
       "      <td>0.0</td>\n",
       "      <td>0.0</td>\n",
       "      <td>0.0</td>\n",
       "      <td>0.0</td>\n",
       "      <td>0</td>\n",
       "      <td>0.0</td>\n",
       "      <td>0.0</td>\n",
       "      <td>NaN</td>\n",
       "      <td>0.0</td>\n",
       "      <td>NaN</td>\n",
       "      <td>0.0</td>\n",
       "      <td>17013</td>\n",
       "      <td>485.6232</td>\n",
       "      <td>0.249351</td>\n",
       "      <td>517.6499</td>\n",
       "      <td>596.8316</td>\n",
       "      <td>17</td>\n",
       "      <td>0.4853</td>\n",
       "      <td>22</td>\n",
       "      <td>0.6280</td>\n",
       "      <td>7</td>\n",
       "      <td>58</td>\n",
       "      <td>1.6556</td>\n",
       "      <td>12496</td>\n",
       "      <td>7932</td>\n",
       "      <td>226.4129</td>\n",
       "      <td>0.240712</td>\n",
       "      <td>12575</td>\n",
       "      <td>NaN</td>\n",
       "      <td>312</td>\n",
       "      <td>302</td>\n",
       "      <td>10</td>\n",
       "      <td>NaN</td>\n",
       "      <td>NaN</td>\n",
       "      <td>8.9058</td>\n",
       "      <td>3277.0</td>\n",
       "      <td>2952.0</td>\n",
       "      <td>67.0</td>\n",
       "      <td>-654.0</td>\n",
       "      <td>198.0</td>\n",
       "      <td>-5.0</td>\n",
       "      <td>1.0</td>\n",
       "      <td>2.0</td>\n",
       "      <td>0.0</td>\n",
       "      <td>5118.0</td>\n",
       "      <td>4815.0</td>\n",
       "      <td>118.0</td>\n",
       "      <td>-574.0</td>\n",
       "      <td>-316.0</td>\n",
       "      <td>-10.0</td>\n",
       "      <td>1.0</td>\n",
       "      <td>2.0</td>\n",
       "      <td>0.0</td>\n",
       "      <td>sup</td>\n",
       "      <td>Career</td>\n",
       "      <td>oe:player:99e732def3601275db892c84fb85a0c</td>\n",
       "      <td>Milio</td>\n",
       "      <td>0</td>\n",
       "      <td>2</td>\n",
       "      <td>5</td>\n",
       "      <td>0.0</td>\n",
       "      <td>0.0</td>\n",
       "      <td>0.0</td>\n",
       "      <td>0.0</td>\n",
       "      <td>0.0</td>\n",
       "      <td>0</td>\n",
       "      <td>0.0</td>\n",
       "      <td>0.0</td>\n",
       "      <td>NaN</td>\n",
       "      <td>0.0</td>\n",
       "      <td>NaN</td>\n",
       "      <td>0.0</td>\n",
       "      <td>2725</td>\n",
       "      <td>77.7831</td>\n",
       "      <td>0.039939</td>\n",
       "      <td>331.4558</td>\n",
       "      <td>201.0086</td>\n",
       "      <td>57</td>\n",
       "      <td>1.6270</td>\n",
       "      <td>24</td>\n",
       "      <td>0.6851</td>\n",
       "      <td>12</td>\n",
       "      <td>127</td>\n",
       "      <td>3.6251</td>\n",
       "      <td>7603</td>\n",
       "      <td>3039</td>\n",
       "      <td>86.7460</td>\n",
       "      <td>0.092230</td>\n",
       "      <td>7250</td>\n",
       "      <td>NaN</td>\n",
       "      <td>40</td>\n",
       "      <td>40</td>\n",
       "      <td>0</td>\n",
       "      <td>NaN</td>\n",
       "      <td>NaN</td>\n",
       "      <td>1.1418</td>\n",
       "      <td>2435.0</td>\n",
       "      <td>2085.0</td>\n",
       "      <td>13.0</td>\n",
       "      <td>-512.0</td>\n",
       "      <td>-75.0</td>\n",
       "      <td>-4.0</td>\n",
       "      <td>0.0</td>\n",
       "      <td>2.0</td>\n",
       "      <td>1.0</td>\n",
       "      <td>3657.0</td>\n",
       "      <td>3587.0</td>\n",
       "      <td>19.0</td>\n",
       "      <td>-647.0</td>\n",
       "      <td>-154.0</td>\n",
       "      <td>-10.0</td>\n",
       "      <td>0.0</td>\n",
       "      <td>2.0</td>\n",
       "      <td>1.0</td>\n",
       "    </tr>\n",
       "  </tbody>\n",
       "</table>\n",
       "<p>3 rows × 779 columns</p>\n",
       "</div>"
      ],
      "text/plain": [
       "              gameid datacompleteness league  year   split  playoffs  \\\n",
       "378  LOLTMNT02_34015         complete    PCS  2024  Spring         0   \n",
       "999  LOLTMNT02_43652         complete    LCS  2024  Spring         0   \n",
       "192  LOLTMNT02_26933         complete   LCKC  2024  Spring         0   \n",
       "\n",
       "                 date  game  patch  gamelength    ckpm  \\\n",
       "378  27/01/2024 09:10     1  14.01        2047  0.6155   \n",
       "999  11/02/2024 22:56     1  14.03        1584  0.7197   \n",
       "192  22/01/2024 10:36     2  14.01        2102  0.4567   \n",
       "\n",
       "                      t1_name                                    t1_id  \\\n",
       "378             Frank Esports  oe:team:957a0b20bb6ce6491d39eb82e5fcb17   \n",
       "999               Team Liquid  oe:team:8eb884e168f28402ce685bedebb5250   \n",
       "192  Nongshim Esports Academy  oe:team:7c64febcd5ccff13dcd035dc6867a00   \n",
       "\n",
       "    t1_ban1 t1_ban2  t1_ban3  t1_ban4 t1_ban5  t1_result  t1_kills  t1_deaths  \\\n",
       "378    Ashe  Rumble   Lucian  Caitlyn   Milio          1        16          5   \n",
       "999   Varus  Wukong     Sion     Zeri  Ezreal          1        16          3   \n",
       "192  Rumble    Ashe  Kalista   Maokai    Gwen          1        10          6   \n",
       "\n",
       "     t1_kpm t1_side  t1_doublekills  t1_triplekills  t1_quadrakills  \\\n",
       "378  0.4690    Blue             5.0             0.0             0.0   \n",
       "999  0.6061    Blue             3.0             2.0             0.0   \n",
       "192  0.2854    Blue             2.0             0.0             0.0   \n",
       "\n",
       "     t1_pentakills  t1_firstblood  t1_firstdragon  t1_dragons  \\\n",
       "378            0.0              0             1.0           3   \n",
       "999            0.0              0             1.0           4   \n",
       "192            0.0              1             1.0           3   \n",
       "\n",
       "     t1_elementaldrakes  t1_infernals  t1_mountains  t1_clouds  t1_oceans  \\\n",
       "378                 3.0           0.0           2.0        0.0        0.0   \n",
       "999                 4.0           0.0           1.0        0.0        1.0   \n",
       "192                 3.0           1.0           0.0        2.0        0.0   \n",
       "\n",
       "     t1_chemtechs  t1_hextechs  t1_elders  t1_firstherald  t1_heralds  \\\n",
       "378           0.0          1.0        0.0             0.0         0.0   \n",
       "999           2.0          0.0        0.0             1.0         1.0   \n",
       "192           0.0          0.0        0.0             1.0         1.0   \n",
       "\n",
       "     t1_firstbaron  t1_barons  t1_firsttower  t1_towers  t1_firstmidtower  \\\n",
       "378            1.0          2            1.0         10               0.0   \n",
       "999            1.0          1            1.0          9               1.0   \n",
       "192            1.0          2            1.0         11               1.0   \n",
       "\n",
       "     t1_firsttothreetowers  t1_turretplates  t1_inhibitors  \\\n",
       "378                    0.0              1.0              2   \n",
       "999                    1.0              7.0              2   \n",
       "192                    1.0              3.0              2   \n",
       "\n",
       "     t1_damagetochampions     t1_dpm  t1_damageshare  t1_damagetakenperminute  \\\n",
       "378                 92538  2712.3986             NaN                2564.4064   \n",
       "999                 56662  2146.2879             NaN                2789.7727   \n",
       "192                 71373  2037.2883             NaN                3177.6308   \n",
       "\n",
       "     t1_damagemitigatedperminute  t1_wardsplaced  t1_wpm  t1_wardskilled  \\\n",
       "378                    3236.7465             108  3.1656             101   \n",
       "999                    2371.7424              76  2.8788              36   \n",
       "192                    2874.8049             154  4.3958              79   \n",
       "\n",
       "     t1_wcpm  t1_controlwardsbought  t1_visionscore  t1_vspm  t1_totalgold  \\\n",
       "378   2.9604                     38             312   9.1451         66200   \n",
       "999   1.3636                     26             223   8.4470         52985   \n",
       "192   2.2550                     45             405  11.5604         67634   \n",
       "\n",
       "     t1_earnedgold  t1_earned_gpm  t1_earnedgoldshare  t1_goldspent   t1_gspd  \\\n",
       "378          43943      1288.0215                 NaN         59775  0.060763   \n",
       "999          35450      1342.8030                 NaN         41800  0.102219   \n",
       "192          44816      1279.2388                 NaN         57175  0.046386   \n",
       "\n",
       "     t1_totalcs  t1_minionkills  t1_monsterkills  t1_monsterkillsownjungle  \\\n",
       "378         NaN           991.0              184                       NaN   \n",
       "999         NaN           741.0              150                       NaN   \n",
       "192         NaN          1014.0              221                       NaN   \n",
       "\n",
       "     t1_monsterkillsenemyjungle  t1_cspm  t1_goldat10  t1_xpat10  t1_csat10  \\\n",
       "378                         NaN  34.4406      15246.0    19368.0      342.0   \n",
       "999                         NaN  33.7500      16369.0    18618.0      320.0   \n",
       "192                         NaN  35.2521      17045.0    18441.0      343.0   \n",
       "\n",
       "     t1_golddiffat10  t1_xpdiffat10  t1_csdiffat10  t1_killsat10  \\\n",
       "378          -1499.0          514.0           12.0           1.0   \n",
       "999           1684.0         1666.0           27.0           3.0   \n",
       "192            701.0          538.0           13.0           2.0   \n",
       "\n",
       "     t1_assistsat10  t1_deathsat10  t1_goldat15  t1_xpat15  t1_csat15  \\\n",
       "378             0.0            3.0      23432.0    30984.0      563.0   \n",
       "999             8.0            1.0      24925.0    29681.0      509.0   \n",
       "192             4.0            3.0      25391.0    29554.0      540.0   \n",
       "\n",
       "     t1_golddiffat15  t1_xpdiffat15  t1_csdiffat15  t1_killsat15  \\\n",
       "378          -1803.0          147.0           12.0           1.0   \n",
       "999           2148.0         1546.0           30.0           4.0   \n",
       "192            930.0         1061.0           16.0           3.0   \n",
       "\n",
       "     t1_assistsat15  t1_deathsat15            t2_name  \\\n",
       "378             0.0            3.0          PSG Talon   \n",
       "999             9.0            2.0  Shopify Rebellion   \n",
       "192             7.0            3.0    DRX Challengers   \n",
       "\n",
       "                                       t2_id   t2_ban1  t2_ban2  t2_ban3  \\\n",
       "378  oe:team:4880b157399745e82e26e229d8bbf48  Nautilus  Kalista  Orianna   \n",
       "999  oe:team:b360f1d729b0a8e0f29a5243c4200fa   Kalista    Ziggs     Udyr   \n",
       "192  oe:team:55b3d6b2c940afa4e24978c55dfea27     Akali    Poppy     Rell   \n",
       "\n",
       "    t2_ban4     t2_ban5  t2_result  t2_kills  t2_deaths  t2_kpm t2_side  \\\n",
       "378     Jax     K'Sante          0         5         16  0.1466     Red   \n",
       "999    Ashe  Tahm Kench          0         3         16  0.1136     Red   \n",
       "192      Vi    Bel'Veth          0         6         10  0.1713     Red   \n",
       "\n",
       "     t2_doublekills  t2_triplekills  t2_quadrakills  t2_pentakills  \\\n",
       "378             0.0             0.0             0.0            0.0   \n",
       "999             0.0             0.0             0.0            0.0   \n",
       "192             1.0             0.0             0.0            0.0   \n",
       "\n",
       "     t2_firstblood  t2_firstdragon  t2_dragons  t2_elementaldrakes  \\\n",
       "378              1             0.0           2                 2.0   \n",
       "999              1             0.0           0                 0.0   \n",
       "192              0             0.0           2                 2.0   \n",
       "\n",
       "     t2_elementaldrakes.1  t2_infernals  t2_mountains  t2_clouds  t2_oceans  \\\n",
       "378                   3.0           0.0           1.0        0.0        1.0   \n",
       "999                   4.0           0.0           0.0        0.0        0.0   \n",
       "192                   3.0           0.0           0.0        1.0        0.0   \n",
       "\n",
       "     t2_chemtechs  t2_hextechs  t2_elders  t2_firstherald  t2_heralds  \\\n",
       "378           0.0          0.0        NaN             0.0         1.0   \n",
       "999           0.0          0.0        NaN             0.0         0.0   \n",
       "192           1.0          0.0        NaN             0.0         0.0   \n",
       "\n",
       "     t2_firstbaron  t2_barons  t2_firsttower  t2_towers  t2_firstmidtower  \\\n",
       "378            0.0        0.0            2.0        0.0              10.0   \n",
       "999            1.0        0.0            1.0        0.0               9.0   \n",
       "192            1.0        0.0            2.0        0.0              11.0   \n",
       "\n",
       "     t2_firsttothreetowers  t2_turretplates  t2_inhibitors  \\\n",
       "378                    1.0              1.0            1.0   \n",
       "999                    0.0              0.0            7.0   \n",
       "192                    0.0              0.0            3.0   \n",
       "\n",
       "     t2_damagetochampions   t2_dpm  t2_damagetakenperminute  \\\n",
       "378                     2  66678.0                      NaN   \n",
       "999                     2  41388.0                      NaN   \n",
       "192                     2  68229.0                      NaN   \n",
       "\n",
       "     t2_damagemitigatedperminute  t2_wardsplaced  t2_wpm  t2_wardskilled  \\\n",
       "378                    3572.0664       4198.7982   161.0          4.7191   \n",
       "999                    2795.7955       2419.5455    83.0          3.1439   \n",
       "192                    2762.8544       2922.1598   125.0          3.5680   \n",
       "\n",
       "     t2_wcpm  t2_controlwardsbought  t2_visionscore  t2_vspm  t2_totalgold  \\\n",
       "378     60.0                 1.7587              46    317.0        9.2916   \n",
       "999     34.0                 1.2879              29    208.0        7.8788   \n",
       "192     74.0                 2.1123              49    318.0        9.0771   \n",
       "\n",
       "     t2_earnedgold  t2_earned_gpm  t2_earnedgoldshare  t2_goldspent  t2_gspd  \\\n",
       "378          58491        36234.0           1062.0616           NaN  56250.0   \n",
       "999          38988        21453.0            812.6136           NaN  37735.0   \n",
       "192          55772        32954.0            940.6470           NaN  54583.0   \n",
       "\n",
       "     t2_totalcs  t2_minionkills  t2_monsterkills  t2_monsterkillsownjungle  \\\n",
       "378   -0.060763             NaN            938.0                     204.0   \n",
       "999   -0.102219             NaN            672.0                     138.0   \n",
       "192   -0.046386             NaN            992.0                     157.0   \n",
       "\n",
       "     t2_monsterkillsenemyjungle  ...  t2p3_earned_gpm  t2p3_earnedgoldshare  \\\n",
       "378                         NaN  ...         289.6532              0.272717   \n",
       "999                         NaN  ...         209.4318              0.257726   \n",
       "192                         NaN  ...         258.2398              0.274547   \n",
       "\n",
       "     t2p3_goldspent  t2p3_gspd  t2p3_totalcs  t2p3_minionkills  \\\n",
       "378           12950        NaN           323               305   \n",
       "999            8835        NaN           221               217   \n",
       "192           13475        NaN           299               295   \n",
       "\n",
       "     t2p3_monsterkills  t2p3_monsterkillsownjungle  \\\n",
       "378                 18                         NaN   \n",
       "999                  4                         NaN   \n",
       "192                  4                         NaN   \n",
       "\n",
       "     t2p3_monsterkillsenemyjungle  t2p3_cspm  t2p3_goldat10  t2p3_xpat10  \\\n",
       "378                           NaN     9.4675         3432.0       4760.0   \n",
       "999                           NaN     8.3712         3530.0       4665.0   \n",
       "192                           NaN     8.5347         4023.0       4688.0   \n",
       "\n",
       "     t2p3_csat10  t2p3_golddiffat10  t2p3_xpdiffat10  t2p3_csdiffat10  \\\n",
       "378         91.0             -195.0           -435.0             -8.0   \n",
       "999         84.0              326.0           -199.0              4.0   \n",
       "192         92.0              612.0           -357.0             -5.0   \n",
       "\n",
       "     t2p3_killsat10  t2p3_assistsat10  t2p3_deathsat10 t2p3_goldat15  \\\n",
       "378             0.0               1.0              0.0        5402.0   \n",
       "999             1.0               0.0              1.0        5619.0   \n",
       "192             2.0               0.0              0.0        5796.0   \n",
       "\n",
       "    t2p3_xpat15 t2p3_csat15 t2p3_golddiffat15  t2p3_xpdiffat15  \\\n",
       "378      7716.0       155.0            -218.0           -568.0   \n",
       "999      7507.0       132.0             491.0            513.0   \n",
       "192      7316.0       146.0             364.0           -324.0   \n",
       "\n",
       "     t2p3_csdiffat15  t2p3_killsat15  t2p3_assistsat15  t2p3_deathsat15  \\\n",
       "378             -4.0             0.0               1.0              0.0   \n",
       "999              9.0             2.0               0.0              1.0   \n",
       "192              1.0             2.0               0.0              1.0   \n",
       "\n",
       "     t2p4_position  t2p4_playername  \\\n",
       "378            bot            Betty   \n",
       "999            bot             Bvoy   \n",
       "192            bot           Paduck   \n",
       "\n",
       "                                 t2p4_playerid  t2p4_champion  t2p4_kills  \\\n",
       "378  oe:player:7e754adda86a60e0a39d7204ba60424       Aphelios           3   \n",
       "999  oe:player:494fc60dffbb5da1caa2226baef0ec7          Xayah           0   \n",
       "192  oe:player:326f63d01099f1c8b91620cbc893813       Aphelios           1   \n",
       "\n",
       "     t2p4_deaths  t2p4_assists  t2p4_doublekills  t2p4_triplekills  \\\n",
       "378            2             1               0.0               0.0   \n",
       "999            2             0               0.0               0.0   \n",
       "192            2             3               0.0               0.0   \n",
       "\n",
       "     t2p4_quadrakills  t2p4_pentakills  t2p4_firstblood  t2p4_firstbloodkill  \\\n",
       "378               0.0              0.0              1.0                    1   \n",
       "999               0.0              0.0              0.0                    0   \n",
       "192               0.0              0.0              0.0                    0   \n",
       "\n",
       "     t2p4_firstbloodassist  t2p4_firstbloodvictim  t2p4_firstdragon  \\\n",
       "378                    0.0                    0.0               NaN   \n",
       "999                    0.0                    0.0               NaN   \n",
       "192                    0.0                    0.0               NaN   \n",
       "\n",
       "     t2p4_barons  t2p4_firsttower  t2p4_inhibitors  t2p4_damagetochampions  \\\n",
       "378          0.0              NaN              0.0                   15297   \n",
       "999          0.0              NaN              0.0                   11824   \n",
       "192          0.0              NaN              0.0                   17013   \n",
       "\n",
       "     t2p4_dpm  t2p4_damageshare  t2p4_damagetakenperminute  \\\n",
       "378  448.3732          0.229416                   463.3806   \n",
       "999  447.8788          0.285687                   409.9242   \n",
       "192  485.6232          0.249351                   517.6499   \n",
       "\n",
       "     t2p4_damagemitigatedperminute  t2p4_wardsplaced  t2p4_wpm  \\\n",
       "378                       534.0791                15    0.4397   \n",
       "999                       252.6515                11    0.4167   \n",
       "192                       596.8316                17    0.4853   \n",
       "\n",
       "     t2p4_wardskilled  t2p4_wcpm  t2p4_controlwardsbought  t2p4_visionscore  \\\n",
       "378                13     0.3810                        5                40   \n",
       "999                 9     0.3409                        3                32   \n",
       "192                22     0.6280                        7                58   \n",
       "\n",
       "     t2p4_vspm  t2p4_totalgold  t2p4_earnedgold  t2p4_earned_gpm  \\\n",
       "378     1.1724           15072            10621         311.3141   \n",
       "999     1.2121            9094             5587         211.6288   \n",
       "192     1.6556           12496             7932         226.4129   \n",
       "\n",
       "     t2p4_earnedgoldshare  t2p4_goldspent  t2p4_gspd  t2p4_totalcs  \\\n",
       "378              0.293112           14975        NaN           352   \n",
       "999              0.260429            8725        NaN           253   \n",
       "192              0.240712           12575        NaN           312   \n",
       "\n",
       "     t2p4_minionkills  t2p4_monsterkills  t2p4_monsterkillsownjungle  \\\n",
       "378               332                 20                         NaN   \n",
       "999               243                 10                         NaN   \n",
       "192               302                 10                         NaN   \n",
       "\n",
       "     t2p4_monsterkillsenemyjungle  t2p4_cspm  t2p4_goldat10  t2p4_xpat10  \\\n",
       "378                           NaN    10.3175         4164.0       3130.0   \n",
       "999                           NaN     9.5833         3167.0       3173.0   \n",
       "192                           NaN     8.9058         3277.0       2952.0   \n",
       "\n",
       "     t2p4_csat10  t2p4_golddiffat10  t2p4_xpdiffat10  t2p4_csdiffat10  \\\n",
       "378         86.0             1258.0            338.0             14.0   \n",
       "999         79.0             -170.0            129.0             14.0   \n",
       "192         67.0             -654.0            198.0             -5.0   \n",
       "\n",
       "     t2p4_killsat10  t2p4_assistsat10  t2p4_deathsat10 t2p4_goldat15  \\\n",
       "378             2.0               0.0              0.0        6104.0   \n",
       "999             0.0               0.0              0.0        4937.0   \n",
       "192             1.0               2.0              0.0        5118.0   \n",
       "\n",
       "    t2p4_xpat15 t2p4_csat15 t2p4_golddiffat15  t2p4_xpdiffat15  \\\n",
       "378      5791.0       146.0            1332.0            774.0   \n",
       "999      5427.0       136.0             -52.0            154.0   \n",
       "192      4815.0       118.0            -574.0           -316.0   \n",
       "\n",
       "     t2p4_csdiffat15  t2p4_killsat15  t2p4_assistsat15  t2p4_deathsat15  \\\n",
       "378             16.0             2.0               0.0              0.0   \n",
       "999             33.0             0.0               0.0              0.0   \n",
       "192            -10.0             1.0               2.0              0.0   \n",
       "\n",
       "     t2p5_position  t2p5_playername  \\\n",
       "378            sup            Woody   \n",
       "999            sup           Zeyzal   \n",
       "192            sup           Career   \n",
       "\n",
       "                                 t2p5_playerid  t2p5_champion  t2p5_kills  \\\n",
       "378  oe:player:31b5f1d49f55acb4ee7624813bda6b2   Renata Glasc           0   \n",
       "999  oe:player:6841f2d68619d53bdd1cdbf30b5be2c          Rakan           0   \n",
       "192  oe:player:99e732def3601275db892c84fb85a0c          Milio           0   \n",
       "\n",
       "     t2p5_deaths  t2p5_assists  t2p5_doublekills  t2p5_triplekills  \\\n",
       "378            2             4               0.0               0.0   \n",
       "999            4             2               0.0               0.0   \n",
       "192            2             5               0.0               0.0   \n",
       "\n",
       "     t2p5_quadrakills  t2p5_pentakills  t2p5_firstblood  t2p5_firstbloodkill  \\\n",
       "378               0.0              0.0              1.0                    0   \n",
       "999               0.0              0.0              0.0                    0   \n",
       "192               0.0              0.0              0.0                    0   \n",
       "\n",
       "     t2p5_firstbloodassist  t2p5_firstbloodvictim  t2p5_firstdragon  \\\n",
       "378                    1.0                    0.0               NaN   \n",
       "999                    0.0                    0.0               NaN   \n",
       "192                    0.0                    0.0               NaN   \n",
       "\n",
       "     t2p5_barons  t2p5_firsttower  t2p5_inhibitors  t2p5_damagetochampions  \\\n",
       "378          0.0              NaN              0.0                    6050   \n",
       "999          0.0              NaN              0.0                    3647   \n",
       "192          0.0              NaN              0.0                    2725   \n",
       "\n",
       "     t2p5_dpm  t2p5_damageshare  t2p5_damagetakenperminute  \\\n",
       "378  177.3327          0.090735                   507.2594   \n",
       "999  138.1439          0.088117                   458.9394   \n",
       "192   77.7831          0.039939                   331.4558   \n",
       "\n",
       "     t2p5_damagemitigatedperminute  t2p5_wardsplaced  t2p5_wpm  \\\n",
       "378                       293.2584               105    3.0777   \n",
       "999                       503.8258                37    1.4015   \n",
       "192                       201.0086                57    1.6270   \n",
       "\n",
       "     t2p5_wardskilled  t2p5_wcpm  t2p5_controlwardsbought  t2p5_visionscore  \\\n",
       "378                25     0.7328                       20               162   \n",
       "999                 8     0.3030                       10                82   \n",
       "192                24     0.6851                       12               127   \n",
       "\n",
       "     t2p5_vspm  t2p5_totalgold  t2p5_earnedgold  t2p5_earned_gpm  \\\n",
       "378     4.7484            8179             3728         109.2721   \n",
       "999     3.1061            5533             2026          76.7424   \n",
       "192     3.6251            7603             3039          86.7460   \n",
       "\n",
       "     t2p5_earnedgoldshare  t2p5_goldspent  t2p5_gspd  t2p5_totalcs  \\\n",
       "378              0.102875            7950        NaN            41   \n",
       "999              0.094440            5450        NaN            27   \n",
       "192              0.092230            7250        NaN            40   \n",
       "\n",
       "     t2p5_minionkills  t2p5_monsterkills  t2p5_monsterkillsownjungle  \\\n",
       "378                41                  0                         NaN   \n",
       "999                27                  0                         NaN   \n",
       "192                40                  0                         NaN   \n",
       "\n",
       "     t2p5_monsterkillsenemyjungle  t2p5_cspm  t2p5_goldat10  t2p5_xpat10  \\\n",
       "378                           NaN     1.2018         2616.0       2815.0   \n",
       "999                           NaN     1.0227         2274.0       2091.0   \n",
       "192                           NaN     1.1418         2435.0       2085.0   \n",
       "\n",
       "     t2p5_csat10  t2p5_golddiffat10  t2p5_xpdiffat10  t2p5_csdiffat10  \\\n",
       "378          8.0              375.0              0.0            -13.0   \n",
       "999         15.0             -886.0           -703.0            -15.0   \n",
       "192         13.0             -512.0            -75.0             -4.0   \n",
       "\n",
       "     t2p5_killsat10  t2p5_assistsat10  t2p5_deathsat10 t2p5_goldat15  \\\n",
       "378             0.0               2.0              0.0        3822.0   \n",
       "999             0.0               0.0              0.0        3486.0   \n",
       "192             0.0               2.0              1.0        3657.0   \n",
       "\n",
       "    t2p5_xpat15 t2p5_csat15 t2p5_golddiffat15  t2p5_xpdiffat15  \\\n",
       "378      4255.0        19.0             441.0            179.0   \n",
       "999      3509.0        21.0           -1005.0           -620.0   \n",
       "192      3587.0        19.0            -647.0           -154.0   \n",
       "\n",
       "     t2p5_csdiffat15  t2p5_killsat15  t2p5_assistsat15  t2p5_deathsat15  \n",
       "378            -18.0             0.0               2.0              0.0  \n",
       "999            -26.0             0.0               1.0              0.0  \n",
       "192            -10.0             0.0               2.0              1.0  \n",
       "\n",
       "[3 rows x 779 columns]"
      ]
     },
     "execution_count": 2,
     "metadata": {},
     "output_type": "execute_result"
    }
   ],
   "source": [
    "# https://www.kaggle.com/datasets/barthetur/league-of-legends-2024-competitive-game-dataset?resource=download\n",
    "# https://oracleselixir.com/\n",
    "df = pd.read_csv(\"./data/2024_LoL_esports_match_data_from_OraclesElixir_gamedata.csv\", sep=\";\")\n",
    "df = df[df[\"datacompleteness\"] == \"complete\"]\n",
    "\n",
    "# Drop all sets where bans are missing\n",
    "bans = []\n",
    "for nr in [1, 2]:\n",
    "    for bannr in [1, 2, 3, 4, 5]:\n",
    "        bans += [f\"t{nr}_ban{bannr}\"]\n",
    "\n",
    "df = df.dropna(subset=bans)\n",
    "df.sample(3)"
   ]
  },
  {
   "cell_type": "code",
   "execution_count": 3,
   "metadata": {},
   "outputs": [
    {
     "data": {
      "text/html": [
       "<div>\n",
       "<style scoped>\n",
       "    .dataframe tbody tr th:only-of-type {\n",
       "        vertical-align: middle;\n",
       "    }\n",
       "\n",
       "    .dataframe tbody tr th {\n",
       "        vertical-align: top;\n",
       "    }\n",
       "\n",
       "    .dataframe thead th {\n",
       "        text-align: right;\n",
       "    }\n",
       "</style>\n",
       "<table border=\"1\" class=\"dataframe\">\n",
       "  <thead>\n",
       "    <tr style=\"text-align: right;\">\n",
       "      <th></th>\n",
       "      <th>gameid</th>\n",
       "      <th>datacompleteness</th>\n",
       "      <th>league</th>\n",
       "      <th>year</th>\n",
       "      <th>split</th>\n",
       "      <th>playoffs</th>\n",
       "      <th>date</th>\n",
       "      <th>game</th>\n",
       "      <th>patch</th>\n",
       "      <th>result</th>\n",
       "      <th>t1_name</th>\n",
       "      <th>t2_name</th>\n",
       "      <th>t1_ban1</th>\n",
       "      <th>t2_ban1</th>\n",
       "      <th>t1_ban2</th>\n",
       "      <th>t2_ban2</th>\n",
       "      <th>t1_ban3</th>\n",
       "      <th>t2_ban3</th>\n",
       "      <th>t1_ban4</th>\n",
       "      <th>t2_ban4</th>\n",
       "      <th>t1_ban5</th>\n",
       "      <th>t2_ban5</th>\n",
       "      <th>t1_top</th>\n",
       "      <th>t2_top</th>\n",
       "      <th>t1_jng</th>\n",
       "      <th>t2_top</th>\n",
       "      <th>t1_mid</th>\n",
       "      <th>t2_top</th>\n",
       "      <th>t1_adc</th>\n",
       "      <th>t2_top</th>\n",
       "      <th>t1_sup</th>\n",
       "      <th>t2_top</th>\n",
       "    </tr>\n",
       "  </thead>\n",
       "  <tbody>\n",
       "    <tr>\n",
       "      <th>106</th>\n",
       "      <td>LOLTMNT03_31598</td>\n",
       "      <td>complete</td>\n",
       "      <td>LLA</td>\n",
       "      <td>2024</td>\n",
       "      <td>Opening</td>\n",
       "      <td>0</td>\n",
       "      <td>19/01/2024 00:15</td>\n",
       "      <td>1</td>\n",
       "      <td>14.01</td>\n",
       "      <td>1</td>\n",
       "      <td>Estral Esports</td>\n",
       "      <td>INFINITY</td>\n",
       "      <td>Nocturne</td>\n",
       "      <td>Ashe</td>\n",
       "      <td>LeBlanc</td>\n",
       "      <td>Lucian</td>\n",
       "      <td>Orianna</td>\n",
       "      <td>Xin Zhao</td>\n",
       "      <td>Heimerdinger</td>\n",
       "      <td>Vi</td>\n",
       "      <td>Poppy</td>\n",
       "      <td>Jarvan IV</td>\n",
       "      <td>Rumble</td>\n",
       "      <td>Udyr</td>\n",
       "      <td>Rell</td>\n",
       "      <td>Viego</td>\n",
       "      <td>Corki</td>\n",
       "      <td>Neeko</td>\n",
       "      <td>Kalista</td>\n",
       "      <td>Varus</td>\n",
       "      <td>Renata Glasc</td>\n",
       "      <td>Karma</td>\n",
       "    </tr>\n",
       "    <tr>\n",
       "      <th>918</th>\n",
       "      <td>LOLTMNT04_27083</td>\n",
       "      <td>complete</td>\n",
       "      <td>LPLOL</td>\n",
       "      <td>2024</td>\n",
       "      <td>Spring</td>\n",
       "      <td>0</td>\n",
       "      <td>08/02/2024 20:26</td>\n",
       "      <td>1</td>\n",
       "      <td>14.02</td>\n",
       "      <td>1</td>\n",
       "      <td>EGN Esports</td>\n",
       "      <td>Odivelas Sports Club</td>\n",
       "      <td>Ashe</td>\n",
       "      <td>Xin Zhao</td>\n",
       "      <td>Jayce</td>\n",
       "      <td>Kalista</td>\n",
       "      <td>Rumble</td>\n",
       "      <td>Karma</td>\n",
       "      <td>Yone</td>\n",
       "      <td>Jax</td>\n",
       "      <td>Tristana</td>\n",
       "      <td>LeBlanc</td>\n",
       "      <td>K'Sante</td>\n",
       "      <td>Poppy</td>\n",
       "      <td>Brand</td>\n",
       "      <td>Lillia</td>\n",
       "      <td>Twisted Fate</td>\n",
       "      <td>Ezreal</td>\n",
       "      <td>Senna</td>\n",
       "      <td>Varus</td>\n",
       "      <td>Nautilus</td>\n",
       "      <td>Maokai</td>\n",
       "    </tr>\n",
       "    <tr>\n",
       "      <th>972</th>\n",
       "      <td>LOLTMNT04_26271</td>\n",
       "      <td>complete</td>\n",
       "      <td>LEC</td>\n",
       "      <td>2024</td>\n",
       "      <td>Winter</td>\n",
       "      <td>1</td>\n",
       "      <td>10/02/2024 18:52</td>\n",
       "      <td>1</td>\n",
       "      <td>14.02</td>\n",
       "      <td>1</td>\n",
       "      <td>MAD Lions KOI</td>\n",
       "      <td>GiantX</td>\n",
       "      <td>Maokai</td>\n",
       "      <td>Varus</td>\n",
       "      <td>Xin Zhao</td>\n",
       "      <td>Brand</td>\n",
       "      <td>Kalista</td>\n",
       "      <td>Ivern</td>\n",
       "      <td>Blitzcrank</td>\n",
       "      <td>Zac</td>\n",
       "      <td>Rell</td>\n",
       "      <td>Taliyah</td>\n",
       "      <td>Gwen</td>\n",
       "      <td>K'Sante</td>\n",
       "      <td>Vi</td>\n",
       "      <td>Sejuani</td>\n",
       "      <td>Karma</td>\n",
       "      <td>Azir</td>\n",
       "      <td>Senna</td>\n",
       "      <td>Miss Fortune</td>\n",
       "      <td>Nautilus</td>\n",
       "      <td>Alistar</td>\n",
       "    </tr>\n",
       "  </tbody>\n",
       "</table>\n",
       "</div>"
      ],
      "text/plain": [
       "              gameid datacompleteness league  year    split  playoffs  \\\n",
       "106  LOLTMNT03_31598         complete    LLA  2024  Opening         0   \n",
       "918  LOLTMNT04_27083         complete  LPLOL  2024   Spring         0   \n",
       "972  LOLTMNT04_26271         complete    LEC  2024   Winter         1   \n",
       "\n",
       "                 date  game  patch  result         t1_name  \\\n",
       "106  19/01/2024 00:15     1  14.01       1  Estral Esports   \n",
       "918  08/02/2024 20:26     1  14.02       1     EGN Esports   \n",
       "972  10/02/2024 18:52     1  14.02       1   MAD Lions KOI   \n",
       "\n",
       "                  t2_name   t1_ban1   t2_ban1   t1_ban2  t2_ban2  t1_ban3  \\\n",
       "106              INFINITY  Nocturne      Ashe   LeBlanc   Lucian  Orianna   \n",
       "918  Odivelas Sports Club      Ashe  Xin Zhao     Jayce  Kalista   Rumble   \n",
       "972                GiantX    Maokai     Varus  Xin Zhao    Brand  Kalista   \n",
       "\n",
       "      t2_ban3       t1_ban4 t2_ban4   t1_ban5    t2_ban5   t1_top   t2_top  \\\n",
       "106  Xin Zhao  Heimerdinger      Vi     Poppy  Jarvan IV   Rumble     Udyr   \n",
       "918     Karma          Yone     Jax  Tristana    LeBlanc  K'Sante    Poppy   \n",
       "972     Ivern    Blitzcrank     Zac      Rell    Taliyah     Gwen  K'Sante   \n",
       "\n",
       "    t1_jng   t2_top        t1_mid  t2_top   t1_adc        t2_top  \\\n",
       "106   Rell    Viego         Corki   Neeko  Kalista         Varus   \n",
       "918  Brand   Lillia  Twisted Fate  Ezreal    Senna         Varus   \n",
       "972     Vi  Sejuani         Karma    Azir    Senna  Miss Fortune   \n",
       "\n",
       "           t1_sup   t2_top  \n",
       "106  Renata Glasc    Karma  \n",
       "918      Nautilus   Maokai  \n",
       "972      Nautilus  Alistar  "
      ]
     },
     "execution_count": 3,
     "metadata": {},
     "output_type": "execute_result"
    }
   ],
   "source": [
    "team_columns = []\n",
    "for column in [\"name\", \"ban1\", \"ban2\", \"ban3\", \"ban4\", \"ban5\"]:\n",
    "    team_columns += [\"t1_\" + column, \"t2_\" + column]\n",
    "\n",
    "for column in range(1, 6):\n",
    "    column = str(column)\n",
    "    team_columns += [\"t1p\" + column + \"_champion\", \"t2p\" + column + \"_champion\"]\n",
    "\n",
    "df_reduced = df[[\"gameid\", \"datacompleteness\", \"league\", \"year\", \"split\", \"playoffs\", \"date\", \"game\", \"patch\", \"t1_result\"] + team_columns]\n",
    "df_reduced = df_reduced.dropna()\n",
    "df_reduced = df_reduced.rename(columns=\n",
    "                  {\"t1p1_champion\": \"t1_top\",\n",
    "                   \"t1p2_champion\": \"t1_jng\",\n",
    "                   \"t1p3_champion\": \"t1_mid\",\n",
    "                   \"t1p4_champion\": \"t1_adc\",\n",
    "                   \"t1p5_champion\": \"t1_sup\",\n",
    "                   #\n",
    "                   \"t2p1_champion\": \"t2_top\",\n",
    "                   \"t2p2_champion\": \"t2_top\",\n",
    "                   \"t2p3_champion\": \"t2_top\",\n",
    "                   \"t2p4_champion\": \"t2_top\",\n",
    "                   \"t2p5_champion\": \"t2_top\",\n",
    "                   #\n",
    "                   \"t1_result\": \"result\"\n",
    "                   }\n",
    "                  )\n",
    "df_reduced.sample(3)"
   ]
  },
  {
   "cell_type": "code",
   "execution_count": 4,
   "metadata": {},
   "outputs": [
    {
     "data": {
      "text/html": [
       "<div>\n",
       "<style scoped>\n",
       "    .dataframe tbody tr th:only-of-type {\n",
       "        vertical-align: middle;\n",
       "    }\n",
       "\n",
       "    .dataframe tbody tr th {\n",
       "        vertical-align: top;\n",
       "    }\n",
       "\n",
       "    .dataframe thead th {\n",
       "        text-align: right;\n",
       "    }\n",
       "</style>\n",
       "<table border=\"1\" class=\"dataframe\">\n",
       "  <thead>\n",
       "    <tr style=\"text-align: right;\">\n",
       "      <th></th>\n",
       "      <th>gameid</th>\n",
       "      <th>league</th>\n",
       "      <th>year</th>\n",
       "      <th>split</th>\n",
       "      <th>playoffs</th>\n",
       "      <th>date</th>\n",
       "      <th>game</th>\n",
       "      <th>patch</th>\n",
       "      <th>result</th>\n",
       "      <th>t1_name</th>\n",
       "      <th>t2_name</th>\n",
       "      <th>ban</th>\n",
       "      <th>team</th>\n",
       "    </tr>\n",
       "  </thead>\n",
       "  <tbody>\n",
       "    <tr>\n",
       "      <th>3060</th>\n",
       "      <td>LOLTMNT01_48838</td>\n",
       "      <td>HM</td>\n",
       "      <td>2024</td>\n",
       "      <td>Spring</td>\n",
       "      <td>0</td>\n",
       "      <td>06/02/2024 15:26</td>\n",
       "      <td>1</td>\n",
       "      <td>14.02</td>\n",
       "      <td>1</td>\n",
       "      <td>GLORE</td>\n",
       "      <td>BRUTE</td>\n",
       "      <td>Graves</td>\n",
       "      <td>t1</td>\n",
       "    </tr>\n",
       "    <tr>\n",
       "      <th>841</th>\n",
       "      <td>LOLTMNT03_31152</td>\n",
       "      <td>LLA</td>\n",
       "      <td>2024</td>\n",
       "      <td>Opening</td>\n",
       "      <td>0</td>\n",
       "      <td>16/01/2024 22:53</td>\n",
       "      <td>2</td>\n",
       "      <td>14.01</td>\n",
       "      <td>0</td>\n",
       "      <td>Movistar R7</td>\n",
       "      <td>Estral Esports</td>\n",
       "      <td>Renata Glasc</td>\n",
       "      <td>t1</td>\n",
       "    </tr>\n",
       "    <tr>\n",
       "      <th>1332</th>\n",
       "      <td>LOLTMNT02_42116</td>\n",
       "      <td>HM</td>\n",
       "      <td>2024</td>\n",
       "      <td>Spring</td>\n",
       "      <td>0</td>\n",
       "      <td>02/02/2024 16:14</td>\n",
       "      <td>1</td>\n",
       "      <td>14.01</td>\n",
       "      <td>0</td>\n",
       "      <td>Europe Saviors Club</td>\n",
       "      <td>Team UNiTY</td>\n",
       "      <td>Neeko</td>\n",
       "      <td>t1</td>\n",
       "    </tr>\n",
       "  </tbody>\n",
       "</table>\n",
       "</div>"
      ],
      "text/plain": [
       "               gameid league  year    split  playoffs              date  game  \\\n",
       "3060  LOLTMNT01_48838     HM  2024   Spring         0  06/02/2024 15:26     1   \n",
       "841   LOLTMNT03_31152    LLA  2024  Opening         0  16/01/2024 22:53     2   \n",
       "1332  LOLTMNT02_42116     HM  2024   Spring         0  02/02/2024 16:14     1   \n",
       "\n",
       "      patch  result              t1_name         t2_name           ban team  \n",
       "3060  14.02       1                GLORE           BRUTE        Graves   t1  \n",
       "841   14.01       0          Movistar R7  Estral Esports  Renata Glasc   t1  \n",
       "1332  14.01       0  Europe Saviors Club      Team UNiTY         Neeko   t1  "
      ]
     },
     "execution_count": 4,
     "metadata": {},
     "output_type": "execute_result"
    }
   ],
   "source": [
    "\n",
    "ban_columns = [f\"t1_ban{i}\" for i in range(1, 6)] + [f\"t2_ban{i}\" for i in range(1, 6)]\n",
    "df_bans = df_reduced.melt(\n",
    "    id_vars=[\"gameid\", \"league\", \"year\", \"split\", \"playoffs\", \"date\", \"game\", \"patch\", \"result\", \"t1_name\", \"t2_name\"],\n",
    "    value_vars=ban_columns,\n",
    "    var_name=\"ban_type\",\n",
    "    value_name=\"ban\"\n",
    ")\n",
    "\n",
    "# Add team column based on the ban_type\n",
    "df_bans[\"team\"] = df_bans[\"ban_type\"].apply(lambda x: \"t1\" if \"t1\" in x else \"t2\")\n",
    "\n",
    "# Drop unnecessary columns\n",
    "df_bans = df_bans.drop(columns=[\"ban_type\"])\n",
    "\n",
    "# Final DataFrame\n",
    "df_bans.sample(3)"
   ]
  },
  {
   "cell_type": "code",
   "execution_count": 5,
   "metadata": {},
   "outputs": [],
   "source": [
    "ban_counts = df_bans.groupby([\"league\", \"team\", \"ban\"]).size().reset_index(name=\"count\")"
   ]
  },
  {
   "cell_type": "code",
   "execution_count": 6,
   "metadata": {},
   "outputs": [
    {
     "data": {
      "text/html": [
       "\n",
       "        <iframe\n",
       "            width=\"100%\"\n",
       "            height=\"650\"\n",
       "            src=\"http://127.0.0.1:8050/\"\n",
       "            frameborder=\"0\"\n",
       "            allowfullscreen\n",
       "            \n",
       "        ></iframe>\n",
       "        "
      ],
      "text/plain": [
       "<IPython.lib.display.IFrame at 0x1a26bf94b20>"
      ]
     },
     "metadata": {},
     "output_type": "display_data"
    }
   ],
   "source": [
    "top_bans = (\n",
    "    ban_counts.sort_values([\"league\", \"team\", \"count\"], ascending=[True, True, False])\n",
    "    .groupby([\"league\", \"team\"])\n",
    "    .head(5)\n",
    ")\n",
    "\n",
    "# Create a Dash application\n",
    "app = dash.Dash(__name__)\n",
    "\n",
    "# Layout for the app\n",
    "app.layout = html.Div([\n",
    "    html.H1(\"Top 3 Bans per League\"),\n",
    "    \n",
    "    # Dropdown to select a league\n",
    "    dcc.Dropdown(\n",
    "        id=\"league-dropdown\",\n",
    "        options=[{\"label\": league, \"value\": league} for league in df[\"league\"].unique()],\n",
    "        value=df[\"league\"].unique()[0],  # Default value (first league)\n",
    "        style={\"width\": \"50%\"}\n",
    "    ),\n",
    "    \n",
    "    # Graphs to display the top bans for t1 and t2\n",
    "    dcc.Graph(id=\"top-bans-graph-t1\"),  # Correct id for t1 bans\n",
    "    dcc.Graph(id=\"top-bans-graph-t2\"),  # Correct id for t2 bans\n",
    "])\n",
    "\n",
    "@app.callback(\n",
    "    [Output(\"top-bans-graph-t1\", \"figure\"),\n",
    "     Output(\"top-bans-graph-t2\", \"figure\")],\n",
    "    [Input(\"league-dropdown\", \"value\")]\n",
    ")\n",
    "\n",
    "def update_graph(selected_league):\n",
    "    # Filter the data based on the selected league\n",
    "    filtered_df = top_bans[top_bans[\"league\"] == selected_league]\n",
    "    \n",
    "    # Split into t1 and t2 dataframes\n",
    "    filtered_df_t1 = filtered_df[filtered_df['team'] == 't1']\n",
    "    filtered_df_t2 = filtered_df[filtered_df['team'] == 't2']\n",
    "    \n",
    "    def get_graph(filtered_df, selected_league, color):\n",
    "        scale = filtered_df[\"count\"].max()\n",
    "        labels = {\"ban\": \"Champion Ban\", \"count\": \"Ban Count\", \"team\": \"Team\"}\n",
    "        # Create figures for t1 and t2\n",
    "        fig = px.bar(\n",
    "            filtered_df,\n",
    "            x=\"ban\",\n",
    "            y=\"count\",\n",
    "            color_discrete_sequence=[color],\n",
    "            barmode=\"group\",\n",
    "            title=f\"Top 3 Bans for {color.capitalize()} Side in {selected_league}\",\n",
    "            labels=labels\n",
    "        )\n",
    "\n",
    "        for x in fig.data[0].x:\n",
    "            asset_name = \"\".join([c for c in x if c not in \"' \"])\n",
    "            fig.add_layout_image(\n",
    "                source=f\"assets/champion/{asset_name}.png\",\n",
    "                x=x,\n",
    "                y=scale/4,\n",
    "                xref=\"x\",\n",
    "                yref=\"y\",\n",
    "                xanchor=\"center\",\n",
    "                sizex=scale/4,\n",
    "                sizey=scale/4,\n",
    "            )\n",
    "        fig.update_layout(autosize=True)\n",
    "        fig.update_layout(xaxis={\"visible\":False})\n",
    "        return fig\n",
    "\n",
    "\n",
    "    fig_t1 = get_graph(filtered_df_t1, selected_league, \"royalblue\")\n",
    "    fig_t2 = get_graph(filtered_df_t2, selected_league, \"indianred\")\n",
    "    return fig_t1, fig_t2\n",
    "\n",
    "if __name__ == \"__main__\":\n",
    "    app.run_server(debug=True)"
   ]
  },
  {
   "cell_type": "code",
   "execution_count": 7,
   "metadata": {},
   "outputs": [
    {
     "data": {
      "application/vnd.plotly.v1+json": {
       "config": {
        "plotlyServerURL": "https://plot.ly"
       },
       "data": [
        {
         "alignmentgroup": "True",
         "hovertemplate": "Role=Top<br>League=%{x}<br>Ban Percentage (%)=%{y}<extra></extra>",
         "legendgroup": "Top",
         "marker": {
          "color": "#636efa",
          "pattern": {
           "shape": ""
          }
         },
         "name": "Top",
         "offsetgroup": "Top",
         "orientation": "v",
         "showlegend": true,
         "textposition": "auto",
         "type": "bar",
         "x": [
          "AL",
          "CBLOL",
          "CBLOLA",
          "EBL",
          "ESLOL",
          "GLL",
          "HM",
          "LCK",
          "LCKC",
          "LCO",
          "LCS",
          "LEC",
          "LFL",
          "LIT",
          "LJL",
          "LLA",
          "LPLOL",
          "LVP SL",
          "NACL",
          "NLC",
          "PCS",
          "PRM",
          "TCL",
          "UL",
          "VCS"
         ],
         "xaxis": "x",
         "y": [
          22.388059701492537,
          18.39080459770115,
          16.94915254237288,
          25.301204819277107,
          26.41509433962264,
          23.75,
          23.076923076923077,
          20.353982300884958,
          19.19191919191919,
          25.773195876288657,
          23.931623931623932,
          22.48062015503876,
          21,
          23.404255319148938,
          21.782178217821784,
          25,
          23.684210526315788,
          22.115384615384613,
          25.742574257425744,
          22.105263157894736,
          21,
          22.608695652173914,
          20.454545454545457,
          17.142857142857142,
          20
         ],
         "yaxis": "y"
        },
        {
         "alignmentgroup": "True",
         "hovertemplate": "Role=Jungle<br>League=%{x}<br>Ban Percentage (%)=%{y}<extra></extra>",
         "legendgroup": "Jungle",
         "marker": {
          "color": "#EF553B",
          "pattern": {
           "shape": ""
          }
         },
         "name": "Jungle",
         "offsetgroup": "Jungle",
         "orientation": "v",
         "showlegend": true,
         "textposition": "auto",
         "type": "bar",
         "x": [
          "AL",
          "CBLOL",
          "CBLOLA",
          "EBL",
          "ESLOL",
          "GLL",
          "HM",
          "LCK",
          "LCKC",
          "LCO",
          "LCS",
          "LEC",
          "LFL",
          "LIT",
          "LJL",
          "LLA",
          "LPLOL",
          "LVP SL",
          "NACL",
          "NLC",
          "PCS",
          "PRM",
          "TCL",
          "UL",
          "VCS"
         ],
         "xaxis": "x",
         "y": [
          19.402985074626866,
          17.24137931034483,
          10.16949152542373,
          9.63855421686747,
          15.09433962264151,
          11.25,
          17.307692307692307,
          18.58407079646018,
          15.151515151515152,
          17.525773195876287,
          18.803418803418804,
          17.05426356589147,
          13,
          15.957446808510639,
          15.841584158415841,
          18,
          12.280701754385964,
          13.461538461538462,
          16.831683168316832,
          18.947368421052634,
          18,
          13.043478260869565,
          13.636363636363635,
          15.238095238095239,
          14.444444444444443
         ],
         "yaxis": "y"
        },
        {
         "alignmentgroup": "True",
         "hovertemplate": "Role=Middle<br>League=%{x}<br>Ban Percentage (%)=%{y}<extra></extra>",
         "legendgroup": "Middle",
         "marker": {
          "color": "#00cc96",
          "pattern": {
           "shape": ""
          }
         },
         "name": "Middle",
         "offsetgroup": "Middle",
         "orientation": "v",
         "showlegend": true,
         "textposition": "auto",
         "type": "bar",
         "x": [
          "AL",
          "CBLOL",
          "CBLOLA",
          "EBL",
          "ESLOL",
          "GLL",
          "HM",
          "LCK",
          "LCKC",
          "LCO",
          "LCS",
          "LEC",
          "LFL",
          "LIT",
          "LJL",
          "LLA",
          "LPLOL",
          "LVP SL",
          "NACL",
          "NLC",
          "PCS",
          "PRM",
          "TCL",
          "UL",
          "VCS"
         ],
         "xaxis": "x",
         "y": [
          19.402985074626866,
          17.24137931034483,
          28.8135593220339,
          16.867469879518072,
          16.037735849056602,
          18.75,
          19.230769230769234,
          19.469026548672566,
          18.181818181818183,
          16.49484536082474,
          15.384615384615385,
          16.27906976744186,
          18,
          18.085106382978726,
          18.81188118811881,
          18,
          21.052631578947366,
          15.384615384615385,
          14.85148514851485,
          20,
          20,
          19.130434782608695,
          15.909090909090908,
          16.19047619047619,
          20
         ],
         "yaxis": "y"
        },
        {
         "alignmentgroup": "True",
         "hovertemplate": "Role=Bottom<br>League=%{x}<br>Ban Percentage (%)=%{y}<extra></extra>",
         "legendgroup": "Bottom",
         "marker": {
          "color": "#ab63fa",
          "pattern": {
           "shape": ""
          }
         },
         "name": "Bottom",
         "offsetgroup": "Bottom",
         "orientation": "v",
         "showlegend": true,
         "textposition": "auto",
         "type": "bar",
         "x": [
          "AL",
          "CBLOL",
          "CBLOLA",
          "EBL",
          "ESLOL",
          "GLL",
          "HM",
          "LCK",
          "LCKC",
          "LCO",
          "LCS",
          "LEC",
          "LFL",
          "LIT",
          "LJL",
          "LLA",
          "LPLOL",
          "LVP SL",
          "NACL",
          "NLC",
          "PCS",
          "PRM",
          "TCL",
          "UL",
          "VCS"
         ],
         "xaxis": "x",
         "y": [
          17.91044776119403,
          20.689655172413794,
          18.64406779661017,
          22.89156626506024,
          20.754716981132077,
          22.5,
          17.307692307692307,
          20.353982300884958,
          25.252525252525253,
          17.525773195876287,
          20.51282051282051,
          18.6046511627907,
          22,
          20.212765957446805,
          22.772277227722775,
          19,
          14.035087719298245,
          23.076923076923077,
          22.772277227722775,
          14.736842105263156,
          18,
          19.130434782608695,
          20.454545454545457,
          21.904761904761905,
          20
         ],
         "yaxis": "y"
        },
        {
         "alignmentgroup": "True",
         "hovertemplate": "Role=Support<br>League=%{x}<br>Ban Percentage (%)=%{y}<extra></extra>",
         "legendgroup": "Support",
         "marker": {
          "color": "#FFA15A",
          "pattern": {
           "shape": ""
          }
         },
         "name": "Support",
         "offsetgroup": "Support",
         "orientation": "v",
         "showlegend": true,
         "textposition": "auto",
         "type": "bar",
         "x": [
          "AL",
          "CBLOL",
          "CBLOLA",
          "EBL",
          "ESLOL",
          "GLL",
          "HM",
          "LCK",
          "LCKC",
          "LCO",
          "LCS",
          "LEC",
          "LFL",
          "LIT",
          "LJL",
          "LLA",
          "LPLOL",
          "LVP SL",
          "NACL",
          "NLC",
          "PCS",
          "PRM",
          "TCL",
          "UL",
          "VCS"
         ],
         "xaxis": "x",
         "y": [
          20.8955223880597,
          26.436781609195403,
          25.423728813559322,
          25.301204819277107,
          21.69811320754717,
          23.75,
          23.076923076923077,
          21.238938053097346,
          22.22222222222222,
          22.68041237113402,
          21.367521367521366,
          25.581395348837212,
          26,
          22.340425531914892,
          20.792079207920793,
          20,
          28.947368421052634,
          25.961538461538463,
          19.801980198019802,
          24.210526315789473,
          23,
          26.08695652173913,
          29.545454545454547,
          29.523809523809526,
          25.555555555555554
         ],
         "yaxis": "y"
        }
       ],
       "layout": {
        "barmode": "stack",
        "legend": {
         "title": {
          "text": "Role"
         },
         "tracegroupgap": 0
        },
        "template": {
         "data": {
          "bar": [
           {
            "error_x": {
             "color": "#2a3f5f"
            },
            "error_y": {
             "color": "#2a3f5f"
            },
            "marker": {
             "line": {
              "color": "#E5ECF6",
              "width": 0.5
             },
             "pattern": {
              "fillmode": "overlay",
              "size": 10,
              "solidity": 0.2
             }
            },
            "type": "bar"
           }
          ],
          "barpolar": [
           {
            "marker": {
             "line": {
              "color": "#E5ECF6",
              "width": 0.5
             },
             "pattern": {
              "fillmode": "overlay",
              "size": 10,
              "solidity": 0.2
             }
            },
            "type": "barpolar"
           }
          ],
          "carpet": [
           {
            "aaxis": {
             "endlinecolor": "#2a3f5f",
             "gridcolor": "white",
             "linecolor": "white",
             "minorgridcolor": "white",
             "startlinecolor": "#2a3f5f"
            },
            "baxis": {
             "endlinecolor": "#2a3f5f",
             "gridcolor": "white",
             "linecolor": "white",
             "minorgridcolor": "white",
             "startlinecolor": "#2a3f5f"
            },
            "type": "carpet"
           }
          ],
          "choropleth": [
           {
            "colorbar": {
             "outlinewidth": 0,
             "ticks": ""
            },
            "type": "choropleth"
           }
          ],
          "contour": [
           {
            "colorbar": {
             "outlinewidth": 0,
             "ticks": ""
            },
            "colorscale": [
             [
              0,
              "#0d0887"
             ],
             [
              0.1111111111111111,
              "#46039f"
             ],
             [
              0.2222222222222222,
              "#7201a8"
             ],
             [
              0.3333333333333333,
              "#9c179e"
             ],
             [
              0.4444444444444444,
              "#bd3786"
             ],
             [
              0.5555555555555556,
              "#d8576b"
             ],
             [
              0.6666666666666666,
              "#ed7953"
             ],
             [
              0.7777777777777778,
              "#fb9f3a"
             ],
             [
              0.8888888888888888,
              "#fdca26"
             ],
             [
              1,
              "#f0f921"
             ]
            ],
            "type": "contour"
           }
          ],
          "contourcarpet": [
           {
            "colorbar": {
             "outlinewidth": 0,
             "ticks": ""
            },
            "type": "contourcarpet"
           }
          ],
          "heatmap": [
           {
            "colorbar": {
             "outlinewidth": 0,
             "ticks": ""
            },
            "colorscale": [
             [
              0,
              "#0d0887"
             ],
             [
              0.1111111111111111,
              "#46039f"
             ],
             [
              0.2222222222222222,
              "#7201a8"
             ],
             [
              0.3333333333333333,
              "#9c179e"
             ],
             [
              0.4444444444444444,
              "#bd3786"
             ],
             [
              0.5555555555555556,
              "#d8576b"
             ],
             [
              0.6666666666666666,
              "#ed7953"
             ],
             [
              0.7777777777777778,
              "#fb9f3a"
             ],
             [
              0.8888888888888888,
              "#fdca26"
             ],
             [
              1,
              "#f0f921"
             ]
            ],
            "type": "heatmap"
           }
          ],
          "heatmapgl": [
           {
            "colorbar": {
             "outlinewidth": 0,
             "ticks": ""
            },
            "colorscale": [
             [
              0,
              "#0d0887"
             ],
             [
              0.1111111111111111,
              "#46039f"
             ],
             [
              0.2222222222222222,
              "#7201a8"
             ],
             [
              0.3333333333333333,
              "#9c179e"
             ],
             [
              0.4444444444444444,
              "#bd3786"
             ],
             [
              0.5555555555555556,
              "#d8576b"
             ],
             [
              0.6666666666666666,
              "#ed7953"
             ],
             [
              0.7777777777777778,
              "#fb9f3a"
             ],
             [
              0.8888888888888888,
              "#fdca26"
             ],
             [
              1,
              "#f0f921"
             ]
            ],
            "type": "heatmapgl"
           }
          ],
          "histogram": [
           {
            "marker": {
             "pattern": {
              "fillmode": "overlay",
              "size": 10,
              "solidity": 0.2
             }
            },
            "type": "histogram"
           }
          ],
          "histogram2d": [
           {
            "colorbar": {
             "outlinewidth": 0,
             "ticks": ""
            },
            "colorscale": [
             [
              0,
              "#0d0887"
             ],
             [
              0.1111111111111111,
              "#46039f"
             ],
             [
              0.2222222222222222,
              "#7201a8"
             ],
             [
              0.3333333333333333,
              "#9c179e"
             ],
             [
              0.4444444444444444,
              "#bd3786"
             ],
             [
              0.5555555555555556,
              "#d8576b"
             ],
             [
              0.6666666666666666,
              "#ed7953"
             ],
             [
              0.7777777777777778,
              "#fb9f3a"
             ],
             [
              0.8888888888888888,
              "#fdca26"
             ],
             [
              1,
              "#f0f921"
             ]
            ],
            "type": "histogram2d"
           }
          ],
          "histogram2dcontour": [
           {
            "colorbar": {
             "outlinewidth": 0,
             "ticks": ""
            },
            "colorscale": [
             [
              0,
              "#0d0887"
             ],
             [
              0.1111111111111111,
              "#46039f"
             ],
             [
              0.2222222222222222,
              "#7201a8"
             ],
             [
              0.3333333333333333,
              "#9c179e"
             ],
             [
              0.4444444444444444,
              "#bd3786"
             ],
             [
              0.5555555555555556,
              "#d8576b"
             ],
             [
              0.6666666666666666,
              "#ed7953"
             ],
             [
              0.7777777777777778,
              "#fb9f3a"
             ],
             [
              0.8888888888888888,
              "#fdca26"
             ],
             [
              1,
              "#f0f921"
             ]
            ],
            "type": "histogram2dcontour"
           }
          ],
          "mesh3d": [
           {
            "colorbar": {
             "outlinewidth": 0,
             "ticks": ""
            },
            "type": "mesh3d"
           }
          ],
          "parcoords": [
           {
            "line": {
             "colorbar": {
              "outlinewidth": 0,
              "ticks": ""
             }
            },
            "type": "parcoords"
           }
          ],
          "pie": [
           {
            "automargin": true,
            "type": "pie"
           }
          ],
          "scatter": [
           {
            "fillpattern": {
             "fillmode": "overlay",
             "size": 10,
             "solidity": 0.2
            },
            "type": "scatter"
           }
          ],
          "scatter3d": [
           {
            "line": {
             "colorbar": {
              "outlinewidth": 0,
              "ticks": ""
             }
            },
            "marker": {
             "colorbar": {
              "outlinewidth": 0,
              "ticks": ""
             }
            },
            "type": "scatter3d"
           }
          ],
          "scattercarpet": [
           {
            "marker": {
             "colorbar": {
              "outlinewidth": 0,
              "ticks": ""
             }
            },
            "type": "scattercarpet"
           }
          ],
          "scattergeo": [
           {
            "marker": {
             "colorbar": {
              "outlinewidth": 0,
              "ticks": ""
             }
            },
            "type": "scattergeo"
           }
          ],
          "scattergl": [
           {
            "marker": {
             "colorbar": {
              "outlinewidth": 0,
              "ticks": ""
             }
            },
            "type": "scattergl"
           }
          ],
          "scattermapbox": [
           {
            "marker": {
             "colorbar": {
              "outlinewidth": 0,
              "ticks": ""
             }
            },
            "type": "scattermapbox"
           }
          ],
          "scatterpolar": [
           {
            "marker": {
             "colorbar": {
              "outlinewidth": 0,
              "ticks": ""
             }
            },
            "type": "scatterpolar"
           }
          ],
          "scatterpolargl": [
           {
            "marker": {
             "colorbar": {
              "outlinewidth": 0,
              "ticks": ""
             }
            },
            "type": "scatterpolargl"
           }
          ],
          "scatterternary": [
           {
            "marker": {
             "colorbar": {
              "outlinewidth": 0,
              "ticks": ""
             }
            },
            "type": "scatterternary"
           }
          ],
          "surface": [
           {
            "colorbar": {
             "outlinewidth": 0,
             "ticks": ""
            },
            "colorscale": [
             [
              0,
              "#0d0887"
             ],
             [
              0.1111111111111111,
              "#46039f"
             ],
             [
              0.2222222222222222,
              "#7201a8"
             ],
             [
              0.3333333333333333,
              "#9c179e"
             ],
             [
              0.4444444444444444,
              "#bd3786"
             ],
             [
              0.5555555555555556,
              "#d8576b"
             ],
             [
              0.6666666666666666,
              "#ed7953"
             ],
             [
              0.7777777777777778,
              "#fb9f3a"
             ],
             [
              0.8888888888888888,
              "#fdca26"
             ],
             [
              1,
              "#f0f921"
             ]
            ],
            "type": "surface"
           }
          ],
          "table": [
           {
            "cells": {
             "fill": {
              "color": "#EBF0F8"
             },
             "line": {
              "color": "white"
             }
            },
            "header": {
             "fill": {
              "color": "#C8D4E3"
             },
             "line": {
              "color": "white"
             }
            },
            "type": "table"
           }
          ]
         },
         "layout": {
          "annotationdefaults": {
           "arrowcolor": "#2a3f5f",
           "arrowhead": 0,
           "arrowwidth": 1
          },
          "autotypenumbers": "strict",
          "coloraxis": {
           "colorbar": {
            "outlinewidth": 0,
            "ticks": ""
           }
          },
          "colorscale": {
           "diverging": [
            [
             0,
             "#8e0152"
            ],
            [
             0.1,
             "#c51b7d"
            ],
            [
             0.2,
             "#de77ae"
            ],
            [
             0.3,
             "#f1b6da"
            ],
            [
             0.4,
             "#fde0ef"
            ],
            [
             0.5,
             "#f7f7f7"
            ],
            [
             0.6,
             "#e6f5d0"
            ],
            [
             0.7,
             "#b8e186"
            ],
            [
             0.8,
             "#7fbc41"
            ],
            [
             0.9,
             "#4d9221"
            ],
            [
             1,
             "#276419"
            ]
           ],
           "sequential": [
            [
             0,
             "#0d0887"
            ],
            [
             0.1111111111111111,
             "#46039f"
            ],
            [
             0.2222222222222222,
             "#7201a8"
            ],
            [
             0.3333333333333333,
             "#9c179e"
            ],
            [
             0.4444444444444444,
             "#bd3786"
            ],
            [
             0.5555555555555556,
             "#d8576b"
            ],
            [
             0.6666666666666666,
             "#ed7953"
            ],
            [
             0.7777777777777778,
             "#fb9f3a"
            ],
            [
             0.8888888888888888,
             "#fdca26"
            ],
            [
             1,
             "#f0f921"
            ]
           ],
           "sequentialminus": [
            [
             0,
             "#0d0887"
            ],
            [
             0.1111111111111111,
             "#46039f"
            ],
            [
             0.2222222222222222,
             "#7201a8"
            ],
            [
             0.3333333333333333,
             "#9c179e"
            ],
            [
             0.4444444444444444,
             "#bd3786"
            ],
            [
             0.5555555555555556,
             "#d8576b"
            ],
            [
             0.6666666666666666,
             "#ed7953"
            ],
            [
             0.7777777777777778,
             "#fb9f3a"
            ],
            [
             0.8888888888888888,
             "#fdca26"
            ],
            [
             1,
             "#f0f921"
            ]
           ]
          },
          "colorway": [
           "#636efa",
           "#EF553B",
           "#00cc96",
           "#ab63fa",
           "#FFA15A",
           "#19d3f3",
           "#FF6692",
           "#B6E880",
           "#FF97FF",
           "#FECB52"
          ],
          "font": {
           "color": "#2a3f5f"
          },
          "geo": {
           "bgcolor": "white",
           "lakecolor": "white",
           "landcolor": "#E5ECF6",
           "showlakes": true,
           "showland": true,
           "subunitcolor": "white"
          },
          "hoverlabel": {
           "align": "left"
          },
          "hovermode": "closest",
          "mapbox": {
           "style": "light"
          },
          "paper_bgcolor": "white",
          "plot_bgcolor": "#E5ECF6",
          "polar": {
           "angularaxis": {
            "gridcolor": "white",
            "linecolor": "white",
            "ticks": ""
           },
           "bgcolor": "#E5ECF6",
           "radialaxis": {
            "gridcolor": "white",
            "linecolor": "white",
            "ticks": ""
           }
          },
          "scene": {
           "xaxis": {
            "backgroundcolor": "#E5ECF6",
            "gridcolor": "white",
            "gridwidth": 2,
            "linecolor": "white",
            "showbackground": true,
            "ticks": "",
            "zerolinecolor": "white"
           },
           "yaxis": {
            "backgroundcolor": "#E5ECF6",
            "gridcolor": "white",
            "gridwidth": 2,
            "linecolor": "white",
            "showbackground": true,
            "ticks": "",
            "zerolinecolor": "white"
           },
           "zaxis": {
            "backgroundcolor": "#E5ECF6",
            "gridcolor": "white",
            "gridwidth": 2,
            "linecolor": "white",
            "showbackground": true,
            "ticks": "",
            "zerolinecolor": "white"
           }
          },
          "shapedefaults": {
           "line": {
            "color": "#2a3f5f"
           }
          },
          "ternary": {
           "aaxis": {
            "gridcolor": "white",
            "linecolor": "white",
            "ticks": ""
           },
           "baxis": {
            "gridcolor": "white",
            "linecolor": "white",
            "ticks": ""
           },
           "bgcolor": "#E5ECF6",
           "caxis": {
            "gridcolor": "white",
            "linecolor": "white",
            "ticks": ""
           }
          },
          "title": {
           "x": 0.05
          },
          "xaxis": {
           "automargin": true,
           "gridcolor": "white",
           "linecolor": "white",
           "ticks": "",
           "title": {
            "standoff": 15
           },
           "zerolinecolor": "white",
           "zerolinewidth": 2
          },
          "yaxis": {
           "automargin": true,
           "gridcolor": "white",
           "linecolor": "white",
           "ticks": "",
           "title": {
            "standoff": 15
           },
           "zerolinecolor": "white",
           "zerolinewidth": 2
          }
         }
        },
        "title": {
         "text": "Ban Percentages for Each Role by League"
        },
        "xaxis": {
         "anchor": "y",
         "domain": [
          0,
          1
         ],
         "title": {
          "text": "League"
         }
        },
        "yaxis": {
         "anchor": "x",
         "domain": [
          0,
          1
         ],
         "title": {
          "text": "Ban Percentage (%)"
         }
        }
       }
      }
     },
     "metadata": {},
     "output_type": "display_data"
    }
   ],
   "source": [
    "ban_roles_df = ban_counts.merge(champion_roles, left_on=\"ban\", right_on=\"Name\")\n",
    "# Roles we are interested in\n",
    "roles = ['Top', 'Jungle', 'Middle', 'Bottom', 'Support']\n",
    "\n",
    "# Calculate the ban count for each role within each league\n",
    "league_ban_counts = ban_roles_df.groupby('league')[roles].sum()\n",
    "\n",
    "# Calculate the total bans for each league\n",
    "total_bans_per_league = league_ban_counts.sum(axis=1)\n",
    "\n",
    "# Convert ban counts to percentages\n",
    "league_ban_percentage = league_ban_counts.div(total_bans_per_league, axis=0) * 100\n",
    "\n",
    "# Flatten the DataFrame for easy plotting\n",
    "df_melted = league_ban_percentage.reset_index().melt(id_vars='league', value_vars=roles,\n",
    "                                                     var_name='Role', value_name='Ban Percentage')\n",
    "\n",
    "# Plot the data using Plotly\n",
    "fig = px.bar(df_melted, x='league', y='Ban Percentage', color='Role',\n",
    "             barmode='stack', title=\"Ban Percentages for Each Role by League\",\n",
    "             labels={'Ban Percentage': 'Ban Percentage (%)', 'league': 'League'})\n",
    "\n",
    "# Show the plot\n",
    "fig.show()"
   ]
  },
  {
   "cell_type": "code",
   "execution_count": 8,
   "metadata": {},
   "outputs": [
    {
     "data": {
      "application/vnd.plotly.v1+json": {
       "config": {
        "plotlyServerURL": "https://plot.ly"
       },
       "data": [],
       "layout": {
        "annotations": [
         {
          "align": "center",
          "bgcolor": "black",
          "borderpad": 4,
          "font": {
           "color": "white",
           "family": "Arial",
           "size": 12
          },
          "opacity": 0.7,
          "showarrow": false,
          "text": "22.28%",
          "x": 0.031,
          "y": 0.775
         },
         {
          "align": "center",
          "bgcolor": "black",
          "borderpad": 4,
          "font": {
           "color": "white",
           "family": "Arial",
           "size": 12
          },
          "opacity": 0.7,
          "showarrow": false,
          "text": "18.11%",
          "x": 0.051000000000000004,
          "y": 0.585
         },
         {
          "align": "center",
          "bgcolor": "black",
          "borderpad": 4,
          "font": {
           "color": "white",
           "family": "Arial",
           "size": 12
          },
          "opacity": 0.7,
          "showarrow": false,
          "text": "16.99%",
          "x": 0.086,
          "y": 0.41500000000000004
         },
         {
          "align": "center",
          "bgcolor": "black",
          "borderpad": 4,
          "font": {
           "color": "white",
           "family": "Arial",
           "size": 12
          },
          "opacity": 0.7,
          "showarrow": false,
          "text": "19.78%",
          "x": 0.15100000000000002,
          "y": 0.09999999999999998
         },
         {
          "align": "center",
          "bgcolor": "black",
          "borderpad": 4,
          "font": {
           "color": "white",
           "family": "Arial",
           "size": 12
          },
          "opacity": 0.7,
          "showarrow": false,
          "text": "22.84%",
          "x": 0.121,
          "y": 0.235
         }
        ],
        "images": [
         {
          "layer": "below",
          "opacity": 1,
          "sizex": 1,
          "sizey": 1,
          "source": "assets/map/map.png",
          "x": 0,
          "xref": "paper",
          "y": 1,
          "yref": "paper"
         },
         {
          "layer": "above",
          "opacity": 1,
          "sizex": 0.1,
          "sizey": 0.1,
          "source": "assets/roles/Top.png",
          "x": 0.02,
          "xref": "paper",
          "y": 0.91,
          "yref": "paper"
         },
         {
          "layer": "above",
          "opacity": 1,
          "sizex": 0.1,
          "sizey": 0.1,
          "source": "assets/roles/Jungle.png",
          "x": 0.04,
          "xref": "paper",
          "y": 0.72,
          "yref": "paper"
         },
         {
          "layer": "above",
          "opacity": 1,
          "sizex": 0.1,
          "sizey": 0.1,
          "source": "assets/roles/Middle.png",
          "x": 0.075,
          "xref": "paper",
          "y": 0.55,
          "yref": "paper"
         },
         {
          "layer": "above",
          "opacity": 1,
          "sizex": 0.1,
          "sizey": 0.1,
          "source": "assets/roles/Bottom.png",
          "x": 0.14,
          "xref": "paper",
          "y": 0.235,
          "yref": "paper"
         },
         {
          "layer": "above",
          "opacity": 1,
          "sizex": 0.1,
          "sizey": 0.1,
          "source": "assets/roles/Support.png",
          "x": 0.11,
          "xref": "paper",
          "y": 0.37,
          "yref": "paper"
         }
        ],
        "paper_bgcolor": "rgba(0, 0, 0, 0)",
        "plot_bgcolor": "rgba(0, 0, 0, 0)",
        "showlegend": false,
        "template": {
         "data": {
          "bar": [
           {
            "error_x": {
             "color": "#2a3f5f"
            },
            "error_y": {
             "color": "#2a3f5f"
            },
            "marker": {
             "line": {
              "color": "#E5ECF6",
              "width": 0.5
             },
             "pattern": {
              "fillmode": "overlay",
              "size": 10,
              "solidity": 0.2
             }
            },
            "type": "bar"
           }
          ],
          "barpolar": [
           {
            "marker": {
             "line": {
              "color": "#E5ECF6",
              "width": 0.5
             },
             "pattern": {
              "fillmode": "overlay",
              "size": 10,
              "solidity": 0.2
             }
            },
            "type": "barpolar"
           }
          ],
          "carpet": [
           {
            "aaxis": {
             "endlinecolor": "#2a3f5f",
             "gridcolor": "white",
             "linecolor": "white",
             "minorgridcolor": "white",
             "startlinecolor": "#2a3f5f"
            },
            "baxis": {
             "endlinecolor": "#2a3f5f",
             "gridcolor": "white",
             "linecolor": "white",
             "minorgridcolor": "white",
             "startlinecolor": "#2a3f5f"
            },
            "type": "carpet"
           }
          ],
          "choropleth": [
           {
            "colorbar": {
             "outlinewidth": 0,
             "ticks": ""
            },
            "type": "choropleth"
           }
          ],
          "contour": [
           {
            "colorbar": {
             "outlinewidth": 0,
             "ticks": ""
            },
            "colorscale": [
             [
              0,
              "#0d0887"
             ],
             [
              0.1111111111111111,
              "#46039f"
             ],
             [
              0.2222222222222222,
              "#7201a8"
             ],
             [
              0.3333333333333333,
              "#9c179e"
             ],
             [
              0.4444444444444444,
              "#bd3786"
             ],
             [
              0.5555555555555556,
              "#d8576b"
             ],
             [
              0.6666666666666666,
              "#ed7953"
             ],
             [
              0.7777777777777778,
              "#fb9f3a"
             ],
             [
              0.8888888888888888,
              "#fdca26"
             ],
             [
              1,
              "#f0f921"
             ]
            ],
            "type": "contour"
           }
          ],
          "contourcarpet": [
           {
            "colorbar": {
             "outlinewidth": 0,
             "ticks": ""
            },
            "type": "contourcarpet"
           }
          ],
          "heatmap": [
           {
            "colorbar": {
             "outlinewidth": 0,
             "ticks": ""
            },
            "colorscale": [
             [
              0,
              "#0d0887"
             ],
             [
              0.1111111111111111,
              "#46039f"
             ],
             [
              0.2222222222222222,
              "#7201a8"
             ],
             [
              0.3333333333333333,
              "#9c179e"
             ],
             [
              0.4444444444444444,
              "#bd3786"
             ],
             [
              0.5555555555555556,
              "#d8576b"
             ],
             [
              0.6666666666666666,
              "#ed7953"
             ],
             [
              0.7777777777777778,
              "#fb9f3a"
             ],
             [
              0.8888888888888888,
              "#fdca26"
             ],
             [
              1,
              "#f0f921"
             ]
            ],
            "type": "heatmap"
           }
          ],
          "heatmapgl": [
           {
            "colorbar": {
             "outlinewidth": 0,
             "ticks": ""
            },
            "colorscale": [
             [
              0,
              "#0d0887"
             ],
             [
              0.1111111111111111,
              "#46039f"
             ],
             [
              0.2222222222222222,
              "#7201a8"
             ],
             [
              0.3333333333333333,
              "#9c179e"
             ],
             [
              0.4444444444444444,
              "#bd3786"
             ],
             [
              0.5555555555555556,
              "#d8576b"
             ],
             [
              0.6666666666666666,
              "#ed7953"
             ],
             [
              0.7777777777777778,
              "#fb9f3a"
             ],
             [
              0.8888888888888888,
              "#fdca26"
             ],
             [
              1,
              "#f0f921"
             ]
            ],
            "type": "heatmapgl"
           }
          ],
          "histogram": [
           {
            "marker": {
             "pattern": {
              "fillmode": "overlay",
              "size": 10,
              "solidity": 0.2
             }
            },
            "type": "histogram"
           }
          ],
          "histogram2d": [
           {
            "colorbar": {
             "outlinewidth": 0,
             "ticks": ""
            },
            "colorscale": [
             [
              0,
              "#0d0887"
             ],
             [
              0.1111111111111111,
              "#46039f"
             ],
             [
              0.2222222222222222,
              "#7201a8"
             ],
             [
              0.3333333333333333,
              "#9c179e"
             ],
             [
              0.4444444444444444,
              "#bd3786"
             ],
             [
              0.5555555555555556,
              "#d8576b"
             ],
             [
              0.6666666666666666,
              "#ed7953"
             ],
             [
              0.7777777777777778,
              "#fb9f3a"
             ],
             [
              0.8888888888888888,
              "#fdca26"
             ],
             [
              1,
              "#f0f921"
             ]
            ],
            "type": "histogram2d"
           }
          ],
          "histogram2dcontour": [
           {
            "colorbar": {
             "outlinewidth": 0,
             "ticks": ""
            },
            "colorscale": [
             [
              0,
              "#0d0887"
             ],
             [
              0.1111111111111111,
              "#46039f"
             ],
             [
              0.2222222222222222,
              "#7201a8"
             ],
             [
              0.3333333333333333,
              "#9c179e"
             ],
             [
              0.4444444444444444,
              "#bd3786"
             ],
             [
              0.5555555555555556,
              "#d8576b"
             ],
             [
              0.6666666666666666,
              "#ed7953"
             ],
             [
              0.7777777777777778,
              "#fb9f3a"
             ],
             [
              0.8888888888888888,
              "#fdca26"
             ],
             [
              1,
              "#f0f921"
             ]
            ],
            "type": "histogram2dcontour"
           }
          ],
          "mesh3d": [
           {
            "colorbar": {
             "outlinewidth": 0,
             "ticks": ""
            },
            "type": "mesh3d"
           }
          ],
          "parcoords": [
           {
            "line": {
             "colorbar": {
              "outlinewidth": 0,
              "ticks": ""
             }
            },
            "type": "parcoords"
           }
          ],
          "pie": [
           {
            "automargin": true,
            "type": "pie"
           }
          ],
          "scatter": [
           {
            "fillpattern": {
             "fillmode": "overlay",
             "size": 10,
             "solidity": 0.2
            },
            "type": "scatter"
           }
          ],
          "scatter3d": [
           {
            "line": {
             "colorbar": {
              "outlinewidth": 0,
              "ticks": ""
             }
            },
            "marker": {
             "colorbar": {
              "outlinewidth": 0,
              "ticks": ""
             }
            },
            "type": "scatter3d"
           }
          ],
          "scattercarpet": [
           {
            "marker": {
             "colorbar": {
              "outlinewidth": 0,
              "ticks": ""
             }
            },
            "type": "scattercarpet"
           }
          ],
          "scattergeo": [
           {
            "marker": {
             "colorbar": {
              "outlinewidth": 0,
              "ticks": ""
             }
            },
            "type": "scattergeo"
           }
          ],
          "scattergl": [
           {
            "marker": {
             "colorbar": {
              "outlinewidth": 0,
              "ticks": ""
             }
            },
            "type": "scattergl"
           }
          ],
          "scattermapbox": [
           {
            "marker": {
             "colorbar": {
              "outlinewidth": 0,
              "ticks": ""
             }
            },
            "type": "scattermapbox"
           }
          ],
          "scatterpolar": [
           {
            "marker": {
             "colorbar": {
              "outlinewidth": 0,
              "ticks": ""
             }
            },
            "type": "scatterpolar"
           }
          ],
          "scatterpolargl": [
           {
            "marker": {
             "colorbar": {
              "outlinewidth": 0,
              "ticks": ""
             }
            },
            "type": "scatterpolargl"
           }
          ],
          "scatterternary": [
           {
            "marker": {
             "colorbar": {
              "outlinewidth": 0,
              "ticks": ""
             }
            },
            "type": "scatterternary"
           }
          ],
          "surface": [
           {
            "colorbar": {
             "outlinewidth": 0,
             "ticks": ""
            },
            "colorscale": [
             [
              0,
              "#0d0887"
             ],
             [
              0.1111111111111111,
              "#46039f"
             ],
             [
              0.2222222222222222,
              "#7201a8"
             ],
             [
              0.3333333333333333,
              "#9c179e"
             ],
             [
              0.4444444444444444,
              "#bd3786"
             ],
             [
              0.5555555555555556,
              "#d8576b"
             ],
             [
              0.6666666666666666,
              "#ed7953"
             ],
             [
              0.7777777777777778,
              "#fb9f3a"
             ],
             [
              0.8888888888888888,
              "#fdca26"
             ],
             [
              1,
              "#f0f921"
             ]
            ],
            "type": "surface"
           }
          ],
          "table": [
           {
            "cells": {
             "fill": {
              "color": "#EBF0F8"
             },
             "line": {
              "color": "white"
             }
            },
            "header": {
             "fill": {
              "color": "#C8D4E3"
             },
             "line": {
              "color": "white"
             }
            },
            "type": "table"
           }
          ]
         },
         "layout": {
          "annotationdefaults": {
           "arrowcolor": "#2a3f5f",
           "arrowhead": 0,
           "arrowwidth": 1
          },
          "autotypenumbers": "strict",
          "coloraxis": {
           "colorbar": {
            "outlinewidth": 0,
            "ticks": ""
           }
          },
          "colorscale": {
           "diverging": [
            [
             0,
             "#8e0152"
            ],
            [
             0.1,
             "#c51b7d"
            ],
            [
             0.2,
             "#de77ae"
            ],
            [
             0.3,
             "#f1b6da"
            ],
            [
             0.4,
             "#fde0ef"
            ],
            [
             0.5,
             "#f7f7f7"
            ],
            [
             0.6,
             "#e6f5d0"
            ],
            [
             0.7,
             "#b8e186"
            ],
            [
             0.8,
             "#7fbc41"
            ],
            [
             0.9,
             "#4d9221"
            ],
            [
             1,
             "#276419"
            ]
           ],
           "sequential": [
            [
             0,
             "#0d0887"
            ],
            [
             0.1111111111111111,
             "#46039f"
            ],
            [
             0.2222222222222222,
             "#7201a8"
            ],
            [
             0.3333333333333333,
             "#9c179e"
            ],
            [
             0.4444444444444444,
             "#bd3786"
            ],
            [
             0.5555555555555556,
             "#d8576b"
            ],
            [
             0.6666666666666666,
             "#ed7953"
            ],
            [
             0.7777777777777778,
             "#fb9f3a"
            ],
            [
             0.8888888888888888,
             "#fdca26"
            ],
            [
             1,
             "#f0f921"
            ]
           ],
           "sequentialminus": [
            [
             0,
             "#0d0887"
            ],
            [
             0.1111111111111111,
             "#46039f"
            ],
            [
             0.2222222222222222,
             "#7201a8"
            ],
            [
             0.3333333333333333,
             "#9c179e"
            ],
            [
             0.4444444444444444,
             "#bd3786"
            ],
            [
             0.5555555555555556,
             "#d8576b"
            ],
            [
             0.6666666666666666,
             "#ed7953"
            ],
            [
             0.7777777777777778,
             "#fb9f3a"
            ],
            [
             0.8888888888888888,
             "#fdca26"
            ],
            [
             1,
             "#f0f921"
            ]
           ]
          },
          "colorway": [
           "#636efa",
           "#EF553B",
           "#00cc96",
           "#ab63fa",
           "#FFA15A",
           "#19d3f3",
           "#FF6692",
           "#B6E880",
           "#FF97FF",
           "#FECB52"
          ],
          "font": {
           "color": "#2a3f5f"
          },
          "geo": {
           "bgcolor": "white",
           "lakecolor": "white",
           "landcolor": "#E5ECF6",
           "showlakes": true,
           "showland": true,
           "subunitcolor": "white"
          },
          "hoverlabel": {
           "align": "left"
          },
          "hovermode": "closest",
          "mapbox": {
           "style": "light"
          },
          "paper_bgcolor": "white",
          "plot_bgcolor": "#E5ECF6",
          "polar": {
           "angularaxis": {
            "gridcolor": "white",
            "linecolor": "white",
            "ticks": ""
           },
           "bgcolor": "#E5ECF6",
           "radialaxis": {
            "gridcolor": "white",
            "linecolor": "white",
            "ticks": ""
           }
          },
          "scene": {
           "xaxis": {
            "backgroundcolor": "#E5ECF6",
            "gridcolor": "white",
            "gridwidth": 2,
            "linecolor": "white",
            "showbackground": true,
            "ticks": "",
            "zerolinecolor": "white"
           },
           "yaxis": {
            "backgroundcolor": "#E5ECF6",
            "gridcolor": "white",
            "gridwidth": 2,
            "linecolor": "white",
            "showbackground": true,
            "ticks": "",
            "zerolinecolor": "white"
           },
           "zaxis": {
            "backgroundcolor": "#E5ECF6",
            "gridcolor": "white",
            "gridwidth": 2,
            "linecolor": "white",
            "showbackground": true,
            "ticks": "",
            "zerolinecolor": "white"
           }
          },
          "shapedefaults": {
           "line": {
            "color": "#2a3f5f"
           }
          },
          "ternary": {
           "aaxis": {
            "gridcolor": "white",
            "linecolor": "white",
            "ticks": ""
           },
           "baxis": {
            "gridcolor": "white",
            "linecolor": "white",
            "ticks": ""
           },
           "bgcolor": "#E5ECF6",
           "caxis": {
            "gridcolor": "white",
            "linecolor": "white",
            "ticks": ""
           }
          },
          "title": {
           "x": 0.05
          },
          "xaxis": {
           "automargin": true,
           "gridcolor": "white",
           "linecolor": "white",
           "ticks": "",
           "title": {
            "standoff": 15
           },
           "zerolinecolor": "white",
           "zerolinewidth": 2
          },
          "yaxis": {
           "automargin": true,
           "gridcolor": "white",
           "linecolor": "white",
           "ticks": "",
           "title": {
            "standoff": 15
           },
           "zerolinecolor": "white",
           "zerolinewidth": 2
          }
         }
        },
        "title": {
         "font": {
          "color": "black"
         },
         "text": "<b>Ban Percentages for Each Role [Major Regions]</b>"
        },
        "xaxis": {
         "range": [
          0,
          1
         ],
         "showgrid": false,
         "visible": false,
         "zeroline": false
        },
        "yaxis": {
         "range": [
          0,
          1
         ],
         "showgrid": false,
         "visible": false,
         "zeroline": false
        }
       }
      }
     },
     "metadata": {},
     "output_type": "display_data"
    }
   ],
   "source": [
    "# Roles we are interested in\n",
    "roles = ['Top', 'Jungle', 'Middle', 'Bottom', 'Support']\n",
    "\n",
    "# Filter the data to include only the leagues you want (e.g., ['LEC', 'LPL'])\n",
    "selected_leagues = ['LEC', 'LPL', 'LCK', 'LCS']  # Example list of leagues\n",
    "df_filtered = ban_roles_df[ban_roles_df['league'].isin(selected_leagues)]\n",
    "\n",
    "# Calculate the ban count for each role across all selected leagues\n",
    "total_ban_counts = df_filtered[roles].sum()\n",
    "\n",
    "# Calculate the total bans across all selected leagues (sum of all roles)\n",
    "total_bans_all_roles = total_ban_counts.sum()\n",
    "\n",
    "# Calculate the ban percentages for each role\n",
    "ban_percentages = (total_ban_counts / total_bans_all_roles) * 100\n",
    "\n",
    "# Create a DataFrame with the ban percentages\n",
    "ban_percentage_df = pd.DataFrame(ban_percentages).reset_index()\n",
    "ban_percentage_df.columns = ['Role', 'Ban Percentage']\n",
    "ban_percentage_df = ban_percentage_df.round(2)\n",
    "ban_percentage_df\n",
    "\n",
    "# Create the figure\n",
    "fig = go.Figure()\n",
    "\n",
    "# Add the background image to the plot\n",
    "fig.add_layout_image(\n",
    "    dict(\n",
    "        source=\"assets/map/map.png\",\n",
    "        x=0,\n",
    "        y=1,\n",
    "        xref=\"paper\", yref=\"paper\",\n",
    "        sizex=1, sizey=1,\n",
    "        opacity=1,\n",
    "        layer=\"below\"\n",
    "    )\n",
    ")\n",
    "\n",
    "role_positions = {\n",
    "    'Top': (0.02, 0.91),\n",
    "    'Jungle': (0.04, 0.72),\n",
    "    'Middle': (0.075, 0.55),\n",
    "    'Bottom': (0.14, 0.235),\n",
    "    'Support': (0.11, 0.37)\n",
    "}\n",
    "\n",
    "# Loop through the roles to add role images and text\n",
    "for index, row in ban_percentage_df.iterrows():\n",
    "    role = row['Role']\n",
    "    ban_percentage = row['Ban Percentage']\n",
    "    \n",
    "    # Load the role image (ensure they are small enough or resize them)\n",
    "    role_img = Image.open(f\"assets/roles/{role}.png\")\n",
    "    role_img = role_img.resize((100, 100))  # Adjust the size as needed\n",
    "    \n",
    "    # Convert the role image to a base64 string\n",
    "    img_data = role_img.convert(\"RGBA\").tobytes(\"raw\", \"RGBA\")\n",
    "\n",
    "    # Get the custom position for the role image\n",
    "    x, y = role_positions[role]\n",
    "    \n",
    "    # Add the role image to the figure\n",
    "    fig.add_layout_image(\n",
    "        dict(\n",
    "            source=f\"assets/roles/{role}.png\",  # Add your role image URL or local file path\n",
    "            x=x, y=y,\n",
    "            xref=\"paper\", yref=\"paper\",\n",
    "            sizex=0.1, sizey=0.1,  # Adjust size here\n",
    "            opacity=1,\n",
    "            layer=\"above\"\n",
    "        )\n",
    "    )\n",
    "\n",
    "    # Add the text with the ban percentage below the role image\n",
    "    fig.add_annotation(\n",
    "        x=x+0.011, y=y-0.135,  # Adjust position for the text\n",
    "        text=f\"{ban_percentage}%\",\n",
    "        showarrow=False,\n",
    "        font=dict(size=12, color=\"white\", family=\"Arial\"),\n",
    "        align=\"center\",\n",
    "        bgcolor=\"black\",\n",
    "        opacity=0.7,\n",
    "        borderpad=4\n",
    "    )\n",
    "\n",
    "# Set up the layout for better visual appeal\n",
    "fig.update_layout(\n",
    "    title=\"<b>Ban Percentages for Each Role [Major Regions]</b>\",\n",
    "    xaxis=dict(range=[0, 1], showgrid=False, zeroline=False),\n",
    "    yaxis=dict(range=[0, 1], showgrid=False, zeroline=False),\n",
    "    plot_bgcolor='rgba(0,0,0,0)',  # Transparent background\n",
    "    showlegend=False\n",
    ")\n",
    "\n",
    "fig.update_layout(\n",
    "    title_font_color=\"black\",\n",
    ")\n",
    "# Show the plot#\n",
    "fig.update_layout(xaxis={\"visible\":False}, yaxis={\"visible\":False})\n",
    "fig.update_layout({\"plot_bgcolor\": \"rgba(0, 0, 0, 0)\", \"paper_bgcolor\": \"rgba(0, 0, 0, 0)\"})\n",
    "fig.show()"
   ]
  },
  {
   "cell_type": "code",
   "execution_count": 9,
   "metadata": {},
   "outputs": [
    {
     "data": {
      "application/vnd.plotly.v1+json": {
       "config": {
        "plotlyServerURL": "https://plot.ly"
       },
       "data": [
        {
         "marker": {
          "color": "royalblue"
         },
         "name": "Ban Count",
         "type": "bar",
         "x": [
          "Jax",
          "Draven",
          "Ashe",
          "K'Sante",
          "Rumble"
         ],
         "y": [
          15,
          14,
          10,
          10,
          9
         ]
        }
       ],
       "layout": {
        "annotations": [
         {
          "align": "center",
          "borderpad": 4,
          "borderwidth": 2,
          "font": {
           "color": "black"
          },
          "opacity": 0.8,
          "showarrow": false,
          "text": "<b>SK Gaming<br><i>Jax </i></b>",
          "x": "Jax",
          "xref": "x",
          "y": 5,
          "yref": "y"
         },
         {
          "align": "center",
          "borderpad": 4,
          "borderwidth": 2,
          "font": {
           "color": "black"
          },
          "opacity": 0.8,
          "showarrow": false,
          "text": "<b>G2 Esports<br><i>Draven </i></b>",
          "x": "Draven",
          "xref": "x",
          "y": 5,
          "yref": "y"
         },
         {
          "align": "center",
          "borderpad": 4,
          "borderwidth": 2,
          "font": {
           "color": "black"
          },
          "opacity": 0.8,
          "showarrow": false,
          "text": "<b>Team BDS<br><i>Ashe </i></b>",
          "x": "Ashe",
          "xref": "x",
          "y": 5,
          "yref": "y"
         },
         {
          "align": "center",
          "borderpad": 4,
          "borderwidth": 2,
          "font": {
           "color": "black"
          },
          "opacity": 0.8,
          "showarrow": false,
          "text": "<b>Nongshim RedForce<br><i>K'Sante </i></b>",
          "x": "K'Sante",
          "xref": "x",
          "y": 5,
          "yref": "y"
         },
         {
          "align": "center",
          "borderpad": 4,
          "borderwidth": 2,
          "font": {
           "color": "black"
          },
          "opacity": 0.8,
          "showarrow": false,
          "text": "<b>Dplus KIA<br><i>Rumble </i></b>",
          "x": "Rumble",
          "xref": "x",
          "y": 5,
          "yref": "y"
         }
        ],
        "images": [
         {
          "sizex": 4,
          "sizey": 4,
          "source": "assets/champion/Jax.png",
          "x": "Jax",
          "xanchor": "center",
          "xref": "x",
          "y": 4,
          "yref": "y"
         },
         {
          "sizex": 4,
          "sizey": 4,
          "source": "assets/champion/Draven.png",
          "x": "Draven",
          "xanchor": "center",
          "xref": "x",
          "y": 4,
          "yref": "y"
         },
         {
          "sizex": 4,
          "sizey": 4,
          "source": "assets/champion/Ashe.png",
          "x": "Ashe",
          "xanchor": "center",
          "xref": "x",
          "y": 4,
          "yref": "y"
         },
         {
          "sizex": 4,
          "sizey": 4,
          "source": "assets/champion/KSante.png",
          "x": "K'Sante",
          "xanchor": "center",
          "xref": "x",
          "y": 4,
          "yref": "y"
         },
         {
          "sizex": 4,
          "sizey": 4,
          "source": "assets/champion/Rumble.png",
          "x": "Rumble",
          "xanchor": "center",
          "xref": "x",
          "y": 4,
          "yref": "y"
         }
        ],
        "template": {
         "data": {
          "bar": [
           {
            "error_x": {
             "color": "#2a3f5f"
            },
            "error_y": {
             "color": "#2a3f5f"
            },
            "marker": {
             "line": {
              "color": "#E5ECF6",
              "width": 0.5
             },
             "pattern": {
              "fillmode": "overlay",
              "size": 10,
              "solidity": 0.2
             }
            },
            "type": "bar"
           }
          ],
          "barpolar": [
           {
            "marker": {
             "line": {
              "color": "#E5ECF6",
              "width": 0.5
             },
             "pattern": {
              "fillmode": "overlay",
              "size": 10,
              "solidity": 0.2
             }
            },
            "type": "barpolar"
           }
          ],
          "carpet": [
           {
            "aaxis": {
             "endlinecolor": "#2a3f5f",
             "gridcolor": "white",
             "linecolor": "white",
             "minorgridcolor": "white",
             "startlinecolor": "#2a3f5f"
            },
            "baxis": {
             "endlinecolor": "#2a3f5f",
             "gridcolor": "white",
             "linecolor": "white",
             "minorgridcolor": "white",
             "startlinecolor": "#2a3f5f"
            },
            "type": "carpet"
           }
          ],
          "choropleth": [
           {
            "colorbar": {
             "outlinewidth": 0,
             "ticks": ""
            },
            "type": "choropleth"
           }
          ],
          "contour": [
           {
            "colorbar": {
             "outlinewidth": 0,
             "ticks": ""
            },
            "colorscale": [
             [
              0,
              "#0d0887"
             ],
             [
              0.1111111111111111,
              "#46039f"
             ],
             [
              0.2222222222222222,
              "#7201a8"
             ],
             [
              0.3333333333333333,
              "#9c179e"
             ],
             [
              0.4444444444444444,
              "#bd3786"
             ],
             [
              0.5555555555555556,
              "#d8576b"
             ],
             [
              0.6666666666666666,
              "#ed7953"
             ],
             [
              0.7777777777777778,
              "#fb9f3a"
             ],
             [
              0.8888888888888888,
              "#fdca26"
             ],
             [
              1,
              "#f0f921"
             ]
            ],
            "type": "contour"
           }
          ],
          "contourcarpet": [
           {
            "colorbar": {
             "outlinewidth": 0,
             "ticks": ""
            },
            "type": "contourcarpet"
           }
          ],
          "heatmap": [
           {
            "colorbar": {
             "outlinewidth": 0,
             "ticks": ""
            },
            "colorscale": [
             [
              0,
              "#0d0887"
             ],
             [
              0.1111111111111111,
              "#46039f"
             ],
             [
              0.2222222222222222,
              "#7201a8"
             ],
             [
              0.3333333333333333,
              "#9c179e"
             ],
             [
              0.4444444444444444,
              "#bd3786"
             ],
             [
              0.5555555555555556,
              "#d8576b"
             ],
             [
              0.6666666666666666,
              "#ed7953"
             ],
             [
              0.7777777777777778,
              "#fb9f3a"
             ],
             [
              0.8888888888888888,
              "#fdca26"
             ],
             [
              1,
              "#f0f921"
             ]
            ],
            "type": "heatmap"
           }
          ],
          "heatmapgl": [
           {
            "colorbar": {
             "outlinewidth": 0,
             "ticks": ""
            },
            "colorscale": [
             [
              0,
              "#0d0887"
             ],
             [
              0.1111111111111111,
              "#46039f"
             ],
             [
              0.2222222222222222,
              "#7201a8"
             ],
             [
              0.3333333333333333,
              "#9c179e"
             ],
             [
              0.4444444444444444,
              "#bd3786"
             ],
             [
              0.5555555555555556,
              "#d8576b"
             ],
             [
              0.6666666666666666,
              "#ed7953"
             ],
             [
              0.7777777777777778,
              "#fb9f3a"
             ],
             [
              0.8888888888888888,
              "#fdca26"
             ],
             [
              1,
              "#f0f921"
             ]
            ],
            "type": "heatmapgl"
           }
          ],
          "histogram": [
           {
            "marker": {
             "pattern": {
              "fillmode": "overlay",
              "size": 10,
              "solidity": 0.2
             }
            },
            "type": "histogram"
           }
          ],
          "histogram2d": [
           {
            "colorbar": {
             "outlinewidth": 0,
             "ticks": ""
            },
            "colorscale": [
             [
              0,
              "#0d0887"
             ],
             [
              0.1111111111111111,
              "#46039f"
             ],
             [
              0.2222222222222222,
              "#7201a8"
             ],
             [
              0.3333333333333333,
              "#9c179e"
             ],
             [
              0.4444444444444444,
              "#bd3786"
             ],
             [
              0.5555555555555556,
              "#d8576b"
             ],
             [
              0.6666666666666666,
              "#ed7953"
             ],
             [
              0.7777777777777778,
              "#fb9f3a"
             ],
             [
              0.8888888888888888,
              "#fdca26"
             ],
             [
              1,
              "#f0f921"
             ]
            ],
            "type": "histogram2d"
           }
          ],
          "histogram2dcontour": [
           {
            "colorbar": {
             "outlinewidth": 0,
             "ticks": ""
            },
            "colorscale": [
             [
              0,
              "#0d0887"
             ],
             [
              0.1111111111111111,
              "#46039f"
             ],
             [
              0.2222222222222222,
              "#7201a8"
             ],
             [
              0.3333333333333333,
              "#9c179e"
             ],
             [
              0.4444444444444444,
              "#bd3786"
             ],
             [
              0.5555555555555556,
              "#d8576b"
             ],
             [
              0.6666666666666666,
              "#ed7953"
             ],
             [
              0.7777777777777778,
              "#fb9f3a"
             ],
             [
              0.8888888888888888,
              "#fdca26"
             ],
             [
              1,
              "#f0f921"
             ]
            ],
            "type": "histogram2dcontour"
           }
          ],
          "mesh3d": [
           {
            "colorbar": {
             "outlinewidth": 0,
             "ticks": ""
            },
            "type": "mesh3d"
           }
          ],
          "parcoords": [
           {
            "line": {
             "colorbar": {
              "outlinewidth": 0,
              "ticks": ""
             }
            },
            "type": "parcoords"
           }
          ],
          "pie": [
           {
            "automargin": true,
            "type": "pie"
           }
          ],
          "scatter": [
           {
            "fillpattern": {
             "fillmode": "overlay",
             "size": 10,
             "solidity": 0.2
            },
            "type": "scatter"
           }
          ],
          "scatter3d": [
           {
            "line": {
             "colorbar": {
              "outlinewidth": 0,
              "ticks": ""
             }
            },
            "marker": {
             "colorbar": {
              "outlinewidth": 0,
              "ticks": ""
             }
            },
            "type": "scatter3d"
           }
          ],
          "scattercarpet": [
           {
            "marker": {
             "colorbar": {
              "outlinewidth": 0,
              "ticks": ""
             }
            },
            "type": "scattercarpet"
           }
          ],
          "scattergeo": [
           {
            "marker": {
             "colorbar": {
              "outlinewidth": 0,
              "ticks": ""
             }
            },
            "type": "scattergeo"
           }
          ],
          "scattergl": [
           {
            "marker": {
             "colorbar": {
              "outlinewidth": 0,
              "ticks": ""
             }
            },
            "type": "scattergl"
           }
          ],
          "scattermapbox": [
           {
            "marker": {
             "colorbar": {
              "outlinewidth": 0,
              "ticks": ""
             }
            },
            "type": "scattermapbox"
           }
          ],
          "scatterpolar": [
           {
            "marker": {
             "colorbar": {
              "outlinewidth": 0,
              "ticks": ""
             }
            },
            "type": "scatterpolar"
           }
          ],
          "scatterpolargl": [
           {
            "marker": {
             "colorbar": {
              "outlinewidth": 0,
              "ticks": ""
             }
            },
            "type": "scatterpolargl"
           }
          ],
          "scatterternary": [
           {
            "marker": {
             "colorbar": {
              "outlinewidth": 0,
              "ticks": ""
             }
            },
            "type": "scatterternary"
           }
          ],
          "surface": [
           {
            "colorbar": {
             "outlinewidth": 0,
             "ticks": ""
            },
            "colorscale": [
             [
              0,
              "#0d0887"
             ],
             [
              0.1111111111111111,
              "#46039f"
             ],
             [
              0.2222222222222222,
              "#7201a8"
             ],
             [
              0.3333333333333333,
              "#9c179e"
             ],
             [
              0.4444444444444444,
              "#bd3786"
             ],
             [
              0.5555555555555556,
              "#d8576b"
             ],
             [
              0.6666666666666666,
              "#ed7953"
             ],
             [
              0.7777777777777778,
              "#fb9f3a"
             ],
             [
              0.8888888888888888,
              "#fdca26"
             ],
             [
              1,
              "#f0f921"
             ]
            ],
            "type": "surface"
           }
          ],
          "table": [
           {
            "cells": {
             "fill": {
              "color": "#EBF0F8"
             },
             "line": {
              "color": "white"
             }
            },
            "header": {
             "fill": {
              "color": "#C8D4E3"
             },
             "line": {
              "color": "white"
             }
            },
            "type": "table"
           }
          ]
         },
         "layout": {
          "annotationdefaults": {
           "arrowcolor": "#2a3f5f",
           "arrowhead": 0,
           "arrowwidth": 1
          },
          "autotypenumbers": "strict",
          "coloraxis": {
           "colorbar": {
            "outlinewidth": 0,
            "ticks": ""
           }
          },
          "colorscale": {
           "diverging": [
            [
             0,
             "#8e0152"
            ],
            [
             0.1,
             "#c51b7d"
            ],
            [
             0.2,
             "#de77ae"
            ],
            [
             0.3,
             "#f1b6da"
            ],
            [
             0.4,
             "#fde0ef"
            ],
            [
             0.5,
             "#f7f7f7"
            ],
            [
             0.6,
             "#e6f5d0"
            ],
            [
             0.7,
             "#b8e186"
            ],
            [
             0.8,
             "#7fbc41"
            ],
            [
             0.9,
             "#4d9221"
            ],
            [
             1,
             "#276419"
            ]
           ],
           "sequential": [
            [
             0,
             "#0d0887"
            ],
            [
             0.1111111111111111,
             "#46039f"
            ],
            [
             0.2222222222222222,
             "#7201a8"
            ],
            [
             0.3333333333333333,
             "#9c179e"
            ],
            [
             0.4444444444444444,
             "#bd3786"
            ],
            [
             0.5555555555555556,
             "#d8576b"
            ],
            [
             0.6666666666666666,
             "#ed7953"
            ],
            [
             0.7777777777777778,
             "#fb9f3a"
            ],
            [
             0.8888888888888888,
             "#fdca26"
            ],
            [
             1,
             "#f0f921"
            ]
           ],
           "sequentialminus": [
            [
             0,
             "#0d0887"
            ],
            [
             0.1111111111111111,
             "#46039f"
            ],
            [
             0.2222222222222222,
             "#7201a8"
            ],
            [
             0.3333333333333333,
             "#9c179e"
            ],
            [
             0.4444444444444444,
             "#bd3786"
            ],
            [
             0.5555555555555556,
             "#d8576b"
            ],
            [
             0.6666666666666666,
             "#ed7953"
            ],
            [
             0.7777777777777778,
             "#fb9f3a"
            ],
            [
             0.8888888888888888,
             "#fdca26"
            ],
            [
             1,
             "#f0f921"
            ]
           ]
          },
          "colorway": [
           "#636efa",
           "#EF553B",
           "#00cc96",
           "#ab63fa",
           "#FFA15A",
           "#19d3f3",
           "#FF6692",
           "#B6E880",
           "#FF97FF",
           "#FECB52"
          ],
          "font": {
           "color": "#2a3f5f"
          },
          "geo": {
           "bgcolor": "white",
           "lakecolor": "white",
           "landcolor": "#E5ECF6",
           "showlakes": true,
           "showland": true,
           "subunitcolor": "white"
          },
          "hoverlabel": {
           "align": "left"
          },
          "hovermode": "closest",
          "mapbox": {
           "style": "light"
          },
          "paper_bgcolor": "white",
          "plot_bgcolor": "#E5ECF6",
          "polar": {
           "angularaxis": {
            "gridcolor": "white",
            "linecolor": "white",
            "ticks": ""
           },
           "bgcolor": "#E5ECF6",
           "radialaxis": {
            "gridcolor": "white",
            "linecolor": "white",
            "ticks": ""
           }
          },
          "scene": {
           "xaxis": {
            "backgroundcolor": "#E5ECF6",
            "gridcolor": "white",
            "gridwidth": 2,
            "linecolor": "white",
            "showbackground": true,
            "ticks": "",
            "zerolinecolor": "white"
           },
           "yaxis": {
            "backgroundcolor": "#E5ECF6",
            "gridcolor": "white",
            "gridwidth": 2,
            "linecolor": "white",
            "showbackground": true,
            "ticks": "",
            "zerolinecolor": "white"
           },
           "zaxis": {
            "backgroundcolor": "#E5ECF6",
            "gridcolor": "white",
            "gridwidth": 2,
            "linecolor": "white",
            "showbackground": true,
            "ticks": "",
            "zerolinecolor": "white"
           }
          },
          "shapedefaults": {
           "line": {
            "color": "#2a3f5f"
           }
          },
          "ternary": {
           "aaxis": {
            "gridcolor": "white",
            "linecolor": "white",
            "ticks": ""
           },
           "baxis": {
            "gridcolor": "white",
            "linecolor": "white",
            "ticks": ""
           },
           "bgcolor": "#E5ECF6",
           "caxis": {
            "gridcolor": "white",
            "linecolor": "white",
            "ticks": ""
           }
          },
          "title": {
           "x": 0.05
          },
          "xaxis": {
           "automargin": true,
           "gridcolor": "white",
           "linecolor": "white",
           "ticks": "",
           "title": {
            "standoff": 15
           },
           "zerolinecolor": "white",
           "zerolinewidth": 2
          },
          "yaxis": {
           "automargin": true,
           "gridcolor": "white",
           "linecolor": "white",
           "ticks": "",
           "title": {
            "standoff": 15
           },
           "zerolinecolor": "white",
           "zerolinewidth": 2
          }
         }
        },
        "title": {
         "text": "Most Common Target Bans [Major Regions]"
        },
        "xaxis": {
         "visible": false
        }
       }
      }
     },
     "metadata": {},
     "output_type": "display_data"
    }
   ],
   "source": [
    "# 3 Biggest Target Bans\n",
    "\n",
    "def rename_opponent(row):\n",
    "    if row['team'] == \"t1\":\n",
    "        row['opponent'] = row['t2_name']\n",
    "    elif row['team'] == \"t2\":\n",
    "        row['opponent'] = row['t1_name']\n",
    "    return row\n",
    "\n",
    "# Apply the function row by row\n",
    "df_bans_team = df_bans[df_bans['league'].isin(['LEC', 'LPL', 'LCK', 'LCS'])].apply(rename_opponent, axis=1)\n",
    "df_bans_team = df_bans_team.drop(columns=[\"t1_name\", \"t2_name\"])\n",
    "\n",
    "df_bans_team = df_bans_team.groupby(['opponent', 'ban']).size().reset_index(name='count')\n",
    "df_bans_team = df_bans_team.sort_values(by='count', ascending=False)\n",
    "df_bans_team = df_bans_team.rename(columns={\"opponent\": \"team\"})\n",
    "df_bans_team = df_bans_team.reset_index(drop=True)\n",
    "df_bans_team = df_bans_team.head(5)\n",
    "\n",
    "fig = go.Figure()\n",
    "\n",
    "# Add bars to the chart\n",
    "fig.add_trace(go.Bar(\n",
    "    x=df_bans_team['ban'],\n",
    "    y=df_bans_team['count'],\n",
    "    marker=dict(color='royalblue'),\n",
    "    name='Ban Count'\n",
    "))\n",
    "\n",
    "for index, x in enumerate(fig.data[0].x):\n",
    "        ban = \"\".join([c for c in x if c not in \"' \"])\n",
    "        fig.add_layout_image(\n",
    "            source=f\"assets/champion/{ban}.png\",\n",
    "            x=x,\n",
    "            y=4,\n",
    "            xref=\"x\",\n",
    "            yref=\"y\",\n",
    "            xanchor=\"center\",\n",
    "            sizex=4,\n",
    "            sizey=4,\n",
    "        )\n",
    "\n",
    "        fig.add_annotation(\n",
    "            x=x,\n",
    "            y=5,\n",
    "            xref=\"x\",\n",
    "            yref=\"y\",\n",
    "            text=f\"<b>{df_bans_team.iloc[index]['team']}<br><i>{x} </i></b>\",\n",
    "            align=\"center\",\n",
    "            showarrow=False,\n",
    "            font=dict(color=\"black\"),\n",
    "            borderwidth=2,\n",
    "            borderpad=4,\n",
    "            opacity=0.8\n",
    "        )\n",
    "\n",
    "\n",
    "fig.update_layout(title=dict(text=\"Most Common Target Bans [Major Regions]\"))\n",
    "fig.update_layout(xaxis={\"visible\":False})\n",
    "fig.show()"
   ]
  },
  {
   "cell_type": "code",
   "execution_count": 10,
   "metadata": {},
   "outputs": [
    {
     "data": {
      "text/html": [
       "<div>\n",
       "<style scoped>\n",
       "    .dataframe tbody tr th:only-of-type {\n",
       "        vertical-align: middle;\n",
       "    }\n",
       "\n",
       "    .dataframe tbody tr th {\n",
       "        vertical-align: top;\n",
       "    }\n",
       "\n",
       "    .dataframe thead th {\n",
       "        text-align: right;\n",
       "    }\n",
       "</style>\n",
       "<table border=\"1\" class=\"dataframe\">\n",
       "  <thead>\n",
       "    <tr style=\"text-align: right;\">\n",
       "      <th></th>\n",
       "      <th>team</th>\n",
       "      <th>side</th>\n",
       "      <th>Aatrox</th>\n",
       "      <th>Ahri</th>\n",
       "      <th>Akali</th>\n",
       "      <th>Akshan</th>\n",
       "      <th>Alistar</th>\n",
       "      <th>Anivia</th>\n",
       "      <th>Annie</th>\n",
       "      <th>Aphelios</th>\n",
       "      <th>Ashe</th>\n",
       "      <th>Aurelion Sol</th>\n",
       "      <th>Azir</th>\n",
       "      <th>Bard</th>\n",
       "      <th>Bel'Veth</th>\n",
       "      <th>Blitzcrank</th>\n",
       "      <th>Brand</th>\n",
       "      <th>Braum</th>\n",
       "      <th>Briar</th>\n",
       "      <th>Caitlyn</th>\n",
       "      <th>Cassiopeia</th>\n",
       "      <th>Cho'Gath</th>\n",
       "      <th>Corki</th>\n",
       "      <th>Darius</th>\n",
       "      <th>Draven</th>\n",
       "      <th>Elise</th>\n",
       "      <th>Ezreal</th>\n",
       "      <th>Fiora</th>\n",
       "      <th>Galio</th>\n",
       "      <th>Garen</th>\n",
       "      <th>Gnar</th>\n",
       "      <th>Gragas</th>\n",
       "      <th>Graves</th>\n",
       "      <th>Gwen</th>\n",
       "      <th>Hecarim</th>\n",
       "      <th>Heimerdinger</th>\n",
       "      <th>Hwei</th>\n",
       "      <th>Illaoi</th>\n",
       "      <th>Irelia</th>\n",
       "      <th>Ivern</th>\n",
       "      <th>Janna</th>\n",
       "      <th>Jarvan IV</th>\n",
       "      <th>Jax</th>\n",
       "      <th>Jayce</th>\n",
       "      <th>Jhin</th>\n",
       "      <th>Jinx</th>\n",
       "      <th>K'Sante</th>\n",
       "      <th>Kai'Sa</th>\n",
       "      <th>Kalista</th>\n",
       "      <th>Karma</th>\n",
       "      <th>Karthus</th>\n",
       "      <th>Kassadin</th>\n",
       "      <th>Kennen</th>\n",
       "      <th>Kha'Zix</th>\n",
       "      <th>Kindred</th>\n",
       "      <th>Kled</th>\n",
       "      <th>Kog'Maw</th>\n",
       "      <th>LeBlanc</th>\n",
       "      <th>Lee Sin</th>\n",
       "      <th>Leona</th>\n",
       "      <th>Lillia</th>\n",
       "      <th>Lissandra</th>\n",
       "      <th>Lucian</th>\n",
       "      <th>Lulu</th>\n",
       "      <th>Lux</th>\n",
       "      <th>Malphite</th>\n",
       "      <th>Maokai</th>\n",
       "      <th>Milio</th>\n",
       "      <th>Miss Fortune</th>\n",
       "      <th>Mordekaiser</th>\n",
       "      <th>Naafiri</th>\n",
       "      <th>Nautilus</th>\n",
       "      <th>Neeko</th>\n",
       "      <th>Nilah</th>\n",
       "      <th>Nocturne</th>\n",
       "      <th>Olaf</th>\n",
       "      <th>Orianna</th>\n",
       "      <th>Ornn</th>\n",
       "      <th>Poppy</th>\n",
       "      <th>Pyke</th>\n",
       "      <th>Rakan</th>\n",
       "      <th>Rell</th>\n",
       "      <th>Renata Glasc</th>\n",
       "      <th>Renekton</th>\n",
       "      <th>Rengar</th>\n",
       "      <th>Riven</th>\n",
       "      <th>Rumble</th>\n",
       "      <th>Ryze</th>\n",
       "      <th>Samira</th>\n",
       "      <th>Sejuani</th>\n",
       "      <th>Senna</th>\n",
       "      <th>Seraphine</th>\n",
       "      <th>Sett</th>\n",
       "      <th>Sion</th>\n",
       "      <th>Sivir</th>\n",
       "      <th>Skarner</th>\n",
       "      <th>Smolder</th>\n",
       "      <th>Sona</th>\n",
       "      <th>Soraka</th>\n",
       "      <th>Swain</th>\n",
       "      <th>Sylas</th>\n",
       "      <th>Syndra</th>\n",
       "      <th>Tahm Kench</th>\n",
       "      <th>Taliyah</th>\n",
       "      <th>Thresh</th>\n",
       "      <th>Tristana</th>\n",
       "      <th>Trundle</th>\n",
       "      <th>Tryndamere</th>\n",
       "      <th>Twisted Fate</th>\n",
       "      <th>Udyr</th>\n",
       "      <th>Urgot</th>\n",
       "      <th>Varus</th>\n",
       "      <th>Vayne</th>\n",
       "      <th>Vel'Koz</th>\n",
       "      <th>Vi</th>\n",
       "      <th>Viego</th>\n",
       "      <th>Viktor</th>\n",
       "      <th>Vladimir</th>\n",
       "      <th>Volibear</th>\n",
       "      <th>Wukong</th>\n",
       "      <th>Xayah</th>\n",
       "      <th>Xerath</th>\n",
       "      <th>Xin Zhao</th>\n",
       "      <th>Yasuo</th>\n",
       "      <th>Yone</th>\n",
       "      <th>Zac</th>\n",
       "      <th>Zed</th>\n",
       "      <th>Zeri</th>\n",
       "      <th>Ziggs</th>\n",
       "      <th>Zyra</th>\n",
       "    </tr>\n",
       "  </thead>\n",
       "  <tbody>\n",
       "    <tr>\n",
       "      <th>1056</th>\n",
       "      <td>Team Secret</td>\n",
       "      <td>Blue</td>\n",
       "      <td>0.0</td>\n",
       "      <td>0.0</td>\n",
       "      <td>0.0</td>\n",
       "      <td>0.0</td>\n",
       "      <td>0.0</td>\n",
       "      <td>0.0</td>\n",
       "      <td>0.0</td>\n",
       "      <td>0.0</td>\n",
       "      <td>1.0</td>\n",
       "      <td>0.0</td>\n",
       "      <td>0.0</td>\n",
       "      <td>0.0</td>\n",
       "      <td>0.0</td>\n",
       "      <td>0.0</td>\n",
       "      <td>0.0</td>\n",
       "      <td>0.0</td>\n",
       "      <td>0.0</td>\n",
       "      <td>0.0</td>\n",
       "      <td>0.0</td>\n",
       "      <td>0.0</td>\n",
       "      <td>0.0</td>\n",
       "      <td>0.0</td>\n",
       "      <td>0.0</td>\n",
       "      <td>0.0</td>\n",
       "      <td>0.0</td>\n",
       "      <td>0.0</td>\n",
       "      <td>0.0</td>\n",
       "      <td>0.0</td>\n",
       "      <td>0.0</td>\n",
       "      <td>0.0</td>\n",
       "      <td>0.0</td>\n",
       "      <td>0.0</td>\n",
       "      <td>0.0</td>\n",
       "      <td>0.0</td>\n",
       "      <td>0.0</td>\n",
       "      <td>0.0</td>\n",
       "      <td>0.0</td>\n",
       "      <td>0.0</td>\n",
       "      <td>0.0</td>\n",
       "      <td>0.0</td>\n",
       "      <td>0.0</td>\n",
       "      <td>0.0</td>\n",
       "      <td>0.0</td>\n",
       "      <td>0.0</td>\n",
       "      <td>0.0</td>\n",
       "      <td>0.0</td>\n",
       "      <td>0.0</td>\n",
       "      <td>0.0</td>\n",
       "      <td>0.0</td>\n",
       "      <td>0.0</td>\n",
       "      <td>0.0</td>\n",
       "      <td>0.0</td>\n",
       "      <td>0.0</td>\n",
       "      <td>0.0</td>\n",
       "      <td>0.0</td>\n",
       "      <td>0.0</td>\n",
       "      <td>1.0</td>\n",
       "      <td>0.0</td>\n",
       "      <td>0.0</td>\n",
       "      <td>0.0</td>\n",
       "      <td>0.0</td>\n",
       "      <td>0.0</td>\n",
       "      <td>0.0</td>\n",
       "      <td>0.0</td>\n",
       "      <td>0.0</td>\n",
       "      <td>0.0</td>\n",
       "      <td>0.0</td>\n",
       "      <td>0.0</td>\n",
       "      <td>0.0</td>\n",
       "      <td>0.0</td>\n",
       "      <td>1.0</td>\n",
       "      <td>0.0</td>\n",
       "      <td>1.0</td>\n",
       "      <td>0.0</td>\n",
       "      <td>0.0</td>\n",
       "      <td>0.0</td>\n",
       "      <td>1.0</td>\n",
       "      <td>0.0</td>\n",
       "      <td>0.0</td>\n",
       "      <td>0.0</td>\n",
       "      <td>0.0</td>\n",
       "      <td>0.0</td>\n",
       "      <td>0.0</td>\n",
       "      <td>0.0</td>\n",
       "      <td>0.0</td>\n",
       "      <td>0.0</td>\n",
       "      <td>0.0</td>\n",
       "      <td>0.0</td>\n",
       "      <td>0.0</td>\n",
       "      <td>0.0</td>\n",
       "      <td>0.0</td>\n",
       "      <td>0.0</td>\n",
       "      <td>0.0</td>\n",
       "      <td>0.0</td>\n",
       "      <td>0.0</td>\n",
       "      <td>0.0</td>\n",
       "      <td>0.0</td>\n",
       "      <td>0.0</td>\n",
       "      <td>0.0</td>\n",
       "      <td>0.0</td>\n",
       "      <td>0.0</td>\n",
       "      <td>0.0</td>\n",
       "      <td>0.0</td>\n",
       "      <td>0.0</td>\n",
       "      <td>0.0</td>\n",
       "      <td>0.0</td>\n",
       "      <td>0.0</td>\n",
       "      <td>0.0</td>\n",
       "      <td>0.0</td>\n",
       "      <td>0.0</td>\n",
       "      <td>0.0</td>\n",
       "      <td>0.0</td>\n",
       "      <td>0.0</td>\n",
       "      <td>0.0</td>\n",
       "      <td>0.0</td>\n",
       "      <td>0.0</td>\n",
       "      <td>0.0</td>\n",
       "      <td>0.0</td>\n",
       "      <td>0.0</td>\n",
       "      <td>0.0</td>\n",
       "      <td>0.0</td>\n",
       "      <td>0.0</td>\n",
       "      <td>0.0</td>\n",
       "      <td>0.0</td>\n",
       "      <td>0.0</td>\n",
       "      <td>0.0</td>\n",
       "      <td>0.0</td>\n",
       "      <td>0.0</td>\n",
       "    </tr>\n",
       "    <tr>\n",
       "      <th>904</th>\n",
       "      <td>Beyond Gaming</td>\n",
       "      <td>Blue</td>\n",
       "      <td>0.0</td>\n",
       "      <td>0.0</td>\n",
       "      <td>0.0</td>\n",
       "      <td>0.0</td>\n",
       "      <td>0.0</td>\n",
       "      <td>0.0</td>\n",
       "      <td>0.0</td>\n",
       "      <td>1.0</td>\n",
       "      <td>1.0</td>\n",
       "      <td>0.0</td>\n",
       "      <td>0.0</td>\n",
       "      <td>0.0</td>\n",
       "      <td>0.0</td>\n",
       "      <td>0.0</td>\n",
       "      <td>0.0</td>\n",
       "      <td>0.0</td>\n",
       "      <td>0.0</td>\n",
       "      <td>0.0</td>\n",
       "      <td>0.0</td>\n",
       "      <td>0.0</td>\n",
       "      <td>0.0</td>\n",
       "      <td>0.0</td>\n",
       "      <td>0.0</td>\n",
       "      <td>0.0</td>\n",
       "      <td>0.0</td>\n",
       "      <td>0.0</td>\n",
       "      <td>0.0</td>\n",
       "      <td>0.0</td>\n",
       "      <td>0.0</td>\n",
       "      <td>0.0</td>\n",
       "      <td>0.0</td>\n",
       "      <td>0.0</td>\n",
       "      <td>0.0</td>\n",
       "      <td>0.0</td>\n",
       "      <td>0.0</td>\n",
       "      <td>0.0</td>\n",
       "      <td>0.0</td>\n",
       "      <td>0.0</td>\n",
       "      <td>0.0</td>\n",
       "      <td>0.0</td>\n",
       "      <td>0.0</td>\n",
       "      <td>0.0</td>\n",
       "      <td>0.0</td>\n",
       "      <td>0.0</td>\n",
       "      <td>0.0</td>\n",
       "      <td>0.0</td>\n",
       "      <td>0.0</td>\n",
       "      <td>0.0</td>\n",
       "      <td>0.0</td>\n",
       "      <td>0.0</td>\n",
       "      <td>0.0</td>\n",
       "      <td>0.0</td>\n",
       "      <td>0.0</td>\n",
       "      <td>0.0</td>\n",
       "      <td>0.0</td>\n",
       "      <td>0.0</td>\n",
       "      <td>0.0</td>\n",
       "      <td>0.0</td>\n",
       "      <td>0.0</td>\n",
       "      <td>0.0</td>\n",
       "      <td>0.0</td>\n",
       "      <td>0.0</td>\n",
       "      <td>0.0</td>\n",
       "      <td>0.0</td>\n",
       "      <td>0.0</td>\n",
       "      <td>0.0</td>\n",
       "      <td>0.0</td>\n",
       "      <td>0.0</td>\n",
       "      <td>0.0</td>\n",
       "      <td>0.0</td>\n",
       "      <td>0.0</td>\n",
       "      <td>0.0</td>\n",
       "      <td>0.0</td>\n",
       "      <td>0.0</td>\n",
       "      <td>1.0</td>\n",
       "      <td>0.0</td>\n",
       "      <td>0.0</td>\n",
       "      <td>0.0</td>\n",
       "      <td>0.0</td>\n",
       "      <td>0.0</td>\n",
       "      <td>0.0</td>\n",
       "      <td>0.0</td>\n",
       "      <td>0.0</td>\n",
       "      <td>0.0</td>\n",
       "      <td>0.0</td>\n",
       "      <td>0.0</td>\n",
       "      <td>0.0</td>\n",
       "      <td>0.0</td>\n",
       "      <td>1.0</td>\n",
       "      <td>0.0</td>\n",
       "      <td>0.0</td>\n",
       "      <td>0.0</td>\n",
       "      <td>0.0</td>\n",
       "      <td>0.0</td>\n",
       "      <td>0.0</td>\n",
       "      <td>0.0</td>\n",
       "      <td>0.0</td>\n",
       "      <td>0.0</td>\n",
       "      <td>0.0</td>\n",
       "      <td>0.0</td>\n",
       "      <td>0.0</td>\n",
       "      <td>0.0</td>\n",
       "      <td>0.0</td>\n",
       "      <td>0.0</td>\n",
       "      <td>0.0</td>\n",
       "      <td>0.0</td>\n",
       "      <td>0.0</td>\n",
       "      <td>0.0</td>\n",
       "      <td>0.0</td>\n",
       "      <td>1.0</td>\n",
       "      <td>0.0</td>\n",
       "      <td>0.0</td>\n",
       "      <td>0.0</td>\n",
       "      <td>0.0</td>\n",
       "      <td>0.0</td>\n",
       "      <td>0.0</td>\n",
       "      <td>0.0</td>\n",
       "      <td>0.0</td>\n",
       "      <td>0.0</td>\n",
       "      <td>0.0</td>\n",
       "      <td>0.0</td>\n",
       "      <td>0.0</td>\n",
       "      <td>0.0</td>\n",
       "      <td>0.0</td>\n",
       "      <td>0.0</td>\n",
       "      <td>0.0</td>\n",
       "      <td>0.0</td>\n",
       "      <td>0.0</td>\n",
       "    </tr>\n",
       "    <tr>\n",
       "      <th>419</th>\n",
       "      <td>WLGaming Esports</td>\n",
       "      <td>Red</td>\n",
       "      <td>0.0</td>\n",
       "      <td>0.0</td>\n",
       "      <td>0.0</td>\n",
       "      <td>0.0</td>\n",
       "      <td>0.0</td>\n",
       "      <td>0.0</td>\n",
       "      <td>0.0</td>\n",
       "      <td>0.0</td>\n",
       "      <td>0.0</td>\n",
       "      <td>0.0</td>\n",
       "      <td>0.0</td>\n",
       "      <td>0.0</td>\n",
       "      <td>0.0</td>\n",
       "      <td>0.0</td>\n",
       "      <td>0.0</td>\n",
       "      <td>1.0</td>\n",
       "      <td>0.0</td>\n",
       "      <td>0.0</td>\n",
       "      <td>0.0</td>\n",
       "      <td>0.0</td>\n",
       "      <td>1.0</td>\n",
       "      <td>0.0</td>\n",
       "      <td>0.0</td>\n",
       "      <td>0.0</td>\n",
       "      <td>0.0</td>\n",
       "      <td>0.0</td>\n",
       "      <td>0.0</td>\n",
       "      <td>0.0</td>\n",
       "      <td>0.0</td>\n",
       "      <td>0.0</td>\n",
       "      <td>0.0</td>\n",
       "      <td>0.0</td>\n",
       "      <td>0.0</td>\n",
       "      <td>0.0</td>\n",
       "      <td>0.0</td>\n",
       "      <td>0.0</td>\n",
       "      <td>0.0</td>\n",
       "      <td>0.0</td>\n",
       "      <td>0.0</td>\n",
       "      <td>0.0</td>\n",
       "      <td>0.0</td>\n",
       "      <td>0.0</td>\n",
       "      <td>0.0</td>\n",
       "      <td>0.0</td>\n",
       "      <td>0.0</td>\n",
       "      <td>0.0</td>\n",
       "      <td>0.0</td>\n",
       "      <td>0.0</td>\n",
       "      <td>0.0</td>\n",
       "      <td>0.0</td>\n",
       "      <td>0.0</td>\n",
       "      <td>0.0</td>\n",
       "      <td>0.0</td>\n",
       "      <td>0.0</td>\n",
       "      <td>0.0</td>\n",
       "      <td>0.0</td>\n",
       "      <td>0.0</td>\n",
       "      <td>0.0</td>\n",
       "      <td>0.0</td>\n",
       "      <td>0.0</td>\n",
       "      <td>0.0</td>\n",
       "      <td>0.0</td>\n",
       "      <td>0.0</td>\n",
       "      <td>0.0</td>\n",
       "      <td>1.0</td>\n",
       "      <td>1.0</td>\n",
       "      <td>0.0</td>\n",
       "      <td>0.0</td>\n",
       "      <td>0.0</td>\n",
       "      <td>0.0</td>\n",
       "      <td>0.0</td>\n",
       "      <td>0.0</td>\n",
       "      <td>0.0</td>\n",
       "      <td>0.0</td>\n",
       "      <td>0.0</td>\n",
       "      <td>0.0</td>\n",
       "      <td>0.0</td>\n",
       "      <td>0.0</td>\n",
       "      <td>0.0</td>\n",
       "      <td>0.0</td>\n",
       "      <td>1.0</td>\n",
       "      <td>0.0</td>\n",
       "      <td>0.0</td>\n",
       "      <td>0.0</td>\n",
       "      <td>0.0</td>\n",
       "      <td>0.0</td>\n",
       "      <td>0.0</td>\n",
       "      <td>0.0</td>\n",
       "      <td>0.0</td>\n",
       "      <td>0.0</td>\n",
       "      <td>0.0</td>\n",
       "      <td>0.0</td>\n",
       "      <td>0.0</td>\n",
       "      <td>0.0</td>\n",
       "      <td>0.0</td>\n",
       "      <td>0.0</td>\n",
       "      <td>0.0</td>\n",
       "      <td>0.0</td>\n",
       "      <td>0.0</td>\n",
       "      <td>0.0</td>\n",
       "      <td>0.0</td>\n",
       "      <td>0.0</td>\n",
       "      <td>0.0</td>\n",
       "      <td>0.0</td>\n",
       "      <td>0.0</td>\n",
       "      <td>0.0</td>\n",
       "      <td>0.0</td>\n",
       "      <td>0.0</td>\n",
       "      <td>0.0</td>\n",
       "      <td>0.0</td>\n",
       "      <td>0.0</td>\n",
       "      <td>0.0</td>\n",
       "      <td>0.0</td>\n",
       "      <td>0.0</td>\n",
       "      <td>0.0</td>\n",
       "      <td>0.0</td>\n",
       "      <td>0.0</td>\n",
       "      <td>0.0</td>\n",
       "      <td>0.0</td>\n",
       "      <td>0.0</td>\n",
       "      <td>0.0</td>\n",
       "      <td>0.0</td>\n",
       "      <td>0.0</td>\n",
       "      <td>0.0</td>\n",
       "      <td>0.0</td>\n",
       "      <td>0.0</td>\n",
       "      <td>0.0</td>\n",
       "      <td>0.0</td>\n",
       "    </tr>\n",
       "  </tbody>\n",
       "</table>\n",
       "</div>"
      ],
      "text/plain": [
       "                  team  side  Aatrox  Ahri  Akali  Akshan  Alistar  Anivia  \\\n",
       "1056       Team Secret  Blue     0.0   0.0    0.0     0.0      0.0     0.0   \n",
       "904      Beyond Gaming  Blue     0.0   0.0    0.0     0.0      0.0     0.0   \n",
       "419   WLGaming Esports   Red     0.0   0.0    0.0     0.0      0.0     0.0   \n",
       "\n",
       "      Annie  Aphelios  Ashe  Aurelion Sol  Azir  Bard  Bel'Veth  Blitzcrank  \\\n",
       "1056    0.0       0.0   1.0           0.0   0.0   0.0       0.0         0.0   \n",
       "904     0.0       1.0   1.0           0.0   0.0   0.0       0.0         0.0   \n",
       "419     0.0       0.0   0.0           0.0   0.0   0.0       0.0         0.0   \n",
       "\n",
       "      Brand  Braum  Briar  Caitlyn  Cassiopeia  Cho'Gath  Corki  Darius  \\\n",
       "1056    0.0    0.0    0.0      0.0         0.0       0.0    0.0     0.0   \n",
       "904     0.0    0.0    0.0      0.0         0.0       0.0    0.0     0.0   \n",
       "419     0.0    1.0    0.0      0.0         0.0       0.0    1.0     0.0   \n",
       "\n",
       "      Draven  Elise  Ezreal  Fiora  Galio  Garen  Gnar  Gragas  Graves  Gwen  \\\n",
       "1056     0.0    0.0     0.0    0.0    0.0    0.0   0.0     0.0     0.0   0.0   \n",
       "904      0.0    0.0     0.0    0.0    0.0    0.0   0.0     0.0     0.0   0.0   \n",
       "419      0.0    0.0     0.0    0.0    0.0    0.0   0.0     0.0     0.0   0.0   \n",
       "\n",
       "      Hecarim  Heimerdinger  Hwei  Illaoi  Irelia  Ivern  Janna  Jarvan IV  \\\n",
       "1056      0.0           0.0   0.0     0.0     0.0    0.0    0.0        0.0   \n",
       "904       0.0           0.0   0.0     0.0     0.0    0.0    0.0        0.0   \n",
       "419       0.0           0.0   0.0     0.0     0.0    0.0    0.0        0.0   \n",
       "\n",
       "      Jax  Jayce  Jhin  Jinx  K'Sante  Kai'Sa  Kalista  Karma  Karthus  \\\n",
       "1056  0.0    0.0   0.0   0.0      0.0     0.0      0.0    0.0      0.0   \n",
       "904   0.0    0.0   0.0   0.0      0.0     0.0      0.0    0.0      0.0   \n",
       "419   0.0    0.0   0.0   0.0      0.0     0.0      0.0    0.0      0.0   \n",
       "\n",
       "      Kassadin  Kennen  Kha'Zix  Kindred  Kled  Kog'Maw  LeBlanc  Lee Sin  \\\n",
       "1056       0.0     0.0      0.0      0.0   0.0      0.0      0.0      1.0   \n",
       "904        0.0     0.0      0.0      0.0   0.0      0.0      0.0      0.0   \n",
       "419        0.0     0.0      0.0      0.0   0.0      0.0      0.0      0.0   \n",
       "\n",
       "      Leona  Lillia  Lissandra  Lucian  Lulu  Lux  Malphite  Maokai  Milio  \\\n",
       "1056    0.0     0.0        0.0     0.0   0.0  0.0       0.0     0.0    0.0   \n",
       "904     0.0     0.0        0.0     0.0   0.0  0.0       0.0     0.0    0.0   \n",
       "419     0.0     0.0        0.0     0.0   0.0  0.0       0.0     1.0    1.0   \n",
       "\n",
       "      Miss Fortune  Mordekaiser  Naafiri  Nautilus  Neeko  Nilah  Nocturne  \\\n",
       "1056           0.0          0.0      0.0       0.0    1.0    0.0       1.0   \n",
       "904            0.0          0.0      0.0       0.0    0.0    0.0       0.0   \n",
       "419            0.0          0.0      0.0       0.0    0.0    0.0       0.0   \n",
       "\n",
       "      Olaf  Orianna  Ornn  Poppy  Pyke  Rakan  Rell  Renata Glasc  Renekton  \\\n",
       "1056   0.0      0.0   0.0    1.0   0.0    0.0   0.0           0.0       0.0   \n",
       "904    0.0      1.0   0.0    0.0   0.0    0.0   0.0           0.0       0.0   \n",
       "419    0.0      0.0   0.0    0.0   0.0    0.0   0.0           1.0       0.0   \n",
       "\n",
       "      Rengar  Riven  Rumble  Ryze  Samira  Sejuani  Senna  Seraphine  Sett  \\\n",
       "1056     0.0    0.0     0.0   0.0     0.0      0.0    0.0        0.0   0.0   \n",
       "904      0.0    0.0     0.0   0.0     0.0      0.0    1.0        0.0   0.0   \n",
       "419      0.0    0.0     0.0   0.0     0.0      0.0    0.0        0.0   0.0   \n",
       "\n",
       "      Sion  Sivir  Skarner  Smolder  Sona  Soraka  Swain  Sylas  Syndra  \\\n",
       "1056   0.0    0.0      0.0      0.0   0.0     0.0    0.0    0.0     0.0   \n",
       "904    0.0    0.0      0.0      0.0   0.0     0.0    0.0    0.0     0.0   \n",
       "419    0.0    0.0      0.0      0.0   0.0     0.0    0.0    0.0     0.0   \n",
       "\n",
       "      Tahm Kench  Taliyah  Thresh  Tristana  Trundle  Tryndamere  \\\n",
       "1056         0.0      0.0     0.0       0.0      0.0         0.0   \n",
       "904          0.0      0.0     0.0       0.0      0.0         0.0   \n",
       "419          0.0      0.0     0.0       0.0      0.0         0.0   \n",
       "\n",
       "      Twisted Fate  Udyr  Urgot  Varus  Vayne  Vel'Koz   Vi  Viego  Viktor  \\\n",
       "1056           0.0   0.0    0.0    0.0    0.0      0.0  0.0    0.0     0.0   \n",
       "904            0.0   0.0    0.0    1.0    0.0      0.0  0.0    0.0     0.0   \n",
       "419            0.0   0.0    0.0    0.0    0.0      0.0  0.0    0.0     0.0   \n",
       "\n",
       "      Vladimir  Volibear  Wukong  Xayah  Xerath  Xin Zhao  Yasuo  Yone  Zac  \\\n",
       "1056       0.0       0.0     0.0    0.0     0.0       0.0    0.0   0.0  0.0   \n",
       "904        0.0       0.0     0.0    0.0     0.0       0.0    0.0   0.0  0.0   \n",
       "419        0.0       0.0     0.0    0.0     0.0       0.0    0.0   0.0  0.0   \n",
       "\n",
       "      Zed  Zeri  Ziggs  Zyra  \n",
       "1056  0.0   0.0    0.0   0.0  \n",
       "904   0.0   0.0    0.0   0.0  \n",
       "419   0.0   0.0    0.0   0.0  "
      ]
     },
     "execution_count": 10,
     "metadata": {},
     "output_type": "execute_result"
    }
   ],
   "source": [
    "# Create a list of all unique champions banned in t1_ban1 to t2_ban5\n",
    "target_ban_df = df_reduced.drop(columns=[\"t1_top\",\"t2_top\",\"t1_jng\",\"t2_top\",\"t1_mid\",\"t2_top\",\"t1_adc\",\"t2_top\", \"t1_sup\", \"t2_top\"])\n",
    "target_ban_df = target_ban_df[target_ban_df['league'].isin(['LEC', 'LPL', 'LCK', 'LCS'])]\n",
    "banned_champions = pd.unique(target_ban_df[['t1_ban1', 't2_ban1', 't1_ban2', 't2_ban2', 't1_ban3', 't2_ban3', 't1_ban4', 't2_ban4', 't1_ban5', 't2_ban5']].values.ravel())\n",
    "\n",
    "# Display the final dataframe\n",
    "rows_t2 = df_reduced[['gameid', 'datacompleteness', 'league', 'year', 'split', 'playoffs', 'date', 'game', 'patch', 'result', 't2_name', 't1_name', 't1_ban1', 't1_ban2', 't1_ban3', 't1_ban4', 't1_ban5']].copy()\n",
    "rows_t1 = df_reduced[['gameid', 'datacompleteness', 'league', 'year', 'split', 'playoffs', 'date', 'game', 'patch', 'result', 't1_name', 't2_name', 't2_ban1', 't2_ban2', 't2_ban3', 't2_ban4', 't2_ban5']].copy()\n",
    "\n",
    "rows_t2 = rows_t2.rename(columns={\"t1_ban1\": \"ban1\", \"t1_ban2\": \"ban2\", \"t1_ban3\": \"ban3\", \"t1_ban4\": \"ban4\", \"t1_ban5\": \"ban5\", \"t2_name\": \"team\"}).drop(columns=[\"t1_name\"])\n",
    "rows_t2[\"side\"] = \"Red\"\n",
    "\n",
    "rows_t1 = rows_t1.rename(columns={\"t2_ban1\": \"ban1\", \"t2_ban2\": \"ban2\", \"t2_ban3\": \"ban3\", \"t2_ban4\": \"ban4\", \"t2_ban5\": \"ban5\", \"t1_name\": \"team\"}).drop(columns=[\"t2_name\"])\n",
    "rows_t1[\"side\"] = \"Blue\"\n",
    "\n",
    "\n",
    "# Concatenate the rows for t2 and t1\n",
    "df_transformed = pd.concat([rows_t2, rows_t1], ignore_index=True)\n",
    "df_transformed\n",
    "\n",
    "banned_champions = set()\n",
    "for index in range(1,6):\n",
    "    banned_champions.update(tuple(df_transformed[f\"ban{index}\"].unique()))\n",
    "banned_champions = list(banned_champions)\n",
    "banned_champions.sort()\n",
    "\n",
    "new_data = pd.DataFrame(0, index=df.index, columns=banned_champions)\n",
    "\n",
    "# Concatenate the new columns to the original DataFrame\n",
    "df_transformed = pd.concat([df_transformed, new_data], axis=1)\n",
    "df_transformed = df_transformed.fillna(0.0)\n",
    "df_transformed = df_transformed.drop(columns=[\"gameid\", \"datacompleteness\", \"league\", \"year\", \"split\", \"playoffs\", \"date\", \"game\", \"patch\", \"result\"])\n",
    "# \"ban1\", \"ban2\", \"ban3\", \"ban4\", \"ban5\"])\n",
    "\n",
    "def increment_bans(row):\n",
    "    # For each ban column (ban1 to ban5)\n",
    "    for i in range(1, 6):\n",
    "        champ = row[f'ban{i}']\n",
    "        if champ != '':  # Ensure there is a champion to increment\n",
    "            row[champ] = row.get(champ, 0) + 1  # Increment the ban count\n",
    "    return row\n",
    "\n",
    "df_transformed = df_transformed.apply(increment_bans, axis=1)\n",
    "df_transformed = df_transformed.drop(columns=[\"ban1\", \"ban2\", \"ban3\", \"ban4\", \"ban5\"])\n",
    "df_transformed.sample(3)"
   ]
  },
  {
   "cell_type": "code",
   "execution_count": 16,
   "metadata": {},
   "outputs": [
    {
     "data": {
      "application/vnd.plotly.v1+json": {
       "config": {
        "plotlyServerURL": "https://plot.ly"
       },
       "data": [
        {
         "alignmentgroup": "True",
         "hovertemplate": "Champion=%{x}<br>ban rate=%{text}<extra></extra>",
         "legendgroup": "",
         "marker": {
          "color": "royalblue",
          "pattern": {
           "shape": ""
          }
         },
         "name": "",
         "offsetgroup": "",
         "orientation": "v",
         "showlegend": false,
         "text": [
          0.8888888888888888,
          0.8823529411764706,
          0.8235294117647058,
          0.7777777777777778,
          0.7142857142857143
         ],
         "textposition": "inside",
         "texttemplate": "%{text:.2%}",
         "type": "bar",
         "x": [
          "Kalista",
          "Jax",
          "Draven",
          "Ashe",
          "K'Sante"
         ],
         "xaxis": "x",
         "y": [
          0.8888888888888888,
          0.8823529411764706,
          0.8235294117647058,
          0.7777777777777778,
          0.7142857142857143
         ],
         "yaxis": "y"
        }
       ],
       "layout": {
        "annotations": [
         {
          "align": "center",
          "borderpad": 4,
          "borderwidth": 2,
          "font": {
           "color": "black"
          },
          "opacity": 0.8,
          "showarrow": false,
          "text": "<b>Immortals<br><i>Kalista </i></b>",
          "x": "Kalista",
          "xref": "x",
          "y": 0.28,
          "yref": "y"
         },
         {
          "align": "center",
          "borderpad": 4,
          "borderwidth": 2,
          "font": {
           "color": "black"
          },
          "opacity": 0.8,
          "showarrow": false,
          "text": "<b>SK Gaming<br><i>Jax </i></b>",
          "x": "Jax",
          "xref": "x",
          "y": 0.28,
          "yref": "y"
         },
         {
          "align": "center",
          "borderpad": 4,
          "borderwidth": 2,
          "font": {
           "color": "black"
          },
          "opacity": 0.8,
          "showarrow": false,
          "text": "<b>G2 Esports<br><i>Draven </i></b>",
          "x": "Draven",
          "xref": "x",
          "y": 0.28,
          "yref": "y"
         },
         {
          "align": "center",
          "borderpad": 4,
          "borderwidth": 2,
          "font": {
           "color": "black"
          },
          "opacity": 0.8,
          "showarrow": false,
          "text": "<b>Team Liquid<br><i>Ashe </i></b>",
          "x": "Ashe",
          "xref": "x",
          "y": 0.28,
          "yref": "y"
         },
         {
          "align": "center",
          "borderpad": 4,
          "borderwidth": 2,
          "font": {
           "color": "black"
          },
          "opacity": 0.8,
          "showarrow": false,
          "text": "<b>Nongshim RedForce<br><i>K'Sante </i></b>",
          "x": "K'Sante",
          "xref": "x",
          "y": 0.28,
          "yref": "y"
         }
        ],
        "barmode": "relative",
        "images": [
         {
          "sizex": 0.25,
          "sizey": 0.25,
          "source": "assets/champion/Kalista.png",
          "x": "Kalista",
          "xanchor": "center",
          "xref": "x",
          "y": 0.205,
          "yref": "y"
         },
         {
          "sizex": 0.25,
          "sizey": 0.25,
          "source": "assets/champion/Jax.png",
          "x": "Jax",
          "xanchor": "center",
          "xref": "x",
          "y": 0.205,
          "yref": "y"
         },
         {
          "sizex": 0.25,
          "sizey": 0.25,
          "source": "assets/champion/Draven.png",
          "x": "Draven",
          "xanchor": "center",
          "xref": "x",
          "y": 0.205,
          "yref": "y"
         },
         {
          "sizex": 0.25,
          "sizey": 0.25,
          "source": "assets/champion/Ashe.png",
          "x": "Ashe",
          "xanchor": "center",
          "xref": "x",
          "y": 0.205,
          "yref": "y"
         },
         {
          "sizex": 0.25,
          "sizey": 0.25,
          "source": "assets/champion/KSante.png",
          "x": "K'Sante",
          "xanchor": "center",
          "xref": "x",
          "y": 0.205,
          "yref": "y"
         }
        ],
        "legend": {
         "title": {
          "text": "Team"
         },
         "tracegroupgap": 0
        },
        "template": {
         "data": {
          "bar": [
           {
            "error_x": {
             "color": "#2a3f5f"
            },
            "error_y": {
             "color": "#2a3f5f"
            },
            "marker": {
             "line": {
              "color": "#E5ECF6",
              "width": 0.5
             },
             "pattern": {
              "fillmode": "overlay",
              "size": 10,
              "solidity": 0.2
             }
            },
            "type": "bar"
           }
          ],
          "barpolar": [
           {
            "marker": {
             "line": {
              "color": "#E5ECF6",
              "width": 0.5
             },
             "pattern": {
              "fillmode": "overlay",
              "size": 10,
              "solidity": 0.2
             }
            },
            "type": "barpolar"
           }
          ],
          "carpet": [
           {
            "aaxis": {
             "endlinecolor": "#2a3f5f",
             "gridcolor": "white",
             "linecolor": "white",
             "minorgridcolor": "white",
             "startlinecolor": "#2a3f5f"
            },
            "baxis": {
             "endlinecolor": "#2a3f5f",
             "gridcolor": "white",
             "linecolor": "white",
             "minorgridcolor": "white",
             "startlinecolor": "#2a3f5f"
            },
            "type": "carpet"
           }
          ],
          "choropleth": [
           {
            "colorbar": {
             "outlinewidth": 0,
             "ticks": ""
            },
            "type": "choropleth"
           }
          ],
          "contour": [
           {
            "colorbar": {
             "outlinewidth": 0,
             "ticks": ""
            },
            "colorscale": [
             [
              0,
              "#0d0887"
             ],
             [
              0.1111111111111111,
              "#46039f"
             ],
             [
              0.2222222222222222,
              "#7201a8"
             ],
             [
              0.3333333333333333,
              "#9c179e"
             ],
             [
              0.4444444444444444,
              "#bd3786"
             ],
             [
              0.5555555555555556,
              "#d8576b"
             ],
             [
              0.6666666666666666,
              "#ed7953"
             ],
             [
              0.7777777777777778,
              "#fb9f3a"
             ],
             [
              0.8888888888888888,
              "#fdca26"
             ],
             [
              1,
              "#f0f921"
             ]
            ],
            "type": "contour"
           }
          ],
          "contourcarpet": [
           {
            "colorbar": {
             "outlinewidth": 0,
             "ticks": ""
            },
            "type": "contourcarpet"
           }
          ],
          "heatmap": [
           {
            "colorbar": {
             "outlinewidth": 0,
             "ticks": ""
            },
            "colorscale": [
             [
              0,
              "#0d0887"
             ],
             [
              0.1111111111111111,
              "#46039f"
             ],
             [
              0.2222222222222222,
              "#7201a8"
             ],
             [
              0.3333333333333333,
              "#9c179e"
             ],
             [
              0.4444444444444444,
              "#bd3786"
             ],
             [
              0.5555555555555556,
              "#d8576b"
             ],
             [
              0.6666666666666666,
              "#ed7953"
             ],
             [
              0.7777777777777778,
              "#fb9f3a"
             ],
             [
              0.8888888888888888,
              "#fdca26"
             ],
             [
              1,
              "#f0f921"
             ]
            ],
            "type": "heatmap"
           }
          ],
          "heatmapgl": [
           {
            "colorbar": {
             "outlinewidth": 0,
             "ticks": ""
            },
            "colorscale": [
             [
              0,
              "#0d0887"
             ],
             [
              0.1111111111111111,
              "#46039f"
             ],
             [
              0.2222222222222222,
              "#7201a8"
             ],
             [
              0.3333333333333333,
              "#9c179e"
             ],
             [
              0.4444444444444444,
              "#bd3786"
             ],
             [
              0.5555555555555556,
              "#d8576b"
             ],
             [
              0.6666666666666666,
              "#ed7953"
             ],
             [
              0.7777777777777778,
              "#fb9f3a"
             ],
             [
              0.8888888888888888,
              "#fdca26"
             ],
             [
              1,
              "#f0f921"
             ]
            ],
            "type": "heatmapgl"
           }
          ],
          "histogram": [
           {
            "marker": {
             "pattern": {
              "fillmode": "overlay",
              "size": 10,
              "solidity": 0.2
             }
            },
            "type": "histogram"
           }
          ],
          "histogram2d": [
           {
            "colorbar": {
             "outlinewidth": 0,
             "ticks": ""
            },
            "colorscale": [
             [
              0,
              "#0d0887"
             ],
             [
              0.1111111111111111,
              "#46039f"
             ],
             [
              0.2222222222222222,
              "#7201a8"
             ],
             [
              0.3333333333333333,
              "#9c179e"
             ],
             [
              0.4444444444444444,
              "#bd3786"
             ],
             [
              0.5555555555555556,
              "#d8576b"
             ],
             [
              0.6666666666666666,
              "#ed7953"
             ],
             [
              0.7777777777777778,
              "#fb9f3a"
             ],
             [
              0.8888888888888888,
              "#fdca26"
             ],
             [
              1,
              "#f0f921"
             ]
            ],
            "type": "histogram2d"
           }
          ],
          "histogram2dcontour": [
           {
            "colorbar": {
             "outlinewidth": 0,
             "ticks": ""
            },
            "colorscale": [
             [
              0,
              "#0d0887"
             ],
             [
              0.1111111111111111,
              "#46039f"
             ],
             [
              0.2222222222222222,
              "#7201a8"
             ],
             [
              0.3333333333333333,
              "#9c179e"
             ],
             [
              0.4444444444444444,
              "#bd3786"
             ],
             [
              0.5555555555555556,
              "#d8576b"
             ],
             [
              0.6666666666666666,
              "#ed7953"
             ],
             [
              0.7777777777777778,
              "#fb9f3a"
             ],
             [
              0.8888888888888888,
              "#fdca26"
             ],
             [
              1,
              "#f0f921"
             ]
            ],
            "type": "histogram2dcontour"
           }
          ],
          "mesh3d": [
           {
            "colorbar": {
             "outlinewidth": 0,
             "ticks": ""
            },
            "type": "mesh3d"
           }
          ],
          "parcoords": [
           {
            "line": {
             "colorbar": {
              "outlinewidth": 0,
              "ticks": ""
             }
            },
            "type": "parcoords"
           }
          ],
          "pie": [
           {
            "automargin": true,
            "type": "pie"
           }
          ],
          "scatter": [
           {
            "fillpattern": {
             "fillmode": "overlay",
             "size": 10,
             "solidity": 0.2
            },
            "type": "scatter"
           }
          ],
          "scatter3d": [
           {
            "line": {
             "colorbar": {
              "outlinewidth": 0,
              "ticks": ""
             }
            },
            "marker": {
             "colorbar": {
              "outlinewidth": 0,
              "ticks": ""
             }
            },
            "type": "scatter3d"
           }
          ],
          "scattercarpet": [
           {
            "marker": {
             "colorbar": {
              "outlinewidth": 0,
              "ticks": ""
             }
            },
            "type": "scattercarpet"
           }
          ],
          "scattergeo": [
           {
            "marker": {
             "colorbar": {
              "outlinewidth": 0,
              "ticks": ""
             }
            },
            "type": "scattergeo"
           }
          ],
          "scattergl": [
           {
            "marker": {
             "colorbar": {
              "outlinewidth": 0,
              "ticks": ""
             }
            },
            "type": "scattergl"
           }
          ],
          "scattermapbox": [
           {
            "marker": {
             "colorbar": {
              "outlinewidth": 0,
              "ticks": ""
             }
            },
            "type": "scattermapbox"
           }
          ],
          "scatterpolar": [
           {
            "marker": {
             "colorbar": {
              "outlinewidth": 0,
              "ticks": ""
             }
            },
            "type": "scatterpolar"
           }
          ],
          "scatterpolargl": [
           {
            "marker": {
             "colorbar": {
              "outlinewidth": 0,
              "ticks": ""
             }
            },
            "type": "scatterpolargl"
           }
          ],
          "scatterternary": [
           {
            "marker": {
             "colorbar": {
              "outlinewidth": 0,
              "ticks": ""
             }
            },
            "type": "scatterternary"
           }
          ],
          "surface": [
           {
            "colorbar": {
             "outlinewidth": 0,
             "ticks": ""
            },
            "colorscale": [
             [
              0,
              "#0d0887"
             ],
             [
              0.1111111111111111,
              "#46039f"
             ],
             [
              0.2222222222222222,
              "#7201a8"
             ],
             [
              0.3333333333333333,
              "#9c179e"
             ],
             [
              0.4444444444444444,
              "#bd3786"
             ],
             [
              0.5555555555555556,
              "#d8576b"
             ],
             [
              0.6666666666666666,
              "#ed7953"
             ],
             [
              0.7777777777777778,
              "#fb9f3a"
             ],
             [
              0.8888888888888888,
              "#fdca26"
             ],
             [
              1,
              "#f0f921"
             ]
            ],
            "type": "surface"
           }
          ],
          "table": [
           {
            "cells": {
             "fill": {
              "color": "#EBF0F8"
             },
             "line": {
              "color": "white"
             }
            },
            "header": {
             "fill": {
              "color": "#C8D4E3"
             },
             "line": {
              "color": "white"
             }
            },
            "type": "table"
           }
          ]
         },
         "layout": {
          "annotationdefaults": {
           "arrowcolor": "#2a3f5f",
           "arrowhead": 0,
           "arrowwidth": 1
          },
          "autotypenumbers": "strict",
          "coloraxis": {
           "colorbar": {
            "outlinewidth": 0,
            "ticks": ""
           }
          },
          "colorscale": {
           "diverging": [
            [
             0,
             "#8e0152"
            ],
            [
             0.1,
             "#c51b7d"
            ],
            [
             0.2,
             "#de77ae"
            ],
            [
             0.3,
             "#f1b6da"
            ],
            [
             0.4,
             "#fde0ef"
            ],
            [
             0.5,
             "#f7f7f7"
            ],
            [
             0.6,
             "#e6f5d0"
            ],
            [
             0.7,
             "#b8e186"
            ],
            [
             0.8,
             "#7fbc41"
            ],
            [
             0.9,
             "#4d9221"
            ],
            [
             1,
             "#276419"
            ]
           ],
           "sequential": [
            [
             0,
             "#0d0887"
            ],
            [
             0.1111111111111111,
             "#46039f"
            ],
            [
             0.2222222222222222,
             "#7201a8"
            ],
            [
             0.3333333333333333,
             "#9c179e"
            ],
            [
             0.4444444444444444,
             "#bd3786"
            ],
            [
             0.5555555555555556,
             "#d8576b"
            ],
            [
             0.6666666666666666,
             "#ed7953"
            ],
            [
             0.7777777777777778,
             "#fb9f3a"
            ],
            [
             0.8888888888888888,
             "#fdca26"
            ],
            [
             1,
             "#f0f921"
            ]
           ],
           "sequentialminus": [
            [
             0,
             "#0d0887"
            ],
            [
             0.1111111111111111,
             "#46039f"
            ],
            [
             0.2222222222222222,
             "#7201a8"
            ],
            [
             0.3333333333333333,
             "#9c179e"
            ],
            [
             0.4444444444444444,
             "#bd3786"
            ],
            [
             0.5555555555555556,
             "#d8576b"
            ],
            [
             0.6666666666666666,
             "#ed7953"
            ],
            [
             0.7777777777777778,
             "#fb9f3a"
            ],
            [
             0.8888888888888888,
             "#fdca26"
            ],
            [
             1,
             "#f0f921"
            ]
           ]
          },
          "colorway": [
           "#636efa",
           "#EF553B",
           "#00cc96",
           "#ab63fa",
           "#FFA15A",
           "#19d3f3",
           "#FF6692",
           "#B6E880",
           "#FF97FF",
           "#FECB52"
          ],
          "font": {
           "color": "#2a3f5f"
          },
          "geo": {
           "bgcolor": "white",
           "lakecolor": "white",
           "landcolor": "#E5ECF6",
           "showlakes": true,
           "showland": true,
           "subunitcolor": "white"
          },
          "hoverlabel": {
           "align": "left"
          },
          "hovermode": "closest",
          "mapbox": {
           "style": "light"
          },
          "paper_bgcolor": "white",
          "plot_bgcolor": "#E5ECF6",
          "polar": {
           "angularaxis": {
            "gridcolor": "white",
            "linecolor": "white",
            "ticks": ""
           },
           "bgcolor": "#E5ECF6",
           "radialaxis": {
            "gridcolor": "white",
            "linecolor": "white",
            "ticks": ""
           }
          },
          "scene": {
           "xaxis": {
            "backgroundcolor": "#E5ECF6",
            "gridcolor": "white",
            "gridwidth": 2,
            "linecolor": "white",
            "showbackground": true,
            "ticks": "",
            "zerolinecolor": "white"
           },
           "yaxis": {
            "backgroundcolor": "#E5ECF6",
            "gridcolor": "white",
            "gridwidth": 2,
            "linecolor": "white",
            "showbackground": true,
            "ticks": "",
            "zerolinecolor": "white"
           },
           "zaxis": {
            "backgroundcolor": "#E5ECF6",
            "gridcolor": "white",
            "gridwidth": 2,
            "linecolor": "white",
            "showbackground": true,
            "ticks": "",
            "zerolinecolor": "white"
           }
          },
          "shapedefaults": {
           "line": {
            "color": "#2a3f5f"
           }
          },
          "ternary": {
           "aaxis": {
            "gridcolor": "white",
            "linecolor": "white",
            "ticks": ""
           },
           "baxis": {
            "gridcolor": "white",
            "linecolor": "white",
            "ticks": ""
           },
           "bgcolor": "#E5ECF6",
           "caxis": {
            "gridcolor": "white",
            "linecolor": "white",
            "ticks": ""
           }
          },
          "title": {
           "x": 0.05
          },
          "xaxis": {
           "automargin": true,
           "gridcolor": "white",
           "linecolor": "white",
           "ticks": "",
           "title": {
            "standoff": 15
           },
           "zerolinecolor": "white",
           "zerolinewidth": 2
          },
          "yaxis": {
           "automargin": true,
           "gridcolor": "white",
           "linecolor": "white",
           "ticks": "",
           "title": {
            "standoff": 15
           },
           "zerolinecolor": "white",
           "zerolinewidth": 2
          }
         }
        },
        "title": {
         "text": "Highest Ban-Rate Champions against Teams"
        },
        "xaxis": {
         "anchor": "y",
         "domain": [
          0,
          1
         ],
         "title": {
          "text": "Champion"
         },
         "visible": false
        },
        "yaxis": {
         "anchor": "x",
         "domain": [
          0,
          1
         ],
         "title": {
          "text": "Ban Rate"
         }
        }
       }
      }
     },
     "metadata": {},
     "output_type": "display_data"
    }
   ],
   "source": [
    "ban_rate_per_team_df = df_transformed.drop(columns=[\"side\"]).groupby(by=[\"team\"]).mean().reset_index()\n",
    "\n",
    "ban_rate_per_team_df = pd.melt(ban_rate_per_team_df, id_vars=['team'], var_name='champion', value_name='ban rate')\n",
    "ban_rate_per_team_df = ban_rate_per_team_df.sort_values(by=\"ban rate\", ascending=False)\n",
    "ban_rate_per_team_df\n",
    "major_teams = df_reduced[df_reduced['league'].isin(['LEC', 'LPL', 'LCK', 'LCS'])][\"t1_name\"].unique()  # Every team in t1 is also in t2\n",
    "ban_rate_per_team_df = ban_rate_per_team_df[ban_rate_per_team_df[\"team\"].isin(major_teams)]\n",
    "ban_rate_per_team_df = ban_rate_per_team_df.head(5)\n",
    "\n",
    "fig = px.bar(\n",
    "    ban_rate_per_team_df,\n",
    "    x=\"champion\",\n",
    "    y=\"ban rate\",\n",
    "    color_discrete_sequence=[\"royalblue\"],\n",
    "    title=\"Highest Ban-Rate Champions against Teams\",\n",
    "    labels={\"champion\": \"Champion\", \"ban_rate\": \"Ban Rate\", \"team_name\": \"Team\"},\n",
    "    text=\"ban rate\"\n",
    ")\n",
    "\n",
    "for index, x in enumerate(fig.data[0].x):\n",
    "        ban = \"\".join([c for c in x if c not in \"' \"])\n",
    "        fig.add_layout_image(\n",
    "            source=f\"assets/champion/{ban}.png\",\n",
    "            x=x, y=0.205,\n",
    "            xref=\"x\", yref=\"y\",\n",
    "            xanchor=\"center\",\n",
    "            sizex=0.25, sizey=0.25,\n",
    "        )\n",
    "        fig.add_annotation(\n",
    "                    x=x,\n",
    "                    y=0.28,\n",
    "                    xref=\"x\",\n",
    "                    yref=\"y\",\n",
    "                    text=f\"<b>{ban_rate_per_team_df.iloc[index]['team']}<br><i>{x} </i></b>\",\n",
    "                    align=\"center\",\n",
    "                    showarrow=False,\n",
    "                    font=dict(color=\"black\"),\n",
    "                    borderwidth=2,\n",
    "                    borderpad=4,\n",
    "                    opacity=0.8\n",
    "                )\n",
    "\n",
    "fig.update_layout(xaxis={\"visible\":False})\n",
    "\n",
    "fig.update_traces(texttemplate='%{text:.2%}', textposition='inside')\n",
    "fig.update_layout(xaxis_title=\"Champion\", yaxis_title=\"Ban Rate\", legend_title=\"Team\")\n",
    "fig.show()"
   ]
  }
 ],
 "metadata": {
  "kernelspec": {
   "display_name": "Python 3",
   "language": "python",
   "name": "python3"
  },
  "language_info": {
   "codemirror_mode": {
    "name": "ipython",
    "version": 3
   },
   "file_extension": ".py",
   "mimetype": "text/x-python",
   "name": "python",
   "nbconvert_exporter": "python",
   "pygments_lexer": "ipython3",
   "version": "3.8.8"
  }
 },
 "nbformat": 4,
 "nbformat_minor": 2
}
